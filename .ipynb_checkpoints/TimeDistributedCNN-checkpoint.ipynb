{
 "cells": [
  {
   "cell_type": "code",
   "execution_count": 1,
   "id": "2e284a73",
   "metadata": {},
   "outputs": [],
   "source": [
    "import numpy as np\n",
    "import pandas as pd\n",
    "df=pd.read_csv(r\"C:\\Users\\23059\\OneDrive\\Desktop\\Amiira\\Y3S1\\fyp\\FraudDetectionData.csv\")"
   ]
  },
  {
   "cell_type": "code",
   "execution_count": 2,
   "id": "6967395c",
   "metadata": {},
   "outputs": [
    {
     "name": "stdout",
     "output_type": "stream",
     "text": [
      "0    6354407\n",
      "1       8213\n",
      "Name: isFraud, dtype: int64\n"
     ]
    }
   ],
   "source": [
    "import pandas as pd\n",
    "\n",
    "# Count the number of 0s and 1s in the 'isFraud' column\n",
    "fraud_counts = df['isFraud'].value_counts()\n",
    "\n",
    "# Print the result\n",
    "print(fraud_counts)"
   ]
  },
  {
   "cell_type": "code",
   "execution_count": 3,
   "id": "90f5758d",
   "metadata": {},
   "outputs": [],
   "source": [
    "from sklearn.preprocessing import LabelEncoder\n",
    "le = LabelEncoder()\n",
    "label = le.fit_transform(df['type'])\n",
    "label\n",
    "df.drop(\"type\", axis=1, inplace=True)\n",
    "df[\"type\"] = label\n",
    "\n",
    "from sklearn.preprocessing import LabelEncoder\n",
    "le = LabelEncoder()\n",
    "label = le.fit_transform(df['nameDest'])\n",
    "label\n",
    "df.drop(\"nameDest\", axis=1, inplace=True)\n",
    "df[\"nameDest\"] = label\n",
    "\n",
    "from sklearn.preprocessing import LabelEncoder\n",
    "le = LabelEncoder()\n",
    "label = le.fit_transform(df['nameOrig'])\n",
    "label\n",
    "df.drop(\"nameOrig\", axis=1, inplace=True)\n",
    "df[\"nameOrig\"] = label"
   ]
  },
  {
   "cell_type": "code",
   "execution_count": 4,
   "id": "1686257b",
   "metadata": {},
   "outputs": [],
   "source": [
    "X = df.drop('isFraud', axis=1)\n",
    "# Separate the target variable\n",
    "y = df['isFraud']"
   ]
  },
  {
   "cell_type": "code",
   "execution_count": 5,
   "id": "aa9c0e3e",
   "metadata": {},
   "outputs": [],
   "source": [
    "from imblearn.over_sampling import SMOTE\n",
    "\n",
    "#Upsampling via SMOTE\n",
    "smote = SMOTE(sampling_strategy=0.55, random_state=0)\n",
    "\n",
    "# Fit and apply the resampler to the entire dataset\n",
    "X_resampled, y_resampled = smote.fit_resample(X, y)"
   ]
  },
  {
   "cell_type": "code",
   "execution_count": 6,
   "id": "7c315299",
   "metadata": {},
   "outputs": [
    {
     "name": "stdout",
     "output_type": "stream",
     "text": [
      "0    6354407\n",
      "1    3494923\n",
      "Name: isFraud, dtype: int64\n"
     ]
    }
   ],
   "source": [
    "counts = y_resampled.value_counts()\n",
    "print(counts)"
   ]
  },
  {
   "cell_type": "code",
   "execution_count": 7,
   "id": "1f608e54",
   "metadata": {},
   "outputs": [],
   "source": [
    "import csv\n",
    "import random\n",
    "\n",
    "# number of data points to sample from original dataset\n",
    "k= 1500000\n",
    "\n",
    "def reservoir_sampling(iterable, k, header=True):\n",
    "    reservoir = []\n",
    "    for i, item in enumerate(iterable):\n",
    "        if i < k:\n",
    "            reservoir.append(item)\n",
    "        else:\n",
    "            j = random.randint(0, i)\n",
    "            if j < k:\n",
    "                reservoir[j] = item\n",
    "    return reservoir\n",
    "\n",
    "# Open the input CSV file\n",
    "with open(r\"C:\\Users\\23059\\OneDrive\\Desktop\\Amiira\\Y3S1\\fyp\\FraudDetectionData.csv\") as f:\n",
    "    # Check if header line exists\n",
    "    header = True\n",
    "    first_line = f.readline()\n",
    "    if not first_line.startswith('step,type,amount,nameOrig,oldbalanceOrg,newbalanceOrig,nameDest,oldbalanceDest,newbalanceDest,isFraud,isFlaggedFraud'):\n",
    "        header = False\n",
    "        f.seek(0)  # Rewind file pointer to beginning\n",
    "\n",
    "    # Sample from remaining lines\n",
    "    sampled_lines = []\n",
    "    for i, line in enumerate(f):\n",
    "        if i < k:\n",
    "            sampled_lines.append(line)\n",
    "        else:\n",
    "            j = random.randint(0, i)\n",
    "            if j < k:\n",
    "                sampled_lines[j] = line\n",
    "\n",
    "# Open the output CSV file and write the subsample to it\n",
    "with open(r\"C:\\Users\\23059\\OneDrive\\Desktop\\Amiira\\Y3S1\\fyp\\transfer_learning.csv\", mode='w', newline='') as f:\n",
    "    writer = csv.writer(f)\n",
    "    if header:\n",
    "        writer.writerow(first_line.strip().split(','))\n",
    "    for line in sampled_lines:\n",
    "        writer.writerow(line.strip().split(','))"
   ]
  },
  {
   "cell_type": "code",
   "execution_count": 8,
   "id": "50e84f1b",
   "metadata": {},
   "outputs": [],
   "source": [
    "df_sample_big=pd.read_csv(r\"C:\\Users\\23059\\OneDrive\\Desktop\\Amiira\\Y3S1\\fyp\\transfer_learning.csv\")"
   ]
  },
  {
   "cell_type": "code",
   "execution_count": 9,
   "id": "df0a09a4",
   "metadata": {},
   "outputs": [
    {
     "name": "stdout",
     "output_type": "stream",
     "text": [
      "0    0.99874\n",
      "1    0.00126\n",
      "Name: isFraud, dtype: float64\n",
      "0    0.645161\n",
      "1    0.354839\n",
      "Name: isFraud, dtype: float64\n",
      "0    0.645162\n",
      "1    0.354838\n",
      "Name: isFraud, dtype: float64\n"
     ]
    }
   ],
   "source": [
    "from sklearn.model_selection import train_test_split\n",
    "\n",
    "X = df_sample_big.drop('isFraud', axis=1)\n",
    "# Separate the target variable\n",
    "y = df_sample_big['isFraud']\n",
    "\n",
    "# Print class distribution before split\n",
    "print(y.value_counts(normalize=True))\n",
    "\n",
    "from sklearn.model_selection import train_test_split\n",
    "\n",
    "# Assuming X contains your features and y contains your target variable\n",
    "X_train, X_test, y_train, y_test = train_test_split(X_resampled, y_resampled, test_size=0.1, stratify=y_resampled, random_state=2)\n",
    "\n",
    "# Print class distribution after split\n",
    "print(y_train.value_counts(normalize=True))\n",
    "print(y_test.value_counts(normalize=True))"
   ]
  },
  {
   "cell_type": "code",
   "execution_count": 10,
   "id": "0fc3df88",
   "metadata": {},
   "outputs": [],
   "source": [
    "from imblearn.under_sampling import TomekLinks\n",
    "\n",
    "#Resample using TomekLinks first\n",
    "tomek_links = TomekLinks(sampling_strategy='majority')\n",
    "X_train_resampled, y_train_resampled = tomek_links.fit_resample(X_train, y_train)"
   ]
  },
  {
   "cell_type": "code",
   "execution_count": 11,
   "id": "fb10e08a",
   "metadata": {},
   "outputs": [],
   "source": [
    "from imblearn.under_sampling import TomekLinks, EditedNearestNeighbours,OneSidedSelection\n",
    "# resample the output of TomekLinks using EditedNearestNeighbours\n",
    "enn = EditedNearestNeighbours(sampling_strategy='majority')\n",
    "X_train_resampled_new, y_train_resampled_new = enn.fit_resample(X_train_resampled, y_train_resampled)"
   ]
  },
  {
   "cell_type": "code",
   "execution_count": 12,
   "id": "215a6d2c",
   "metadata": {},
   "outputs": [],
   "source": [
    "from imblearn.under_sampling import OneSidedSelection\n",
    "# resample the output of EditedNearestNeighbours using One-Sided Selection\n",
    "oss = OneSidedSelection(sampling_strategy='majority')\n",
    "X_train_resampled_final, y_train_resampled_final = oss.fit_resample(X_train_resampled_new, y_train_resampled_new)"
   ]
  },
  {
   "cell_type": "code",
   "execution_count": 13,
   "id": "4fab36a6",
   "metadata": {},
   "outputs": [
    {
     "name": "stderr",
     "output_type": "stream",
     "text": [
      "C:\\Users\\23059\\anaconda3\\envs\\test2\\lib\\site-packages\\ipykernel_launcher.py:11: SettingWithCopyWarning: \n",
      "A value is trying to be set on a copy of a slice from a DataFrame\n",
      "\n",
      "See the caveats in the documentation: https://pandas.pydata.org/pandas-docs/stable/user_guide/indexing.html#returning-a-view-versus-a-copy\n",
      "  # This is added back by InteractiveShellApp.init_path()\n"
     ]
    },
    {
     "name": "stdout",
     "output_type": "stream",
     "text": [
      "         step         amount  oldbalanceOrg  newbalanceOrig  oldbalanceDest  \\\n",
      "0         398   96046.150000     576.000000             0.0        0.000000   \n",
      "1         144    9664.660000     135.000000             0.0        0.000000   \n",
      "2         212    3535.920000  101588.000000             0.0        0.000000   \n",
      "3         284   18362.990000   25965.350000             0.0     5311.241300   \n",
      "4         349  137265.306917       0.000000             0.0     5311.241300   \n",
      "...       ...            ...            ...             ...             ...   \n",
      "8823989    93  137265.306917   62831.000000             0.0     5311.241300   \n",
      "8823990   285  137265.306917   62831.000000             0.0       32.745541   \n",
      "8823991   327  137265.306917   62831.000000             0.0     5311.241300   \n",
      "8823992   323  100140.215276  100140.215276             0.0        0.000000   \n",
      "8823993   409  165893.714023  165893.714023             0.0        0.000000   \n",
      "\n",
      "         newbalanceDest  isFlaggedFraud  type  nameDest  nameOrig  \n",
      "0                  0.00               0     0    261895   3931740  \n",
      "1                  0.00               0     3    363417   4689675  \n",
      "2                  0.00               0     3    363417   6273104  \n",
      "3             454376.74               0     1    219987   3794825  \n",
      "4             148836.53               0     1     74881   4634690  \n",
      "...                 ...             ...   ...       ...       ...  \n",
      "8823989       148836.53               0     1    512921   4287954  \n",
      "8823990       148836.53               0     1    172487   4600375  \n",
      "8823991       148836.53               0     1    398384   6175542  \n",
      "8823992            0.00               0     1    520687   4995382  \n",
      "8823993            0.00               0     1    259919   5022268  \n",
      "\n",
      "[8823994 rows x 10 columns]\n",
      "         step         amount  oldbalanceOrg  newbalanceOrig  oldbalanceDest  \\\n",
      "2360459   190   21833.020000   92575.000000             0.0        0.000000   \n",
      "8700837   279  137045.460000   62889.650000             0.0     6164.889532   \n",
      "521794     20  129859.140000   61526.000000             0.0        0.000000   \n",
      "4379310   311    9871.080000   32601.000000             0.0        0.000000   \n",
      "4114157   302  238620.050000   62889.650000             0.0     6164.889532   \n",
      "...       ...            ...            ...             ...             ...   \n",
      "2373669   191    6478.050000       0.000000             0.0        0.000000   \n",
      "7789754   482  172469.674581  172469.674581             0.0        0.000000   \n",
      "8995101   470  137045.460000   62889.650000             0.0        0.000000   \n",
      "1976688   178  137045.460000       0.000000             0.0     6164.889532   \n",
      "6974382   371  239589.729651   62889.650000             0.0     6164.889532   \n",
      "\n",
      "         newbalanceDest  isFlaggedFraud  type  nameDest  nameOrig  \n",
      "2360459        0.000000               0     3    362801   2819095  \n",
      "8700837   150045.630000               0     1    398262   5440294  \n",
      "521794    129859.140000               0     1    389130    389004  \n",
      "4379310        0.000000               0     3    362801   2437025  \n",
      "4114157   150045.630000               0     0    305716   5493566  \n",
      "...                 ...             ...   ...       ...       ...  \n",
      "2373669        0.000000               0     3    362801   2471315  \n",
      "7789754        0.000000               0     1    112757   5355854  \n",
      "8995101        0.000000               0     1    310868   4216750  \n",
      "1976688   150045.630000               0     1    190848   5951678  \n",
      "6974382   380421.008028               0     1    419322   1373766  \n",
      "\n",
      "[984933 rows x 10 columns]\n"
     ]
    }
   ],
   "source": [
    "# import the necessary libraries\n",
    "import pandas as pd\n",
    "import numpy as np\n",
    "# convert X_test to a pandas dataframe\n",
    "X_test = pd.DataFrame(X_test, columns=X_train_resampled_final.columns)\n",
    "# define a function to replace outliers with MAD for a single column\n",
    "def replace_outliers_with_mad(column):\n",
    "    median = np.median(column)\n",
    "    mad = np.median(np.abs(column - median))\n",
    "    threshold = 2.5 * mad\n",
    "    column[np.abs(column - median) > threshold] = median\n",
    "    return column\n",
    "\n",
    "# apply the function to all columns of X_train_resampled_final\n",
    "for i in range(X_train_resampled_final.shape[1]):\n",
    "    X_train_resampled_final.iloc[:, i] = replace_outliers_with_mad(X_train_resampled_final.iloc[:, i])\n",
    "\n",
    "# apply the function to all columns of X_test\n",
    "for i in range(X_test.shape[1]):\n",
    "    X_test.iloc[:, i] = replace_outliers_with_mad(X_test.iloc[:, i])\n",
    "\n",
    "# convert the numpy arrays back to pandas dataframes\n",
    "X_train_resampled_final = pd.DataFrame(X_train_resampled_final, columns=X_train_resampled_final.columns)\n",
    "X_test = pd.DataFrame(X_test, columns=X_test.columns)\n",
    "\n",
    "# print the modified dataframes\n",
    "print(X_train_resampled_final)\n",
    "print(X_test)"
   ]
  },
  {
   "cell_type": "code",
   "execution_count": 14,
   "id": "d754de63",
   "metadata": {},
   "outputs": [],
   "source": [
    "df_sample_big = df_sample_big.reset_index(drop=True)"
   ]
  },
  {
   "cell_type": "code",
   "execution_count": 15,
   "id": "42db8ce0",
   "metadata": {},
   "outputs": [],
   "source": [
    "X_train_resampled_final = X_train_resampled_final.reset_index(drop=True)"
   ]
  },
  {
   "cell_type": "code",
   "execution_count": 16,
   "id": "915a3b8a",
   "metadata": {},
   "outputs": [],
   "source": [
    "y_train_resampled_final = y_train_resampled_final.reset_index(drop=True)"
   ]
  },
  {
   "cell_type": "code",
   "execution_count": 84,
   "id": "530461b6",
   "metadata": {},
   "outputs": [
    {
     "name": "stdout",
     "output_type": "stream",
     "text": [
      "Epoch 1/10\n",
      "WARNING:tensorflow:AutoGraph could not transform <function Model.make_train_function.<locals>.train_function at 0x0000025A8DF67E58> and will run it as-is.\n",
      "Please report this to the TensorFlow team. When filing the bug, set the verbosity to 10 (on Linux, `export AUTOGRAPH_VERBOSITY=10`) and attach the full output.\n",
      "Cause: 'arguments' object has no attribute 'posonlyargs'\n",
      "To silence this warning, decorate the function with @tf.autograph.experimental.do_not_convert\n",
      "WARNING: AutoGraph could not transform <function Model.make_train_function.<locals>.train_function at 0x0000025A8DF67E58> and will run it as-is.\n",
      "Please report this to the TensorFlow team. When filing the bug, set the verbosity to 10 (on Linux, `export AUTOGRAPH_VERBOSITY=10`) and attach the full output.\n",
      "Cause: 'arguments' object has no attribute 'posonlyargs'\n",
      "To silence this warning, decorate the function with @tf.autograph.experimental.do_not_convert\n",
      "137875/137875 [==============================] - 682s 5ms/step - loss: 0.8562 - accuracy: 0.6436\n",
      "Epoch 2/10\n",
      "137875/137875 [==============================] - 667s 5ms/step - loss: 0.6537 - accuracy: 0.6435\n",
      "Epoch 3/10\n",
      "137875/137875 [==============================] - 680s 5ms/step - loss: 0.6514 - accuracy: 0.6435\n",
      "Epoch 4/10\n",
      "137875/137875 [==============================] - 695s 5ms/step - loss: 0.6514 - accuracy: 0.6435\n",
      "Epoch 5/10\n",
      "137875/137875 [==============================] - 723s 5ms/step - loss: 0.6514 - accuracy: 0.6435\n",
      "Epoch 6/10\n",
      "137875/137875 [==============================] - 758s 5ms/step - loss: 0.6514 - accuracy: 0.6435\n",
      "Epoch 7/10\n",
      "137875/137875 [==============================] - 807s 6ms/step - loss: 0.6514 - accuracy: 0.6435\n",
      "Epoch 8/10\n",
      "137875/137875 [==============================] - 878s 6ms/step - loss: 0.6514 - accuracy: 0.6435\n",
      "Epoch 9/10\n",
      "137875/137875 [==============================] - 913s 7ms/step - loss: 0.6514 - accuracy: 0.6435\n",
      "Epoch 10/10\n",
      "137875/137875 [==============================] - 1008s 7ms/step - loss: 0.6514 - accuracy: 0.6435\n"
     ]
    },
    {
     "data": {
      "text/plain": [
       "<keras.callbacks.History at 0x25a8df7ee88>"
      ]
     },
     "execution_count": 84,
     "metadata": {},
     "output_type": "execute_result"
    }
   ],
   "source": [
    "# Define the model architecture\n",
    "model = Sequential()\n",
    "model.add(TimeDistributed(Conv1D(filters=64, kernel_size=3, activation='relu'), input_shape=(None,10, 1)))\n",
    "model.add(TimeDistributed(Conv1D(filters=64, kernel_size=3, activation='relu')))\n",
    "model.add(TimeDistributed(Flatten()))\n",
    "model.add(LSTM(50, activation='relu'))\n",
    "model.add(Dense(1, activation='sigmoid'))\n",
    "\n",
    "# Compile the model\n",
    "model.compile(loss='binary_crossentropy', optimizer='adam', metrics=['accuracy'])\n",
    "\n",
    "import numpy as np\n",
    "\n",
    "# Convert DataFrame to numpy array\n",
    "X_train_resampled_final_arr = X_train_resampled_final.values\n",
    "\n",
    "X_train_resampled_final_arr = X_train_resampled_final_arr.reshape(X_train_resampled_final_arr.shape[0], 1, 10, 1)\n",
    "\n",
    "# Train the model\n",
    "model.fit(X_train_resampled_final_arr, y_train_resampled_final, epochs=10, batch_size=64)"
   ]
  },
  {
   "cell_type": "code",
   "execution_count": 92,
   "id": "f9d899d8",
   "metadata": {},
   "outputs": [
    {
     "name": "stdout",
     "output_type": "stream",
     "text": [
      "30780/30780 [==============================] - 95s 3ms/step - loss: 0.6503 - accuracy: 0.6452\n",
      "30780/30780 [==============================] - 81s 3ms/step\n",
      "Test Loss: 0.6503358483314514\n",
      "F1 Score: 0.5238091312737696\n",
      "Precision: 0.354838349410569\n",
      "Recall: 1.0\n"
     ]
    }
   ],
   "source": [
    "import numpy as np\n",
    "\n",
    "# Convert DataFrame to numpy array\n",
    "X_test_arr = np.array(X_test.values)\n",
    "\n",
    "X_test_arr = X_test_arr.reshape(X_test_arr.shape[0], 1, 10, 1)\n",
    "\n",
    "# Evaluate the model on the test set\n",
    "loss, accuracy = model.evaluate(X_test_arr, y_test)\n",
    "\n",
    "# Generate predicted probabilities for the test set\n",
    "y_pred_prob = model.predict(X_test_arr)\n",
    "\n",
    "# Set the threshold for converting probabilities to class labels\n",
    "threshold = 0.1\n",
    "\n",
    "# Convert predicted probabilities to class labels using the threshold\n",
    "y_pred = (y_pred_prob > threshold).astype(int)\n",
    "\n",
    "# Calculate the f1 score, precision, and recall\n",
    "from sklearn.metrics import f1_score, precision_score, recall_score\n",
    "f1 = f1_score(y_test, y_pred)\n",
    "precision = precision_score(y_test, y_pred)\n",
    "recall = recall_score(y_test, y_pred)\n",
    "\n",
    "# Print the evaluation metrics\n",
    "print('Test Loss:', loss)\n",
    "# print('Test Accuracy:', accuracy)\n",
    "print('F1 Score:', f1)\n",
    "print('Precision:', precision)\n",
    "print('Recall:', recall)"
   ]
  },
  {
   "cell_type": "code",
   "execution_count": 93,
   "id": "2b693016",
   "metadata": {},
   "outputs": [
    {
     "name": "stdout",
     "output_type": "stream",
     "text": [
      "30780/30780 [==============================] - 87s 3ms/step\n"
     ]
    },
    {
     "data": {
      "image/png": "[encoded data removed]",
      "text/plain": [
       "<Figure size 640x480 with 1 Axes>"
      ]
     },
     "metadata": {},
     "output_type": "display_data"
    }
   ],
   "source": [
    "from sklearn.metrics import roc_curve, auc\n",
    "import matplotlib.pyplot as plt\n",
    "\n",
    "# Generate predicted probabilities for the test set\n",
    "y_pred_prob = model.predict(X_test_arr)\n",
    "\n",
    "# Compute ROC curve and ROC area for each class\n",
    "fpr, tpr, thresholds = roc_curve(y_test, y_pred_prob)\n",
    "roc_auc = auc(fpr, tpr)\n",
    "\n",
    "# Plot ROC curve\n",
    "plt.figure()\n",
    "plt.plot(fpr, tpr, color='darkorange', lw=2, label='ROC curve (area = %0.2f)' % roc_auc)\n",
    "plt.plot([0, 1], [0, 1], color='navy', lw=2, linestyle='--')\n",
    "plt.xlim([0.0, 1.0])\n",
    "plt.ylim([0.0, 1.05])\n",
    "plt.xlabel('False Positive Rate')\n",
    "plt.ylabel('True Positive Rate')\n",
    "plt.title('Receiver Operating Characteristic')\n",
    "plt.legend(loc=\"lower right\")\n",
    "plt.show()"
   ]
  },
  {
   "cell_type": "code",
   "execution_count": 79,
   "id": "b2452713",
   "metadata": {},
   "outputs": [
    {
     "name": "stdout",
     "output_type": "stream",
     "text": [
      "Model: \"sequential_46\"\n",
      "_________________________________________________________________\n",
      " Layer (type)                Output Shape              Param #   \n",
      "=================================================================\n",
      " time_distributed_29 (TimeDi  (None, None, 8, 64)      256       \n",
      " stributed)                                                      \n",
      "                                                                 \n",
      " time_distributed_30 (TimeDi  (None, None, 6, 64)      12352     \n",
      " stributed)                                                      \n",
      "                                                                 \n",
      " time_distributed_31 (TimeDi  (None, None, 384)        0         \n",
      " stributed)                                                      \n",
      "                                                                 \n",
      " lstm_36 (LSTM)              (None, 50)                87000     \n",
      "                                                                 \n",
      " dense_26 (Dense)            (None, 1)                 51        \n",
      "                                                                 \n",
      "=================================================================\n",
      "Total params: 99,659\n",
      "Trainable params: 99,659\n",
      "Non-trainable params: 0\n",
      "_________________________________________________________________\n"
     ]
    }
   ],
   "source": [
    "model.summary()"
   ]
  },
  {
   "cell_type": "code",
   "execution_count": 96,
   "id": "acdaaa84",
   "metadata": {},
   "outputs": [
    {
     "data": {
      "image/png": "[encoded data removed]",
      "text/plain": [
       "<IPython.core.display.Image object>"
      ]
     },
     "execution_count": 96,
     "metadata": {},
     "output_type": "execute_result"
    }
   ],
   "source": [
    "from keras.utils import plot_model\n",
    "plot_model(model, to_file='a_new.png', show_shapes=True)"
   ]
  }
 ],
 "metadata": {
  "kernelspec": {
   "display_name": "Python 3 (ipykernel)",
   "language": "python",
   "name": "python3"
  },
  "language_info": {
   "codemirror_mode": {
    "name": "ipython",
    "version": 3
   },
   "file_extension": ".py",
   "mimetype": "text/x-python",
   "name": "python",
   "nbconvert_exporter": "python",
   "pygments_lexer": "ipython3",
   "version": "3.7.16"
  }
 },
 "nbformat": 4,
 "nbformat_minor": 5
}
