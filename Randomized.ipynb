{
 "cells": [
  {
   "cell_type": "code",
   "execution_count": 1,
   "id": "36751d5c",
   "metadata": {},
   "outputs": [],
   "source": [
    "import numpy as np\n",
    "import pandas as pd"
   ]
  },
  {
   "cell_type": "code",
   "execution_count": 2,
   "id": "e4bd0f18",
   "metadata": {},
   "outputs": [],
   "source": [
    "df = pd.read_csv(r\"C:\\Users\\23059\\OneDrive\\Desktop\\Amiira\\Y3S1\\fyp\\FraudDetectionData.csv\")"
   ]
  },
  {
   "cell_type": "code",
   "execution_count": 3,
   "id": "6224bfe8",
   "metadata": {},
   "outputs": [],
   "source": [
    "# Importing LabelEncoder from Sklearn\n",
    "# library from preprocessing Module.\n",
    "from sklearn.preprocessing import LabelEncoder\n",
    "# Creating a instance of label Encoder.\n",
    "le = LabelEncoder()\n",
    "# Using .fit_transform function to fit label\n",
    "# encoder and return encoded label\n",
    "label = le.fit_transform(df['type'])\n",
    "# printing label\n",
    "label\n",
    "# removing the column 'type' from df\n",
    "# as it is of no use now.\n",
    "df.drop(\"type\", axis=1, inplace=True)\n",
    "# Appending the array to our dataFrame\n",
    "# with column name 'type'\n",
    "df[\"type\"] = label\n",
    "# printing Dataframe\n",
    "#df"
   ]
  },
  {
   "cell_type": "code",
   "execution_count": 4,
   "id": "a7a48f86",
   "metadata": {},
   "outputs": [],
   "source": [
    "from sklearn.preprocessing import LabelEncoder\n",
    "le = LabelEncoder()\n",
    "label = le.fit_transform(df['nameDest'])\n",
    "label\n",
    "df.drop(\"nameDest\", axis=1, inplace=True)\n",
    "df[\"nameDest\"] = label\n",
    "#df"
   ]
  },
  {
   "cell_type": "code",
   "execution_count": 5,
   "id": "e9ad34d4",
   "metadata": {},
   "outputs": [],
   "source": [
    "from sklearn.preprocessing import LabelEncoder\n",
    "le = LabelEncoder()\n",
    "label = le.fit_transform(df['nameOrig'])\n",
    "label\n",
    "df.drop(\"nameOrig\", axis=1, inplace=True)\n",
    "df[\"nameOrig\"] = label\n",
    "#df"
   ]
  },
  {
   "cell_type": "code",
   "execution_count": 6,
   "id": "ee6b35d5",
   "metadata": {},
   "outputs": [
    {
     "name": "stdout",
     "output_type": "stream",
     "text": [
      "0    0.998709\n",
      "1    0.001291\n",
      "Name: isFraud, dtype: float64\n",
      "0    0.998709\n",
      "1    0.001291\n",
      "Name: isFraud, dtype: float64\n",
      "0    0.99871\n",
      "1    0.00129\n",
      "Name: isFraud, dtype: float64\n"
     ]
    }
   ],
   "source": [
    "from sklearn.model_selection import train_test_split\n",
    "\n",
    "X = df.drop('isFraud', axis=1)\n",
    "# Separate the target variable\n",
    "y = df['isFraud']\n",
    "\n",
    "# Print class distribution before split\n",
    "print(y.value_counts(normalize=True))\n",
    "\n",
    "from sklearn.model_selection import train_test_split\n",
    "\n",
    "# Assuming X contains your features and y contains your target variable\n",
    "X_train, X_test, y_train, y_test = train_test_split(X, y, test_size=0.1, stratify=y, random_state=18)\n",
    "\n",
    "# Print class distribution after split\n",
    "print(y_train.value_counts(normalize=True))\n",
    "print(y_test.value_counts(normalize=True))"
   ]
  },
  {
   "cell_type": "code",
   "execution_count": 7,
   "id": "2393e56e",
   "metadata": {},
   "outputs": [
    {
     "name": "stdout",
     "output_type": "stream",
     "text": [
      "Train set trimmed means:  {'amount': 84277.48698369777, 'oldbalanceOrg': 17615.975719660066, 'newbalanceOrig': 12168.5707546509, 'oldbalanceDest': 191025.89008494822, 'newbalanceDest': 245126.72381359068}\n"
     ]
    }
   ],
   "source": [
    "import random\n",
    "random.seed (20)\n",
    "import numpy as np\n",
    "from scipy import stats\n",
    "\n",
    "# Specify columns with outliers\n",
    "cols_with_outliers = ['amount', 'oldbalanceOrg', 'newbalanceOrig', 'oldbalanceDest', 'newbalanceDest']\n",
    "\n",
    "# Specify the number of bootstrapped samples to create per column\n",
    "num_samples = 50\n",
    "\n",
    "# Specify the right trimming proportions for each column\n",
    "trim_props = {'amount': 0.14, 'oldbalanceOrg': 0.24, 'newbalanceOrig': 0.25, 'oldbalanceDest': 0.22, 'newbalanceDest': 0.22}\n",
    "\n",
    "# Initialize empty dictionaries to store the trimmed means for each column\n",
    "train_trimmed_means = {}\n",
    "\n",
    "# Loop over the specified columns\n",
    "for col_name in cols_with_outliers:\n",
    "    \n",
    "    # Check if the trimming proportion for this column is 0\n",
    "    if trim_props[col_name] == 0:\n",
    "        # If so, skip this column and move on to the next one\n",
    "        continue\n",
    "    \n",
    "    # Initialize empty lists to store the bootstrapped samples and the trimmed means for the training set\n",
    "    train_bootstrapped_samples = []\n",
    "    train_trimmed_means_list = []\n",
    "    \n",
    "    # Loop over the number of desired samples\n",
    "    for i in range(num_samples):\n",
    "        # Randomly select indices from the column in the training set\n",
    "        train_sample_indices = np.random.choice(X_train.index, size=len(X_train), replace=True)\n",
    "        \n",
    "        # Create a bootstrapped sample by indexing into the column with the selected indices for the training set\n",
    "        train_sample = X_train.loc[train_sample_indices, col_name]\n",
    "        \n",
    "        # Append the bootstrapped samples to the list for the training set\n",
    "        train_bootstrapped_samples.append(train_sample)\n",
    "        \n",
    "        # Calculate the right trimmed mean of the bootstrapped sample for the training set\n",
    "        train_right_trimmed_mean = np.mean(train_sample[train_sample <= np.percentile(train_sample, 100*(1-trim_props[col_name]))])\n",
    "        train_trimmed_means_list.append(train_right_trimmed_mean)\n",
    "        \n",
    "    # Calculate the mean of the right trimmed means for the training set and add it to the dictionary\n",
    "    train_trimmed_means[col_name] = np.mean(train_trimmed_means_list)\n",
    "\n",
    "    # Replace the outliers in the training set with the trimmed means\n",
    "    X_train.loc[X_train[col_name] > np.percentile(X_train[col_name], 100*(1-trim_props[col_name])), col_name] = train_trimmed_means[col_name]\n",
    "\n",
    "# Print the trimmed means for each column separately for the training set\n",
    "print(\"Train set trimmed means: \", train_trimmed_means)"
   ]
  },
  {
   "cell_type": "code",
   "execution_count": 8,
   "id": "92fdd1a9",
   "metadata": {},
   "outputs": [],
   "source": [
    "# Convert float64 columns to float32\n",
    "float64_cols = df.select_dtypes(include=['float64']).columns\n",
    "df[float64_cols] = df[float64_cols].astype('float32')"
   ]
  },
  {
   "cell_type": "markdown",
   "id": "d4e69302",
   "metadata": {},
   "source": [
    "## FS Random Forest"
   ]
  },
  {
   "cell_type": "code",
   "execution_count": 9,
   "id": "3a82efd3",
   "metadata": {},
   "outputs": [
    {
     "name": "stdout",
     "output_type": "stream",
     "text": [
      "Index(['newbalanceDest', 'step', 'oldbalanceOrg'], dtype='object')\n"
     ]
    }
   ],
   "source": [
    "from sklearn.ensemble import RandomForestClassifier\n",
    "# Select top features using Random Forest\n",
    "rf = RandomForestClassifier(random_state=18)\n",
    "rf.fit(X_train, y_train)\n",
    "importances = rf.feature_importances_\n",
    "indices = np.argsort(importances)[::-1]\n",
    "top_features = X_train.columns[indices][:5]  # select top 5 features\n",
    "print(top_features )"
   ]
  },
  {
   "cell_type": "code",
   "execution_count": 10,
   "id": "00d7ff2b",
   "metadata": {},
   "outputs": [
    {
     "data": {
      "image/png": "[encoded data removed]",
      "text/plain": [
       "<Figure size 700x500 with 1 Axes>"
      ]
     },
     "metadata": {},
     "output_type": "display_data"
    }
   ],
   "source": [
    "import matplotlib.pyplot as plt\n",
    "# Plot feature importances\n",
    "plt.figure(figsize=(7, 5))\n",
    "plt.title(\"Feature importances\")\n",
    "plt.bar(range(len(indices)), importances[indices])\n",
    "plt.xticks(range(len(indices)), X_train.columns[indices], rotation=90)\n",
    "plt.tight_layout()\n",
    "plt.show()"
   ]
  },
  {
   "cell_type": "code",
   "execution_count": 11,
   "id": "f4ebbe17",
   "metadata": {},
   "outputs": [],
   "source": [
    "# Subset X_train to include only selected features\n",
    "X_train_selected = X_train[top_features]"
   ]
  },
  {
   "cell_type": "markdown",
   "id": "28bee823",
   "metadata": {},
   "source": [
    "## Tuning with selected features"
   ]
  },
  {
   "cell_type": "code",
   "execution_count": 12,
   "id": "8e4a61a3",
   "metadata": {},
   "outputs": [],
   "source": [
    "# param_grid = { \n",
    "#     'n_estimators': [100,300],\n",
    "#     'max_features': ['auto', 'sqrt', 'log2'],\n",
    "#     'max_depth' : [3,4,5],\n",
    "#     'criterion' :['gini', 'entropy']\n",
    "# }"
   ]
  },
  {
   "cell_type": "code",
   "execution_count": 13,
   "id": "7db49daa",
   "metadata": {},
   "outputs": [],
   "source": [
    "# from sklearn.model_selection import GridSearchCV"
   ]
  },
  {
   "cell_type": "code",
   "execution_count": 14,
   "id": "e3884b00",
   "metadata": {},
   "outputs": [],
   "source": [
    "# clf = GridSearchCV(rf, param_grid = param_grid, cv = 3, verbose=True)"
   ]
  },
  {
   "cell_type": "code",
   "execution_count": 15,
   "id": "bc60165d",
   "metadata": {},
   "outputs": [],
   "source": [
    "# best_clf = clf.fit(X_train_selected,y_train)"
   ]
  },
  {
   "cell_type": "code",
   "execution_count": null,
   "id": "34b88490",
   "metadata": {},
   "outputs": [],
   "source": [
    "# print (f'Accuracy - : {best_clf.score(X,y):.3f}')"
   ]
  },
  {
   "cell_type": "markdown",
   "id": "99dd782d",
   "metadata": {},
   "source": [
    "## New- RandomizedSearchCV"
   ]
  },
  {
   "cell_type": "code",
   "execution_count": 17,
   "id": "36a3a7dd",
   "metadata": {},
   "outputs": [],
   "source": [
    "from sklearn.model_selection import RandomizedSearchCV\n",
    "from scipy.stats import randint as sp_randint"
   ]
  },
  {
   "cell_type": "code",
   "execution_count": 18,
   "id": "08d6b1c7",
   "metadata": {},
   "outputs": [],
   "source": [
    "# Define your hyperparameter search space\n",
    "param_dist = { \n",
    "    'n_estimators': sp_randint(100, 300),\n",
    "    'max_features': ['sqrt', 'log2'],\n",
    "    'max_depth' : sp_randint(3,5),\n",
    "    'criterion' :['gini', 'entropy']\n",
    "}"
   ]
  },
  {
   "cell_type": "code",
   "execution_count": 19,
   "id": "3c48cc3f",
   "metadata": {},
   "outputs": [
    {
     "name": "stdout",
     "output_type": "stream",
     "text": [
      "Fitting 3 folds for each of 5 candidates, totalling 15 fits\n",
      "[CV] END criterion=gini, max_depth=4, max_features=sqrt, n_estimators=169; total time=12.4min\n",
      "[CV] END criterion=gini, max_depth=4, max_features=sqrt, n_estimators=169; total time= 9.7min\n",
      "[CV] END criterion=gini, max_depth=4, max_features=sqrt, n_estimators=169; total time= 9.7min\n",
      "[CV] END criterion=gini, max_depth=4, max_features=sqrt, n_estimators=166; total time=10.5min\n",
      "[CV] END criterion=gini, max_depth=4, max_features=sqrt, n_estimators=166; total time= 9.9min\n",
      "[CV] END criterion=gini, max_depth=4, max_features=sqrt, n_estimators=166; total time=10.1min\n",
      "[CV] END criterion=gini, max_depth=3, max_features=sqrt, n_estimators=245; total time=10.3min\n",
      "[CV] END criterion=gini, max_depth=3, max_features=sqrt, n_estimators=245; total time=17.7min\n",
      "[CV] END criterion=gini, max_depth=3, max_features=sqrt, n_estimators=245; total time=13.9min\n",
      "[CV] END criterion=entropy, max_depth=4, max_features=log2, n_estimators=290; total time=22.4min\n",
      "[CV] END criterion=entropy, max_depth=4, max_features=log2, n_estimators=290; total time=23.7min\n",
      "[CV] END criterion=entropy, max_depth=4, max_features=log2, n_estimators=290; total time=21.5min\n",
      "[CV] END criterion=gini, max_depth=3, max_features=sqrt, n_estimators=175; total time= 8.4min\n",
      "[CV] END criterion=gini, max_depth=3, max_features=sqrt, n_estimators=175; total time= 8.5min\n",
      "[CV] END criterion=gini, max_depth=3, max_features=sqrt, n_estimators=175; total time= 8.7min\n"
     ]
    }
   ],
   "source": [
    "clf = RandomizedSearchCV(rf, param_distributions=param_dist, n_iter=5, cv=3, verbose=2, random_state=18)\n",
    "best_clf = clf.fit(X_train_selected, y_train)"
   ]
  },
  {
   "cell_type": "code",
   "execution_count": 29,
   "id": "50fd07aa",
   "metadata": {},
   "outputs": [],
   "source": [
    "#Extract same features in test set,select the columns by index\n",
    "selected_indices = [5,0,2]\n",
    "X_test_selected = X_test.iloc[:, selected_indices]"
   ]
  },
  {
   "cell_type": "code",
   "execution_count": 30,
   "id": "f5cc0e03",
   "metadata": {},
   "outputs": [
    {
     "name": "stdout",
     "output_type": "stream",
     "text": [
      "(636262, 3)\n"
     ]
    }
   ],
   "source": [
    "print(X_test_selected.shape)"
   ]
  },
  {
   "cell_type": "code",
   "execution_count": 31,
   "id": "37057d51",
   "metadata": {},
   "outputs": [
    {
     "data": {
      "text/html": [
       "<div>\n",
       "<style scoped>\n",
       "    .dataframe tbody tr th:only-of-type {\n",
       "        vertical-align: middle;\n",
       "    }\n",
       "\n",
       "    .dataframe tbody tr th {\n",
       "        vertical-align: top;\n",
       "    }\n",
       "\n",
       "    .dataframe thead th {\n",
       "        text-align: right;\n",
       "    }\n",
       "</style>\n",
       "<table border=\"1\" class=\"dataframe\">\n",
       "  <thead>\n",
       "    <tr style=\"text-align: right;\">\n",
       "      <th></th>\n",
       "      <th>newbalanceDest</th>\n",
       "      <th>step</th>\n",
       "      <th>oldbalanceOrg</th>\n",
       "    </tr>\n",
       "  </thead>\n",
       "  <tbody>\n",
       "    <tr>\n",
       "      <th>1402687</th>\n",
       "      <td>323930.00</td>\n",
       "      <td>139</td>\n",
       "      <td>2080.00</td>\n",
       "    </tr>\n",
       "    <tr>\n",
       "      <th>2760752</th>\n",
       "      <td>97668.37</td>\n",
       "      <td>213</td>\n",
       "      <td>5854688.09</td>\n",
       "    </tr>\n",
       "    <tr>\n",
       "      <th>3594236</th>\n",
       "      <td>0.00</td>\n",
       "      <td>262</td>\n",
       "      <td>274516.76</td>\n",
       "    </tr>\n",
       "    <tr>\n",
       "      <th>1933631</th>\n",
       "      <td>0.00</td>\n",
       "      <td>177</td>\n",
       "      <td>70800.94</td>\n",
       "    </tr>\n",
       "    <tr>\n",
       "      <th>2227203</th>\n",
       "      <td>4123295.63</td>\n",
       "      <td>186</td>\n",
       "      <td>0.00</td>\n",
       "    </tr>\n",
       "    <tr>\n",
       "      <th>...</th>\n",
       "      <td>...</td>\n",
       "      <td>...</td>\n",
       "      <td>...</td>\n",
       "    </tr>\n",
       "    <tr>\n",
       "      <th>3753638</th>\n",
       "      <td>0.00</td>\n",
       "      <td>279</td>\n",
       "      <td>0.00</td>\n",
       "    </tr>\n",
       "    <tr>\n",
       "      <th>1532557</th>\n",
       "      <td>0.00</td>\n",
       "      <td>154</td>\n",
       "      <td>1235072.75</td>\n",
       "    </tr>\n",
       "    <tr>\n",
       "      <th>2800777</th>\n",
       "      <td>0.00</td>\n",
       "      <td>217</td>\n",
       "      <td>12915.80</td>\n",
       "    </tr>\n",
       "    <tr>\n",
       "      <th>2444235</th>\n",
       "      <td>0.00</td>\n",
       "      <td>203</td>\n",
       "      <td>271067.00</td>\n",
       "    </tr>\n",
       "    <tr>\n",
       "      <th>1935763</th>\n",
       "      <td>4673794.76</td>\n",
       "      <td>177</td>\n",
       "      <td>1263913.98</td>\n",
       "    </tr>\n",
       "  </tbody>\n",
       "</table>\n",
       "<p>636262 rows × 3 columns</p>\n",
       "</div>"
      ],
      "text/plain": [
       "         newbalanceDest  step  oldbalanceOrg\n",
       "1402687       323930.00   139        2080.00\n",
       "2760752        97668.37   213     5854688.09\n",
       "3594236            0.00   262      274516.76\n",
       "1933631            0.00   177       70800.94\n",
       "2227203      4123295.63   186           0.00\n",
       "...                 ...   ...            ...\n",
       "3753638            0.00   279           0.00\n",
       "1532557            0.00   154     1235072.75\n",
       "2800777            0.00   217       12915.80\n",
       "2444235            0.00   203      271067.00\n",
       "1935763      4673794.76   177     1263913.98\n",
       "\n",
       "[636262 rows x 3 columns]"
      ]
     },
     "execution_count": 31,
     "metadata": {},
     "output_type": "execute_result"
    }
   ],
   "source": [
    "X_test_selected"
   ]
  },
  {
   "cell_type": "code",
   "execution_count": 32,
   "id": "0d561721",
   "metadata": {},
   "outputs": [
    {
     "data": {
      "text/html": [
       "<div>\n",
       "<style scoped>\n",
       "    .dataframe tbody tr th:only-of-type {\n",
       "        vertical-align: middle;\n",
       "    }\n",
       "\n",
       "    .dataframe tbody tr th {\n",
       "        vertical-align: top;\n",
       "    }\n",
       "\n",
       "    .dataframe thead th {\n",
       "        text-align: right;\n",
       "    }\n",
       "</style>\n",
       "<table border=\"1\" class=\"dataframe\">\n",
       "  <thead>\n",
       "    <tr style=\"text-align: right;\">\n",
       "      <th></th>\n",
       "      <th>newbalanceDest</th>\n",
       "      <th>step</th>\n",
       "      <th>oldbalanceOrg</th>\n",
       "    </tr>\n",
       "  </thead>\n",
       "  <tbody>\n",
       "    <tr>\n",
       "      <th>5289717</th>\n",
       "      <td>6.115774e+05</td>\n",
       "      <td>373</td>\n",
       "      <td>3296.00000</td>\n",
       "    </tr>\n",
       "    <tr>\n",
       "      <th>5962343</th>\n",
       "      <td>0.000000e+00</td>\n",
       "      <td>406</td>\n",
       "      <td>0.00000</td>\n",
       "    </tr>\n",
       "    <tr>\n",
       "      <th>2527894</th>\n",
       "      <td>0.000000e+00</td>\n",
       "      <td>205</td>\n",
       "      <td>10548.00000</td>\n",
       "    </tr>\n",
       "    <tr>\n",
       "      <th>4081906</th>\n",
       "      <td>1.050114e+06</td>\n",
       "      <td>301</td>\n",
       "      <td>0.00000</td>\n",
       "    </tr>\n",
       "    <tr>\n",
       "      <th>5004020</th>\n",
       "      <td>2.451267e+05</td>\n",
       "      <td>353</td>\n",
       "      <td>0.00000</td>\n",
       "    </tr>\n",
       "    <tr>\n",
       "      <th>...</th>\n",
       "      <td>...</td>\n",
       "      <td>...</td>\n",
       "      <td>...</td>\n",
       "    </tr>\n",
       "    <tr>\n",
       "      <th>3873820</th>\n",
       "      <td>1.335741e+05</td>\n",
       "      <td>283</td>\n",
       "      <td>29907.00000</td>\n",
       "    </tr>\n",
       "    <tr>\n",
       "      <th>713223</th>\n",
       "      <td>2.451267e+05</td>\n",
       "      <td>37</td>\n",
       "      <td>231.00000</td>\n",
       "    </tr>\n",
       "    <tr>\n",
       "      <th>4991147</th>\n",
       "      <td>2.451267e+05</td>\n",
       "      <td>352</td>\n",
       "      <td>29582.00000</td>\n",
       "    </tr>\n",
       "    <tr>\n",
       "      <th>6279815</th>\n",
       "      <td>2.451267e+05</td>\n",
       "      <td>644</td>\n",
       "      <td>17615.97572</td>\n",
       "    </tr>\n",
       "    <tr>\n",
       "      <th>8219</th>\n",
       "      <td>0.000000e+00</td>\n",
       "      <td>7</td>\n",
       "      <td>29937.75000</td>\n",
       "    </tr>\n",
       "  </tbody>\n",
       "</table>\n",
       "<p>5726358 rows × 3 columns</p>\n",
       "</div>"
      ],
      "text/plain": [
       "         newbalanceDest  step  oldbalanceOrg\n",
       "5289717    6.115774e+05   373     3296.00000\n",
       "5962343    0.000000e+00   406        0.00000\n",
       "2527894    0.000000e+00   205    10548.00000\n",
       "4081906    1.050114e+06   301        0.00000\n",
       "5004020    2.451267e+05   353        0.00000\n",
       "...                 ...   ...            ...\n",
       "3873820    1.335741e+05   283    29907.00000\n",
       "713223     2.451267e+05    37      231.00000\n",
       "4991147    2.451267e+05   352    29582.00000\n",
       "6279815    2.451267e+05   644    17615.97572\n",
       "8219       0.000000e+00     7    29937.75000\n",
       "\n",
       "[5726358 rows x 3 columns]"
      ]
     },
     "execution_count": 32,
     "metadata": {},
     "output_type": "execute_result"
    }
   ],
   "source": [
    "X_train_selected"
   ]
  },
  {
   "cell_type": "code",
   "execution_count": 33,
   "id": "da133c3d",
   "metadata": {},
   "outputs": [
    {
     "name": "stdout",
     "output_type": "stream",
     "text": [
      "Accuracy - : 0.999\n"
     ]
    }
   ],
   "source": [
    "print (f'Accuracy - : {best_clf.score(X_test_selected,y_test):.3f}')"
   ]
  },
  {
   "cell_type": "markdown",
   "id": "3853b65f",
   "metadata": {},
   "source": [
    "## Use cost sensitive learning random forest with the hyperparameters"
   ]
  },
  {
   "cell_type": "markdown",
   "id": "83218870",
   "metadata": {},
   "source": [
    "Cost sensitive learning\n",
    "Use correct hyperparameter\n",
    "plot OOB error for every fold\n",
    "plot f1 score for train & test : https://www.bing.com/images/search?view=detailV2&ccid=7RhAWIsn&id=EFDAEB69AA4818AB3C9475F012C996C507736D0B&thid=OIP.7RhAWIsn6RONqcOdAR6t6gHaHJ&mediaurl=https%3A%2F%2Fcdn.analyticsvidhya.com%2Fwp-content%2Fuploads%2F2020%2F03%2FScreenshot-2020-03-04-at-15.08.50-850x820.png&cdnurl=https%3A%2F%2Fth.bing.com%2Fth%2Fid%2FR.ed1840588b27e9138da9c39d011eadea%3Frik%3DC21zB8WWyRLwdQ%26pid%3DImgRaw%26r%3D0&exph=820&expw=850&q=graphs+for+random+forest&simid=608001867482224477&form=IRPRST&ck=ACE74CE8E33F1BDCD8DFF63221C79789&selectedindex=9&ajaxhist=0&ajaxserp=0&vt=0&sim=11"
   ]
  },
  {
   "cell_type": "markdown",
   "id": "ac8163f5",
   "metadata": {},
   "source": [
    "out-of-sample testing\" or \"model validation."
   ]
  },
  {
   "cell_type": "markdown",
   "id": "947c87c2",
   "metadata": {},
   "source": [
    "https://www.bing.com/images/search?view=detailV2&ccid=HiBreHJ1&id=4AE90CD5515EF4A6E50E9C0688ACB5FE7C375F42&thid=OIP.HiBreHJ1b7h-1uQEgXJDfQHaFB&mediaurl=https%3A%2F%2Fmiro.medium.com%2Fmax%2F552%2F1*80OL6-Nn2oYwQPcS3aO3jg.png&exph=374&expw=552&q=graphs+for+random+forest&simid=608008151010657800&form=IRPRST&ck=18435DC859CC9886473DD5FB88D029A8&selectedindex=29&ajaxhist=0&ajaxserp=0&vt=0&sim=11&cdnurl=https%3A%2F%2Fth.bing.com%2Fth%2Fid%2FR.1e206b7872756fb87ed6e4048172437d%3Frik%3DQl83fP61rIgGnA%26pid%3DImgRaw%26r%3D0"
   ]
  },
  {
   "cell_type": "markdown",
   "id": "22503d46",
   "metadata": {},
   "source": []
  }
 ],
 "metadata": {
  "kernelspec": {
   "display_name": "Python 3 (ipykernel)",
   "language": "python",
   "name": "python3"
  },
  "language_info": {
   "codemirror_mode": {
    "name": "ipython",
    "version": 3
   },
   "file_extension": ".py",
   "mimetype": "text/x-python",
   "name": "python",
   "nbconvert_exporter": "python",
   "pygments_lexer": "ipython3",
   "version": "3.7.16"
  }
 },
 "nbformat": 4,
 "nbformat_minor": 5
}
