{
 "cells": [
  {
   "cell_type": "code",
   "execution_count": 1,
   "id": "d48cadbe",
   "metadata": {},
   "outputs": [],
   "source": [
    "import numpy as np\n",
    "import pandas as pd\n",
    "df_sample=pd.read_csv(r\"C:\\Users\\23059\\OneDrive\\Desktop\\Amiira\\Y3S1\\fyp\\sample.csv\")"
   ]
  },
  {
   "cell_type": "code",
   "execution_count": 2,
   "id": "eb2edd33",
   "metadata": {},
   "outputs": [],
   "source": [
    "df_sample = df_sample.reset_index(drop=True)"
   ]
  },
  {
   "cell_type": "code",
   "execution_count": 5,
   "id": "8543aba6",
   "metadata": {},
   "outputs": [],
   "source": [
    "from sklearn.preprocessing import LabelEncoder\n",
    "le = LabelEncoder()\n",
    "label = le.fit_transform(df_sample['type'])\n",
    "label\n",
    "df_sample.drop(\"type\", axis=1, inplace=True)\n",
    "df_sample[\"type\"] = label\n",
    "\n",
    "from sklearn.preprocessing import LabelEncoder\n",
    "le = LabelEncoder()\n",
    "label = le.fit_transform(df_sample['nameDest'])\n",
    "label\n",
    "df_sample.drop(\"nameDest\", axis=1, inplace=True)\n",
    "df_sample[\"nameDest\"] = label\n",
    "\n",
    "from sklearn.preprocessing import LabelEncoder\n",
    "le = LabelEncoder()\n",
    "label = le.fit_transform(df_sample['nameOrig'])\n",
    "label\n",
    "df_sample.drop(\"nameOrig\", axis=1, inplace=True)\n",
    "df_sample[\"nameOrig\"] = label"
   ]
  },
  {
   "cell_type": "code",
   "execution_count": 6,
   "id": "ee08be79",
   "metadata": {},
   "outputs": [
    {
     "name": "stdout",
     "output_type": "stream",
     "text": [
      "0    0.998743\n",
      "1    0.001257\n",
      "Name: isFraud, dtype: float64\n",
      "0    0.998743\n",
      "1    0.001257\n",
      "Name: isFraud, dtype: float64\n",
      "0    0.998743\n",
      "1    0.001257\n",
      "Name: isFraud, dtype: float64\n"
     ]
    }
   ],
   "source": [
    "from sklearn.model_selection import train_test_split\n",
    "\n",
    "X = df_sample.drop('isFraud', axis=1)\n",
    "# Separate the target variable\n",
    "y = df_sample['isFraud']\n",
    "\n",
    "# Print class distribution before split\n",
    "print(y.value_counts(normalize=True))\n",
    "\n",
    "from sklearn.model_selection import train_test_split\n",
    "\n",
    "# Assuming X contains your features and y contains your target variable\n",
    "X_train, X_test, y_train, y_test = train_test_split(X, y, test_size=0.1, stratify=y, random_state=2)\n",
    "\n",
    "# Print class distribution after split\n",
    "print(y_train.value_counts(normalize=True))\n",
    "print(y_test.value_counts(normalize=True))"
   ]
  },
  {
   "cell_type": "code",
   "execution_count": 7,
   "id": "e7fd7847",
   "metadata": {},
   "outputs": [],
   "source": [
    "from imblearn.over_sampling import SMOTE\n",
    "from imblearn.under_sampling import RandomUnderSampler\n",
    "\n",
    "#Upsampling via SMOTE\n",
    "smote = SMOTE(sampling_strategy=0.2, random_state=0)\n",
    "\n",
    "#Downsample via RandomUnderSampler\n",
    "rus = RandomUnderSampler(sampling_strategy=0.4, random_state=0)\n",
    "\n",
    "#Application of the resampling methods\n",
    "X_resampled, y_resampled = smote.fit_resample(X_train, y_train)\n",
    "X_resampled, y_resampled = rus.fit_resample(X_resampled, y_resampled)"
   ]
  },
  {
   "cell_type": "code",
   "execution_count": 8,
   "id": "1c9d653b",
   "metadata": {},
   "outputs": [],
   "source": [
    "from imblearn.under_sampling import TomekLinks\n",
    "\n",
    "#Resample using TomekLinks first\n",
    "tomek_links = TomekLinks(sampling_strategy='majority')\n",
    "X_train_resampled, y_train_resampled = tomek_links.fit_resample(X_resampled, y_resampled)"
   ]
  },
  {
   "cell_type": "code",
   "execution_count": 9,
   "id": "3599b4d7",
   "metadata": {},
   "outputs": [],
   "source": [
    "from imblearn.under_sampling import TomekLinks, EditedNearestNeighbours,OneSidedSelection\n",
    "# resample the output of TomekLinks using EditedNearestNeighbours\n",
    "enn = EditedNearestNeighbours(sampling_strategy='majority')\n",
    "X_train_resampled_new, y_train_resampled_new = enn.fit_resample(X_train_resampled, y_train_resampled)"
   ]
  },
  {
   "cell_type": "code",
   "execution_count": 10,
   "id": "89b28771",
   "metadata": {},
   "outputs": [],
   "source": [
    "from imblearn.under_sampling import OneSidedSelection\n",
    "# resample the output of EditedNearestNeighbours using One-Sided Selection\n",
    "oss = OneSidedSelection(sampling_strategy='majority')\n",
    "X_train_resampled_final, y_train_resampled_final = oss.fit_resample(X_train_resampled_new, y_train_resampled_new)"
   ]
  },
  {
   "cell_type": "code",
   "execution_count": 11,
   "id": "edb02b57",
   "metadata": {},
   "outputs": [
    {
     "name": "stderr",
     "output_type": "stream",
     "text": [
      "C:\\Users\\23059\\anaconda3\\envs\\test2\\lib\\site-packages\\ipykernel_launcher.py:11: SettingWithCopyWarning: \n",
      "A value is trying to be set on a copy of a slice from a DataFrame\n",
      "\n",
      "See the caveats in the documentation: https://pandas.pydata.org/pandas-docs/stable/user_guide/indexing.html#returning-a-view-versus-a-copy\n",
      "  # This is added back by InteractiveShellApp.init_path()\n",
      "C:\\Users\\23059\\anaconda3\\envs\\test2\\lib\\site-packages\\ipykernel_launcher.py:11: SettingWithCopyWarning: \n",
      "A value is trying to be set on a copy of a slice from a DataFrame\n",
      "\n",
      "See the caveats in the documentation: https://pandas.pydata.org/pandas-docs/stable/user_guide/indexing.html#returning-a-view-versus-a-copy\n",
      "  # This is added back by InteractiveShellApp.init_path()\n"
     ]
    },
    {
     "name": "stdout",
     "output_type": "stream",
     "text": [
      "        step         amount  oldbalanceOrg  newbalanceOrig  oldbalanceDest  \\\n",
      "0        380   13912.050000       0.000000             0.0           0.000   \n",
      "1        138   44423.330000   54244.187051             0.0       68555.275   \n",
      "2        325  138843.953994    4564.000000             0.0       68555.275   \n",
      "3        308  300712.340000   51474.000000             0.0       68555.275   \n",
      "4        331   65301.220000     389.000000             0.0       68555.275   \n",
      "...      ...            ...            ...             ...             ...   \n",
      "412959   277  111168.880136  111168.880136             0.0       68555.275   \n",
      "412960   274  138843.953994   54244.187051             0.0       68555.275   \n",
      "412961    60  138843.953994   54244.187051             0.0           0.000   \n",
      "412962   449   44882.356239   44882.356239             0.0           0.000   \n",
      "412963   220   39953.091459   29059.334627             0.0       68555.275   \n",
      "\n",
      "        newbalanceDest  isFlaggedFraud  type  nameDest  nameOrig  \n",
      "0             0.000000               0     3    308244     97217  \n",
      "1        239590.580607               0     0     92881    180374  \n",
      "2        239590.580607               0     1     80756    482539  \n",
      "3        654217.020000               0     1    175711    597630  \n",
      "4        239590.580607               0     1    110818    514027  \n",
      "...                ...             ...   ...       ...       ...  \n",
      "412959   239590.580607               0     1     90379    472585  \n",
      "412960   239590.580607               0     1    112071    494845  \n",
      "412961        0.000000               0     1    154830    240268  \n",
      "412962    36237.626509               0     1    122579     88980  \n",
      "412963   239590.580607               0     1     93537    130866  \n",
      "\n",
      "[412964 rows x 10 columns]\n",
      "         step     amount  oldbalanceOrg  newbalanceOrig  oldbalanceDest  \\\n",
      "485376  278.0   22928.58            0.0             0.0           0.000   \n",
      "642214   45.0    8606.90         5764.0             0.0           0.000   \n",
      "192982  237.0  220046.83            0.0             0.0      130797.505   \n",
      "99091   328.0   83938.53        13653.5             0.0      130797.505   \n",
      "203398  307.0   74636.86            0.0             0.0      130797.505   \n",
      "...       ...        ...            ...             ...             ...   \n",
      "230877  154.0  195805.05        31725.0             0.0           0.000   \n",
      "315026  301.0   36352.03        13653.5             0.0           0.000   \n",
      "661254  238.5  163969.90        13653.5             0.0      130797.505   \n",
      "688112  280.0    3092.79            0.0             0.0           0.000   \n",
      "642560   35.0   74636.86        30807.0             0.0      130797.505   \n",
      "\n",
      "        newbalanceDest  isFlaggedFraud  type  nameDest  nameOrig  \n",
      "485376           0.000               0     3    291184    424837  \n",
      "642214           0.000               0     3    363649    442961  \n",
      "192982      214326.245               0     1      1853    410946  \n",
      "99091       537297.070               0     0    252825    347652  \n",
      "203398      214326.245               0     1    201182    417173  \n",
      "...                ...             ...   ...       ...       ...  \n",
      "230877      195805.050               0     1    181881    192704  \n",
      "315026           0.000               0     3    458861    630843  \n",
      "661254      706564.020               0     0     37270    676511  \n",
      "688112           0.000               0     3    455345    152073  \n",
      "642560      214326.245               0     1    214954    689599  \n",
      "\n",
      "[70000 rows x 10 columns]\n"
     ]
    }
   ],
   "source": [
    "# import the necessary libraries\n",
    "import pandas as pd\n",
    "import numpy as np\n",
    "# convert X_test to a pandas dataframe\n",
    "X_test = pd.DataFrame(X_test, columns=X_train.columns)\n",
    "# define a function to replace outliers with MAD for a single column\n",
    "def replace_outliers_with_mad(column):\n",
    "    median = np.median(column)\n",
    "    mad = np.median(np.abs(column - median))\n",
    "    threshold = 2.5 * mad\n",
    "    column[np.abs(column - median) > threshold] = median\n",
    "    return column\n",
    "\n",
    "# apply the function to all columns of X_train_resampled_final\n",
    "for i in range(X_train_resampled_final.shape[1]):\n",
    "    X_train_resampled_final.iloc[:, i] = replace_outliers_with_mad(X_train_resampled_final.iloc[:, i])\n",
    "\n",
    "# apply the function to all columns of X_test\n",
    "for i in range(X_test.shape[1]):\n",
    "    X_test.iloc[:, i] = replace_outliers_with_mad(X_test.iloc[:, i])\n",
    "\n",
    "# convert the numpy arrays back to pandas dataframes\n",
    "X_train_resampled_final = pd.DataFrame(X_train_resampled_final, columns=X_train.columns)\n",
    "X_test = pd.DataFrame(X_test, columns=X_test.columns)\n",
    "\n",
    "# print the modified dataframes\n",
    "print(X_train_resampled_final)\n",
    "print(X_test)"
   ]
  },
  {
   "cell_type": "code",
   "execution_count": 12,
   "id": "34d60b2e",
   "metadata": {},
   "outputs": [],
   "source": [
    "# import module\n",
    "from sklearn.preprocessing import StandardScaler\n",
    "\n",
    "# compute required values\n",
    "scaler = StandardScaler()\n",
    "model = scaler.fit(X_train_resampled_final)\n",
    "X_train_resampled_final = model.transform(X_train_resampled_final)"
   ]
  },
  {
   "cell_type": "code",
   "execution_count": 13,
   "id": "91146707",
   "metadata": {},
   "outputs": [],
   "source": [
    "# compute required values\n",
    "scaler = StandardScaler()\n",
    "model = scaler.fit(X_test)\n",
    "X_test = model.transform(X_test)"
   ]
  },
  {
   "cell_type": "code",
   "execution_count": 14,
   "id": "020500e3",
   "metadata": {},
   "outputs": [
    {
     "name": "stdout",
     "output_type": "stream",
     "text": [
      "Epoch 1/15\n",
      "WARNING:tensorflow:AutoGraph could not transform <function Model.make_train_function.<locals>.train_function at 0x0000023A1A135F78> and will run it as-is.\n",
      "Please report this to the TensorFlow team. When filing the bug, set the verbosity to 10 (on Linux, `export AUTOGRAPH_VERBOSITY=10`) and attach the full output.\n",
      "Cause: 'arguments' object has no attribute 'posonlyargs'\n",
      "To silence this warning, decorate the function with @tf.autograph.experimental.do_not_convert\n",
      "WARNING: AutoGraph could not transform <function Model.make_train_function.<locals>.train_function at 0x0000023A1A135F78> and will run it as-is.\n",
      "Please report this to the TensorFlow team. When filing the bug, set the verbosity to 10 (on Linux, `export AUTOGRAPH_VERBOSITY=10`) and attach the full output.\n",
      "Cause: 'arguments' object has no attribute 'posonlyargs'\n",
      "To silence this warning, decorate the function with @tf.autograph.experimental.do_not_convert\n"
     ]
    },
    {
     "name": "stderr",
     "output_type": "stream",
     "text": [
      "C:\\Users\\23059\\anaconda3\\envs\\test2\\lib\\site-packages\\keras\\optimizers\\optimizer_v2\\adam.py:117: UserWarning: The `lr` argument is deprecated, use `learning_rate` instead.\n",
      "  super().__init__(name, **kwargs)\n"
     ]
    },
    {
     "name": "stdout",
     "output_type": "stream",
     "text": [
      "6433/6453 [============================>.] - ETA: 0s - loss: 0.5586WARNING:tensorflow:AutoGraph could not transform <function Model.make_test_function.<locals>.test_function at 0x0000023A19FFAD38> and will run it as-is.\n",
      "Please report this to the TensorFlow team. When filing the bug, set the verbosity to 10 (on Linux, `export AUTOGRAPH_VERBOSITY=10`) and attach the full output.\n",
      "Cause: 'arguments' object has no attribute 'posonlyargs'\n",
      "To silence this warning, decorate the function with @tf.autograph.experimental.do_not_convert\n",
      "WARNING: AutoGraph could not transform <function Model.make_test_function.<locals>.test_function at 0x0000023A19FFAD38> and will run it as-is.\n",
      "Please report this to the TensorFlow team. When filing the bug, set the verbosity to 10 (on Linux, `export AUTOGRAPH_VERBOSITY=10`) and attach the full output.\n",
      "Cause: 'arguments' object has no attribute 'posonlyargs'\n",
      "To silence this warning, decorate the function with @tf.autograph.experimental.do_not_convert\n",
      "6453/6453 [==============================] - 16s 2ms/step - loss: 0.5584 - val_loss: 0.5452\n",
      "Epoch 2/15\n",
      "6453/6453 [==============================] - 15s 2ms/step - loss: 0.4580 - val_loss: 0.5187\n",
      "Epoch 3/15\n",
      "6453/6453 [==============================] - 16s 2ms/step - loss: 0.4416 - val_loss: 0.5078\n",
      "Epoch 4/15\n",
      "6453/6453 [==============================] - 16s 2ms/step - loss: 0.4338 - val_loss: 0.5019\n",
      "Epoch 5/15\n",
      "6453/6453 [==============================] - 15s 2ms/step - loss: 0.4293 - val_loss: 0.4983\n",
      "Epoch 6/15\n",
      "6453/6453 [==============================] - 16s 2ms/step - loss: 0.4262 - val_loss: 0.4957\n",
      "Epoch 7/15\n",
      "6453/6453 [==============================] - 15s 2ms/step - loss: 0.4241 - val_loss: 0.4939\n",
      "Epoch 8/15\n",
      "6453/6453 [==============================] - 16s 3ms/step - loss: 0.4225 - val_loss: 0.4925\n",
      "Epoch 9/15\n",
      "6453/6453 [==============================] - 15s 2ms/step - loss: 0.4212 - val_loss: 0.4915\n",
      "Epoch 10/15\n",
      "6453/6453 [==============================] - 19s 3ms/step - loss: 0.4202 - val_loss: 0.4904\n",
      "Epoch 11/15\n",
      "6453/6453 [==============================] - 16s 3ms/step - loss: 0.4193 - val_loss: 0.4896\n",
      "Epoch 12/15\n",
      "6453/6453 [==============================] - 15s 2ms/step - loss: 0.4186 - val_loss: 0.4890\n",
      "Epoch 13/15\n",
      "6453/6453 [==============================] - 15s 2ms/step - loss: 0.4180 - val_loss: 0.4884\n",
      "Epoch 14/15\n",
      "6453/6453 [==============================] - 15s 2ms/step - loss: 0.4175 - val_loss: 0.4879\n",
      "Epoch 15/15\n",
      "6453/6453 [==============================] - 16s 3ms/step - loss: 0.4171 - val_loss: 0.4874\n",
      "Test MSE: 0.44075\n",
      "Epoch 1/15\n",
      "6453/6453 [==============================] - 16s 2ms/step - loss: 0.4872 - val_loss: 0.4167\n",
      "Epoch 2/15\n",
      "6453/6453 [==============================] - 15s 2ms/step - loss: 0.4868 - val_loss: 0.4162\n",
      "Epoch 3/15\n",
      "6453/6453 [==============================] - 16s 2ms/step - loss: 0.4865 - val_loss: 0.4159\n",
      "Epoch 4/15\n",
      "6453/6453 [==============================] - 16s 2ms/step - loss: 0.4862 - val_loss: 0.4158\n",
      "Epoch 5/15\n",
      "6453/6453 [==============================] - 16s 3ms/step - loss: 0.4859 - val_loss: 0.4156\n",
      "Epoch 6/15\n",
      "6453/6453 [==============================] - 16s 2ms/step - loss: 0.4857 - val_loss: 0.4152\n",
      "Epoch 7/15\n",
      "6453/6453 [==============================] - 16s 2ms/step - loss: 0.4855 - val_loss: 0.4149\n",
      "Epoch 8/15\n",
      "6453/6453 [==============================] - 16s 2ms/step - loss: 0.4853 - val_loss: 0.4148\n",
      "Epoch 9/15\n",
      "6453/6453 [==============================] - 16s 2ms/step - loss: 0.4851 - val_loss: 0.4147\n",
      "Epoch 10/15\n",
      "6453/6453 [==============================] - 16s 3ms/step - loss: 0.4849 - val_loss: 0.4144\n",
      "Epoch 11/15\n",
      "6453/6453 [==============================] - 16s 2ms/step - loss: 0.4848 - val_loss: 0.4143\n",
      "Epoch 12/15\n",
      "6453/6453 [==============================] - 16s 2ms/step - loss: 0.4846 - val_loss: 0.4141\n",
      "Epoch 13/15\n",
      "6453/6453 [==============================] - 16s 2ms/step - loss: 0.4845 - val_loss: 0.4140\n",
      "Epoch 14/15\n",
      "6453/6453 [==============================] - 20s 3ms/step - loss: 0.4844 - val_loss: 0.4138\n",
      "Epoch 15/15\n",
      "6453/6453 [==============================] - 16s 2ms/step - loss: 0.4842 - val_loss: 0.4137\n",
      "Test MSE: 0.43719\n"
     ]
    },
    {
     "data": {
      "image/png": "[encoded data removed]",
      "text/plain": [
       "<Figure size 640x480 with 1 Axes>"
      ]
     },
     "metadata": {},
     "output_type": "display_data"
    }
   ],
   "source": [
    "import matplotlib.pyplot as plt\n",
    "from keras.layers import Input, Dense\n",
    "from keras.models import Model\n",
    "from keras.optimizers import Adam\n",
    "from sklearn.model_selection import KFold\n",
    "import numpy as np\n",
    "from keras import regularizers\n",
    "from keras.callbacks import EarlyStopping\n",
    "# Set random seed for reproducibility\n",
    "np.random.seed(42)\n",
    "\n",
    "# Define the autoencoder architecture\n",
    "input_dim = X_train_resampled_final.shape[1]\n",
    "encoding_dim = 32\n",
    "decoding_dim = 10\n",
    "\n",
    "input_layer = Input(shape=(input_dim,))\n",
    "#hidden_layer = Dense(encoding_dim, activation='relu')(input_layer)\n",
    "\n",
    "# Add L1 regularization to the hidden layer\n",
    "hidden_layer = Dense(encoding_dim, activation='relu', kernel_regularizer=regularizers.l1(0.00991))(input_layer)\n",
    "\n",
    "output_layer = Dense(decoding_dim, activation='sigmoid')(hidden_layer)\n",
    "\n",
    "# Define the optimizer with the desired learning rate\n",
    "\n",
    "opt = Adam(lr= 0.00087)\n",
    "# Define the autoencoder model\n",
    "autoencoder = Model(inputs=input_layer, outputs=output_layer)\n",
    "#autoencoder.compile(optimizer='adam', loss='mse')\n",
    "autoencoder.compile(optimizer=opt, loss='mse')\n",
    "\n",
    "# Define the number of folds for cross-validation\n",
    "n_splits = 2\n",
    "kf = KFold(n_splits=n_splits)\n",
    "\n",
    "# Define lists to store the MSE of training and validation sets for each fold\n",
    "train_mse = []\n",
    "val_mse = []\n",
    "test_mse = []\n",
    "recon_errors = []\n",
    "\n",
    "\n",
    "# Loop over each fold\n",
    "for train_index, val_index in kf.split(X_train_resampled_final):\n",
    "    \n",
    "    # Split the data into training and validation sets for the current fold\n",
    "    X_train_fold, X_val_fold = X_train_resampled_final[train_index], X_train_resampled_final[val_index]\n",
    "    \n",
    "    early_stopping = EarlyStopping(monitor='val_loss', patience=10)\n",
    "\n",
    "    # Fit the autoencoder on the training set for the current fold\n",
    "    history = autoencoder.fit(X_train_fold, X_train_fold, epochs=15,batch_size=32, verbose=1, validation_data=(X_val_fold, X_val_fold),callbacks=[early_stopping])\n",
    "    \n",
    "    # Append the MSE of training and validation sets for the current fold to the lists\n",
    "    train_mse.append(history.history['loss'])\n",
    "    val_mse.append(history.history['val_loss'])\n",
    "    \n",
    "    # compute the reconstruction error for the test data\n",
    "    recon_error = autoencoder.evaluate(X_test, X_test, verbose=0)\n",
    "    recon_errors.append(recon_error)\n",
    "    \n",
    "    # Calculate the MSE for the test set\n",
    "    test_error = autoencoder.evaluate(X_test, X_test, verbose=0)\n",
    "    test_mse.append(test_error)\n",
    "    print(f\"Test MSE: {test_error:.5f}\")\n",
    "\n",
    "# Calculate the mean and standard deviation of MSE for training and validation sets across all folds\n",
    "mean_train_mse = np.mean(train_mse, axis=0)\n",
    "#std_train_mse = np.std(np.array(train_mse), axis=0)\n",
    "std_train_mse = np.std(np.concatenate(train_mse), axis=0)\n",
    "\n",
    "mean_val_mse = np.mean(val_mse, axis=0)\n",
    "#std_val_mse = np.std(np.array(val_mse), axis=0)\n",
    "std_val_mse = np.std(np.concatenate(val_mse), axis=0)\n",
    "\n",
    "\n",
    "# Plot the MSE of training and validation sets against the number of epochs\n",
    "epochs = range(1, len(mean_train_mse)+1)\n",
    "plt.plot(epochs, mean_train_mse, 'b', label='Training MSE')\n",
    "plt.fill_between(epochs, mean_train_mse - std_train_mse, mean_train_mse + std_train_mse, alpha=0.2, color='b')\n",
    "plt.plot(epochs, mean_val_mse, 'r', label='Validation MSE')\n",
    "plt.fill_between(epochs, mean_val_mse - std_val_mse, mean_val_mse + std_val_mse, alpha=0.2, color='r')\n",
    "plt.xlabel('Epochs')\n",
    "plt.ylabel('Mean Squared Error (MSE)')\n",
    "plt.legend()\n",
    "plt.show()"
   ]
  },
  {
   "cell_type": "code",
   "execution_count": 15,
   "id": "451df45a",
   "metadata": {},
   "outputs": [
    {
     "name": "stdout",
     "output_type": "stream",
     "text": [
      "WARNING:tensorflow:AutoGraph could not transform <function Model.make_predict_function.<locals>.predict_function at 0x0000023A0C11E9D8> and will run it as-is.\n",
      "Please report this to the TensorFlow team. When filing the bug, set the verbosity to 10 (on Linux, `export AUTOGRAPH_VERBOSITY=10`) and attach the full output.\n",
      "Cause: 'arguments' object has no attribute 'posonlyargs'\n",
      "To silence this warning, decorate the function with @tf.autograph.experimental.do_not_convert\n",
      "WARNING: AutoGraph could not transform <function Model.make_predict_function.<locals>.predict_function at 0x0000023A0C11E9D8> and will run it as-is.\n",
      "Please report this to the TensorFlow team. When filing the bug, set the verbosity to 10 (on Linux, `export AUTOGRAPH_VERBOSITY=10`) and attach the full output.\n",
      "Cause: 'arguments' object has no attribute 'posonlyargs'\n",
      "To silence this warning, decorate the function with @tf.autograph.experimental.do_not_convert\n",
      "2188/2188 [==============================] - 2s 1ms/step\n"
     ]
    }
   ],
   "source": [
    "# Generate reconstructed outputs for the test set\n",
    "reconstructed = autoencoder.predict(X_test)\n",
    "\n",
    "# Calculate the MSE between the input and the reconstructed output for each data point\n",
    "recon_errors = np.mean(np.power(X_test - reconstructed, 2), axis=1)"
   ]
  },
  {
   "cell_type": "code",
   "execution_count": 16,
   "id": "0b91bacb",
   "metadata": {},
   "outputs": [],
   "source": [
    "test_mse_fold = np.mean(recon_errors)\n",
    "test_mse.append(test_mse_fold)"
   ]
  },
  {
   "cell_type": "code",
   "execution_count": 17,
   "id": "e999b1b1",
   "metadata": {},
   "outputs": [
    {
     "name": "stdout",
     "output_type": "stream",
     "text": [
      "Mean Reconstruction Error: 0.43603\n"
     ]
    }
   ],
   "source": [
    "# Print the final mean and standard deviation of reconstruction error across all folds\n",
    "print(f\"Mean Reconstruction Error: {np.mean(test_mse):.5f}\")"
   ]
  },
  {
   "cell_type": "code",
   "execution_count": 18,
   "id": "96bf305f",
   "metadata": {},
   "outputs": [
    {
     "name": "stdout",
     "output_type": "stream",
     "text": [
      "2188/2188 [==============================] - 2s 1ms/step - loss: 0.4372\n",
      "Mean squared error on test data: 0.43719282746315\n"
     ]
    }
   ],
   "source": [
    "mse = autoencoder.evaluate(X_test, X_test)\n",
    "print('Mean squared error on test data:', mse)"
   ]
  },
  {
   "cell_type": "code",
   "execution_count": 19,
   "id": "6a086fe6",
   "metadata": {},
   "outputs": [
    {
     "name": "stdout",
     "output_type": "stream",
     "text": [
      "Mean Train MSE (Average): 0.4602451095978419\n"
     ]
    }
   ],
   "source": [
    "mean_train_mse_avg = np.mean(mean_train_mse)\n",
    "print(\"Mean Train MSE (Average):\", mean_train_mse_avg)"
   ]
  },
  {
   "cell_type": "code",
   "execution_count": 20,
   "id": "8c0dfc17",
   "metadata": {},
   "outputs": [
    {
     "name": "stdout",
     "output_type": "stream",
     "text": [
      "Model: \"model\"\n",
      "_________________________________________________________________\n",
      " Layer (type)                Output Shape              Param #   \n",
      "=================================================================\n",
      " input_1 (InputLayer)        [(None, 10)]              0         \n",
      "                                                                 \n",
      " dense (Dense)               (None, 32)                352       \n",
      "                                                                 \n",
      " dense_1 (Dense)             (None, 10)                330       \n",
      "                                                                 \n",
      "=================================================================\n",
      "Total params: 682\n",
      "Trainable params: 682\n",
      "Non-trainable params: 0\n",
      "_________________________________________________________________\n"
     ]
    }
   ],
   "source": [
    "autoencoder.summary()"
   ]
  },
  {
   "cell_type": "code",
   "execution_count": 21,
   "id": "8c4c32ec",
   "metadata": {},
   "outputs": [
    {
     "data": {
      "image/png": "[encoded data removed]",
      "text/plain": [
       "<IPython.core.display.Image object>"
      ]
     },
     "execution_count": 21,
     "metadata": {},
     "output_type": "execute_result"
    }
   ],
   "source": [
    "from keras.utils import plot_model\n",
    "plot_model(autoencoder, to_file='autoencoder_last.png', show_shapes=True)"
   ]
  },
  {
   "cell_type": "markdown",
   "id": "05d10549",
   "metadata": {},
   "source": [
    "## Extract hidden layer from autoencder"
   ]
  },
  {
   "cell_type": "code",
   "execution_count": null,
   "id": "c96f893d",
   "metadata": {},
   "outputs": [],
   "source": [
    "# create a new model that outputs the hidden layer\n",
    "hidden_layer_output = autoencoder.layers[1].output\n",
    "hidden_layer_model = Model(inputs=autoencoder.input, outputs=hidden_layer_output)\n",
    "\n",
    "# get the hidden layer output for a sample\n",
    "sample_hidden_output = hidden_layer_model.predict(X_train_resampled_final[0].reshape(1, -1))\n",
    "print(sample_hidden_output)"
   ]
  },
  {
   "cell_type": "code",
   "execution_count": null,
   "id": "4729230a",
   "metadata": {},
   "outputs": [],
   "source": [
    "# Pass your data through the hidden layer model\n",
    "hidden_layer_data = hidden_layer_model.predict(X_train_resampled_final)\n",
    "\n",
    "# Print the shape of the hidden layer data\n",
    "print(hidden_layer_data.shape)\n",
    "\n",
    "# Print the first few rows of the hidden layer data\n",
    "print(hidden_layer_data[:5])"
   ]
  },
  {
   "cell_type": "code",
   "execution_count": null,
   "id": "e2108c8e",
   "metadata": {},
   "outputs": [],
   "source": [
    "hidden_layer_output"
   ]
  },
  {
   "cell_type": "code",
   "execution_count": null,
   "id": "b213196a",
   "metadata": {},
   "outputs": [],
   "source": [
    "# # create the mediator network with the hidden layer output as input\n",
    "# mediator_input_layer = Input(shape=hidden_layer_output.shape[1:])\n",
    "# mediator_hidden_layer = Dense(11, activation='relu', kernel_regularizer=regularizers.l1(0.0391))(mediator_input_layer)\n",
    "# mediator_output_layer = Dense(2, activation='sigmoid')(mediator_hidden_layer)\n",
    "\n",
    "# mediator_network = Model(inputs=mediator_input_layer, outputs=mediator_output_layer)\n",
    "# mediator_network.compile(optimizer='adam', loss='mse')\n",
    "# mediator_network.fit(hidden_layer_model.predict(X_train_resampled_final), y_train_resampled_final, epochs=1, batch_size=32)"
   ]
  },
  {
   "cell_type": "code",
   "execution_count": null,
   "id": "1480a8a2",
   "metadata": {},
   "outputs": [],
   "source": [
    "from sklearn.neural_network import MLPClassifier\n",
    "from sklearn.model_selection import GridSearchCV\n",
    "\n",
    "# create a dictionary with the hyperparameters to be optimized\n",
    "param_grid = {\n",
    "    'hidden_layer_sizes': [(i,) for i in range(1, 21)], # test 1 to 20 neurons in the hidden layer\n",
    "    'activation': ['relu', 'tanh', 'logistic'],\n",
    "    'solver': ['sgd', 'adam']\n",
    "}\n",
    "\n",
    "# create the MLPClassifier model\n",
    "mlp = MLPClassifier(max_iter=10)\n",
    "\n",
    "# perform grid search to find the best hyperparameters\n",
    "grid_search = GridSearchCV(mlp, param_grid=param_grid, cv=2, scoring='accuracy')\n",
    "grid_search.fit(X_train_resampled_final, y_train_resampled_final)\n",
    "\n",
    "# print the best hyperparameters and corresponding accuracy score\n",
    "print(\"Best parameters: \", grid_search.best_params_)\n",
    "print(\"Accuracy score: \", grid_search.best_score_)"
   ]
  },
  {
   "cell_type": "markdown",
   "id": "25ec57aa",
   "metadata": {},
   "source": [
    "## Best number of neurons: mediator network"
   ]
  },
  {
   "cell_type": "code",
   "execution_count": 24,
   "id": "621147f4",
   "metadata": {},
   "outputs": [
    {
     "name": "stdout",
     "output_type": "stream",
     "text": [
      "WARNING:tensorflow:AutoGraph could not transform <function Model.make_predict_function.<locals>.predict_function at 0x0000023A2BA3FA68> and will run it as-is.\n",
      "Please report this to the TensorFlow team. When filing the bug, set the verbosity to 10 (on Linux, `export AUTOGRAPH_VERBOSITY=10`) and attach the full output.\n",
      "Cause: 'arguments' object has no attribute 'posonlyargs'\n",
      "To silence this warning, decorate the function with @tf.autograph.experimental.do_not_convert\n",
      "WARNING: AutoGraph could not transform <function Model.make_predict_function.<locals>.predict_function at 0x0000023A2BA3FA68> and will run it as-is.\n",
      "Please report this to the TensorFlow team. When filing the bug, set the verbosity to 10 (on Linux, `export AUTOGRAPH_VERBOSITY=10`) and attach the full output.\n",
      "Cause: 'arguments' object has no attribute 'posonlyargs'\n",
      "To silence this warning, decorate the function with @tf.autograph.experimental.do_not_convert\n",
      "12906/12906 [==============================] - 13s 1ms/step\n",
      "WARNING:tensorflow:AutoGraph could not transform <function Model.make_train_function.<locals>.train_function at 0x0000023A0052CDC8> and will run it as-is.\n",
      "Please report this to the TensorFlow team. When filing the bug, set the verbosity to 10 (on Linux, `export AUTOGRAPH_VERBOSITY=10`) and attach the full output.\n",
      "Cause: 'arguments' object has no attribute 'posonlyargs'\n",
      "To silence this warning, decorate the function with @tf.autograph.experimental.do_not_convert\n",
      "WARNING: AutoGraph could not transform <function Model.make_train_function.<locals>.train_function at 0x0000023A0052CDC8> and will run it as-is.\n",
      "Please report this to the TensorFlow team. When filing the bug, set the verbosity to 10 (on Linux, `export AUTOGRAPH_VERBOSITY=10`) and attach the full output.\n",
      "Cause: 'arguments' object has no attribute 'posonlyargs'\n",
      "To silence this warning, decorate the function with @tf.autograph.experimental.do_not_convert\n",
      "12906/12906 [==============================] - 18s 1ms/step - loss: 0.2133\n"
     ]
    },
    {
     "data": {
      "text/plain": [
       "<keras.callbacks.History at 0x23a00521488>"
      ]
     },
     "execution_count": 24,
     "metadata": {},
     "output_type": "execute_result"
    }
   ],
   "source": [
    "from keras.layers import Input, Dense\n",
    "from keras.models import Model\n",
    "\n",
    "encoding_dim = 32\n",
    "decoding_dim = 10\n",
    "\n",
    "# extract hidden layer output from autoencoder\n",
    "hidden_layer_model = Model(inputs=autoencoder.input, outputs=autoencoder.layers[1].output)\n",
    "hidden_layer_output = hidden_layer_model.predict(X_train_resampled_final)\n",
    "\n",
    "# create the mediator network with the hidden layer output as input\n",
    "mediator_input_layer = Input(shape=(encoding_dim,))\n",
    "mediator_hidden_layer = Dense(10, activation='relu')(mediator_input_layer)\n",
    "mediator_output_layer = Dense(2, activation='sigmoid')(mediator_hidden_layer)\n",
    "\n",
    "mediator_network = Model(inputs=mediator_input_layer, outputs=mediator_output_layer)\n",
    "mediator_network.compile(optimizer='adam', loss='mse')\n",
    "mediator_network.fit(hidden_layer_output, y_train_resampled_final, epochs=1)"
   ]
  },
  {
   "cell_type": "code",
   "execution_count": 25,
   "id": "af21ff74",
   "metadata": {},
   "outputs": [
    {
     "name": "stdout",
     "output_type": "stream",
     "text": [
      "dict_keys(['loss', 'val_loss'])\n"
     ]
    }
   ],
   "source": [
    "print(history.history.keys())"
   ]
  },
  {
   "cell_type": "code",
   "execution_count": 26,
   "id": "d726c8a5",
   "metadata": {},
   "outputs": [
    {
     "name": "stdout",
     "output_type": "stream",
     "text": [
      "['accuracy', 'adjusted_mutual_info_score', 'adjusted_rand_score', 'average_precision', 'balanced_accuracy', 'completeness_score', 'explained_variance', 'f1', 'f1_macro', 'f1_micro', 'f1_samples', 'f1_weighted', 'fowlkes_mallows_score', 'homogeneity_score', 'jaccard', 'jaccard_macro', 'jaccard_micro', 'jaccard_samples', 'jaccard_weighted', 'max_error', 'mutual_info_score', 'neg_brier_score', 'neg_log_loss', 'neg_mean_absolute_error', 'neg_mean_absolute_percentage_error', 'neg_mean_gamma_deviance', 'neg_mean_poisson_deviance', 'neg_mean_squared_error', 'neg_mean_squared_log_error', 'neg_median_absolute_error', 'neg_root_mean_squared_error', 'normalized_mutual_info_score', 'precision', 'precision_macro', 'precision_micro', 'precision_samples', 'precision_weighted', 'r2', 'rand_score', 'recall', 'recall_macro', 'recall_micro', 'recall_samples', 'recall_weighted', 'roc_auc', 'roc_auc_ovo', 'roc_auc_ovo_weighted', 'roc_auc_ovr', 'roc_auc_ovr_weighted', 'top_k_accuracy', 'v_measure_score']\n"
     ]
    }
   ],
   "source": [
    "from sklearn import metrics\n",
    "print(sorted(metrics.SCORERS.keys()))"
   ]
  },
  {
   "cell_type": "code",
   "execution_count": null,
   "id": "edead5c9",
   "metadata": {},
   "outputs": [],
   "source": [
    "# import matplotlib.pyplot as plt\n",
    "# from keras.layers import Input, Dense\n",
    "# from keras.models import Model\n",
    "# from keras.optimizers import Adam\n",
    "# from sklearn.model_selection import KFold\n",
    "# import numpy as np\n",
    "# from keras import regularizers\n",
    "# from keras.callbacks import EarlyStopping\n",
    "# # Set random seed for reproducibility\n",
    "# np.random.seed(42)\n",
    "\n",
    "# # # Define the autoencoder architecture\n",
    "# # #Input layer\n",
    "# # input_dim = X_train_resampled_final.shape[1]\n",
    "# # #Hidden layer\n",
    "# # encoding_dim = 11\n",
    "# # #Output layer\n",
    "# # decoding_dim = 10\n",
    "\n",
    "# mediator_input_layer = Input(shape=hidden_layer_output.shape[1:])\n",
    "# mediator_hidden_layer = Dense(32, activation='relu')(mediator_input_layer)\n",
    "# mediator_output_layer = Dense(2, activation='sigmoid')(mediator_hidden_layer)\n",
    "# # input_layer = Input(shape=(input_dim,))\n",
    "# # #hidden_layer = Dense(encoding_dim, activation='relu')(input_layer)\n",
    "\n",
    "# # # Add L1 regularization to the hidden layer\n",
    "# # hidden_layer = Dense(encoding_dim, activation='relu', kernel_regularizer=regularizers.l1(0.00991))(mediator_input_layer)\n",
    "\n",
    "# # output_layer = Dense(decoding_dim, activation='sigmoid')(hidden_layer)\n",
    "\n",
    "# # Define the optimizer with the desired learning rate\n",
    "\n",
    "# opt = Adam(lr= 0.00087)\n",
    "# # # Define the autoencoder model\n",
    "# # autoencoder = Model(inputs=input_layer, outputs=output_layer)\n",
    "# # #autoencoder.compile(optimizer='adam', loss='mse')\n",
    "# # autoencoder.compile(optimizer=opt, loss='mse')\n",
    "# mediator_network = Model(inputs=mediator_input_layer, outputs=mediator_output_layer)\n",
    "# mediator_network.compile(optimizer='adam', loss='mse')\n",
    "\n",
    "\n",
    "# # Define the number of folds for cross-validation\n",
    "# n_splits = 2\n",
    "# kf = KFold(n_splits=n_splits)\n",
    "\n",
    "# # Define lists to store the MSE of training and validation sets for each fold\n",
    "# train_mse = []\n",
    "# val_mse = []\n",
    "# test_mse = []\n",
    "# recon_errors = []\n",
    "\n",
    "\n",
    "# # Loop over each fold\n",
    "# for train_index, val_index in kf.split(X_train_resampled_final):\n",
    "    \n",
    "#     # Split the data into training and validation sets for the current fold\n",
    "#     X_train_fold, X_val_fold = X_train_resampled_final[train_index], X_train_resampled_final[val_index]\n",
    "    \n",
    "#     early_stopping = EarlyStopping(monitor='val_loss', patience=10)\n",
    "\n",
    "#     # Fit the mediator ne on the training set for the current fold\n",
    "#     history = mediator_network.fit(X_train_fold, X_train_fold, epochs=5, batch_size=32, verbose=1, validation_data=(X_val_fold, X_val_fold),callbacks=[early_stopping])\n",
    "    \n",
    "#     # Append the MSE of training and validation sets for the current fold to the lists\n",
    "#     train_mse.append(history.history['loss'])\n",
    "#     val_mse.append(history.history['val_loss'])\n",
    "    \n",
    "#     # compute the reconstruction error for the test data\n",
    "#     recon_error = mediator_network.evaluate(X_test, X_test, verbose=0)\n",
    "#     recon_errors.append(recon_error)\n",
    "    \n",
    "#     # Calculate the MSE for the test set\n",
    "#     test_error = mediator_network.evaluate(X_test, X_test, verbose=0)\n",
    "#     test_mse.append(test_error)\n",
    "#     print(f\"Test MSE: {test_error:.5f}\")\n",
    "\n",
    "# # Calculate the mean and standard deviation of MSE for training and validation sets across all folds\n",
    "# mean_train_mse = np.mean(train_mse, axis=0)\n",
    "# #std_train_mse = np.std(np.array(train_mse), axis=0)\n",
    "# std_train_mse = np.std(np.concatenate(train_mse), axis=0)\n",
    "\n",
    "# mean_val_mse = np.mean(val_mse, axis=0)\n",
    "# #std_val_mse = np.std(np.array(val_mse), axis=0)\n",
    "# std_val_mse = np.std(np.concatenate(val_mse), axis=0)\n",
    "\n",
    "\n",
    "# # Plot the MSE of training and validation sets against the number of epochs\n",
    "# epochs = range(1, len(mean_train_mse)+1)\n",
    "# plt.plot(epochs, mean_train_mse, 'b', label='Training MSE')\n",
    "# plt.fill_between(epochs, mean_train_mse - std_train_mse, mean_train_mse + std_train_mse, alpha=0.2, color='b')\n",
    "# plt.plot(epochs, mean_val_mse, 'r', label='Validation MSE')\n",
    "# plt.fill_between(epochs, mean_val_mse - std_val_mse, mean_val_mse + std_val_mse, alpha=0.2, color='r')\n",
    "# plt.xlabel('Epochs')\n",
    "# plt.ylabel('Mean Squared Error (MSE)')\n",
    "# plt.legend()\n",
    "# plt.show()"
   ]
  }
 ],
 "metadata": {
  "kernelspec": {
   "display_name": "Python 3 (ipykernel)",
   "language": "python",
   "name": "python3"
  },
  "language_info": {
   "codemirror_mode": {
    "name": "ipython",
    "version": 3
   },
   "file_extension": ".py",
   "mimetype": "text/x-python",
   "name": "python",
   "nbconvert_exporter": "python",
   "pygments_lexer": "ipython3",
   "version": "3.7.16"
  }
 },
 "nbformat": 4,
 "nbformat_minor": 5
}
