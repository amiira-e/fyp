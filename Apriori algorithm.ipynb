{
 "cells": [
  {
   "cell_type": "markdown",
   "id": "13829d81",
   "metadata": {},
   "source": [
    "## Sampling"
   ]
  },
  {
   "cell_type": "code",
   "execution_count": 1,
   "id": "5ca3f3cb",
   "metadata": {},
   "outputs": [],
   "source": [
    "import numpy as np\n",
    "import pandas as pd\n",
    "df_sample=pd.read_csv(r\"C:\\Users\\23059\\OneDrive\\Desktop\\Amiira\\Y3S1\\fyp\\sample.csv\")"
   ]
  },
  {
   "cell_type": "code",
   "execution_count": 2,
   "id": "1edf22c7",
   "metadata": {},
   "outputs": [],
   "source": [
    "from sklearn.preprocessing import LabelEncoder\n",
    "le = LabelEncoder()\n",
    "label = le.fit_transform(df_sample['type'])\n",
    "label\n",
    "df_sample.drop(\"type\", axis=1, inplace=True)\n",
    "df_sample[\"type\"] = label\n",
    "\n",
    "from sklearn.preprocessing import LabelEncoder\n",
    "le = LabelEncoder()\n",
    "label = le.fit_transform(df_sample['nameDest'])\n",
    "label\n",
    "df_sample.drop(\"nameDest\", axis=1, inplace=True)\n",
    "df_sample[\"nameDest\"] = label\n",
    "\n",
    "from sklearn.preprocessing import LabelEncoder\n",
    "le = LabelEncoder()\n",
    "label = le.fit_transform(df_sample['nameOrig'])\n",
    "label\n",
    "df_sample.drop(\"nameOrig\", axis=1, inplace=True)\n",
    "df_sample[\"nameOrig\"] = label"
   ]
  },
  {
   "cell_type": "code",
   "execution_count": 3,
   "id": "db28bc99",
   "metadata": {},
   "outputs": [],
   "source": [
    "X = df_sample.drop('isFraud', axis=1)\n",
    "# Separate the target variable\n",
    "y = df_sample['isFraud']"
   ]
  },
  {
   "cell_type": "code",
   "execution_count": 4,
   "id": "fa1a6764",
   "metadata": {},
   "outputs": [],
   "source": [
    "# from imblearn.over_sampling import SMOTE\n",
    "# from imblearn.under_sampling import RandomUnderSampler\n",
    "\n",
    "# #Upsampling via SMOTE\n",
    "# smote = SMOTE(sampling_strategy=0.2, random_state=0)\n",
    "\n",
    "# #Downsample via RandomUnderSampler\n",
    "# rus = RandomUnderSampler(sampling_strategy=0.4, random_state=0)\n",
    "\n",
    "# #Application of the resampling methods\n",
    "# X_resampled, y_resampled = smote.fit_resample(X, y)\n",
    "# X_resampled, y_resampled = rus.fit_resample(X_resampled, y_resampled)"
   ]
  },
  {
   "cell_type": "code",
   "execution_count": 5,
   "id": "3d48cdd0",
   "metadata": {},
   "outputs": [],
   "source": [
    "from imblearn.over_sampling import SMOTE\n",
    "\n",
    "#Upsampling via SMOTE\n",
    "smote = SMOTE(sampling_strategy=0.55, random_state=0)\n",
    "\n",
    "# Fit and apply the resampler to the entire dataset\n",
    "X_resampled, y_resampled = smote.fit_resample(X, y)"
   ]
  },
  {
   "cell_type": "code",
   "execution_count": 6,
   "id": "ebd1a17f",
   "metadata": {},
   "outputs": [
    {
     "name": "stdout",
     "output_type": "stream",
     "text": [
      "Minimum amount: 0.0\n",
      "Maximum amount: 69886731.3\n"
     ]
    }
   ],
   "source": [
    "# assuming your dataframe is named df_sample\n",
    "amount_min = df_sample['amount'].min()\n",
    "amount_max = df_sample['amount'].max()\n",
    "\n",
    "print(\"Minimum amount:\", amount_min)\n",
    "print(\"Maximum amount:\", amount_max)"
   ]
  },
  {
   "cell_type": "code",
   "execution_count": 7,
   "id": "f4829965",
   "metadata": {},
   "outputs": [
    {
     "name": "stdout",
     "output_type": "stream",
     "text": [
      "0    699120\n",
      "1    384516\n",
      "Name: isFraud, dtype: int64\n"
     ]
    }
   ],
   "source": [
    "counts = y_resampled.value_counts()\n",
    "print(counts)"
   ]
  },
  {
   "cell_type": "code",
   "execution_count": 8,
   "id": "8c832d44",
   "metadata": {},
   "outputs": [],
   "source": [
    "# combine X_resampled and y_resampled back to a dataframe\n",
    "df_sample = pd.concat([pd.DataFrame(X_resampled, columns=X.columns), pd.DataFrame(y_resampled, columns=['isFraud'])], axis=1)"
   ]
  },
  {
   "cell_type": "markdown",
   "id": "e665cd66",
   "metadata": {},
   "source": [
    "Nominal dataframe"
   ]
  },
  {
   "cell_type": "code",
   "execution_count": 9,
   "id": "1d6a9854",
   "metadata": {},
   "outputs": [
    {
     "name": "stdout",
     "output_type": "stream",
     "text": [
      "Number of 0s: 699120\n",
      "Number of 1s: 384516\n"
     ]
    }
   ],
   "source": [
    "# Count the number of occurrences of 0 and 1\n",
    "counts = df_sample['isFraud'].value_counts()\n",
    "\n",
    "# Print the counts\n",
    "print(\"Number of 0s:\", counts[0])\n",
    "print(\"Number of 1s:\", counts[1])"
   ]
  },
  {
   "cell_type": "code",
   "execution_count": null,
   "id": "049e901f",
   "metadata": {},
   "outputs": [],
   "source": [
    "from sklearn.cluster import KMeans\n",
    "\n",
    "# Select continuous variables along with\n",
    "continuous_vars = ['step','amount','isFraud']\n",
    "\n",
    "# Normalize the data\n",
    "normalized_df = (df_sample[continuous_vars] - df_sample[continuous_vars].mean()) / df_sample[continuous_vars].std()\n",
    "\n",
    "# Determine optimal number of clusters\n",
    "kmeans_kwargs = {\"init\": \"random\", \"n_init\": 10, \"max_iter\": 50, \"random_state\": 42}\n",
    "sse = []\n",
    "for k in range(1, 11):\n",
    "    kmeans = KMeans(n_clusters=k, **kmeans_kwargs)\n",
    "    kmeans.fit(normalized_df)\n",
    "    sse.append(kmeans.inertia_)\n",
    "    \n",
    "# Elbow method \n",
    "import matplotlib.pyplot as plt\n",
    "plt.style.use(\"fivethirtyeight\")\n",
    "plt.plot(range(1, 11), sse)\n",
    "plt.xticks(range(1, 11))\n",
    "plt.xlabel(\"Number of Clusters\")\n",
    "plt.ylabel(\"SSE\")\n",
    "plt.show()\n",
    "\n",
    "# Apply K-Means clustering\n",
    "kmeans = KMeans(n_clusters=3, **kmeans_kwargs)\n",
    "kmeans.fit(normalized_df)\n",
    "clusters = kmeans.predict(normalized_df)\n",
    "\n",
    "# Assign nominal values\n",
    "cluster_df = pd.DataFrame()\n",
    "for var in continuous_vars:\n",
    "    cluster_centers = kmeans.cluster_centers_[:, continuous_vars.index(var)]\n",
    "    col_name = var + '_cluster'\n",
    "    cluster_df[col_name] = kmeans.predict(normalized_df)\n",
    "    \n",
    "    # Replace cluster labels with desired values\n",
    "    if var == 'isFraud':\n",
    "        cluster_df[col_name] = cluster_df[col_name].apply(lambda x: 'Fraud' if x == 1 else 'No fraud')\n",
    "    elif var == 'amount':\n",
    "        cluster_labels = ['Low', 'Medium', 'High']\n",
    "        normalized_df['amount_bin'], bin_edges = pd.qcut(normalized_df['amount'], q=3, labels=cluster_labels, retbins=True)\n",
    "        cluster_df[col_name] = normalized_df['amount_bin']\n",
    "        print(f\"The bin edges for amount are {bin_edges}\")\n",
    "        normalized_df = normalized_df.drop(['amount_bin'], axis=1)\n",
    "    elif var == 'step':\n",
    "        bin_edges = [-np.inf, 186, 372, 558, np.inf] # Divide into four bins based on quartiles\n",
    "        cluster_labels = ['1-186', '187-372', '373-558', '559-743']\n",
    "        cluster_df[col_name] = pd.cut(df_sample['step'], bins=bin_edges, labels=cluster_labels)\n",
    "        print(f\"The bin edges for step are {bin_edges}\")\n",
    "        \n",
    "new_df1 = pd.DataFrame()\n",
    "# Merge nominal variables with original dataset\n",
    "new_df1 = pd.concat([new_df1, cluster_df], axis=1)"
   ]
  },
  {
   "cell_type": "code",
   "execution_count": 14,
   "id": "f05226a1",
   "metadata": {},
   "outputs": [
    {
     "data": {
      "image/png": "[encoded data removed]",
      "text/plain": [
       "<Figure size 640x480 with 1 Axes>"
      ]
     },
     "metadata": {},
     "output_type": "display_data"
    },
    {
     "name": "stdout",
     "output_type": "stream",
     "text": [
      "The bin edges for step are [-inf, 186, 372, 558, inf]\n",
      "The bin edges for amount are [0, 50000, 100000, 500000, 1000000, 5000000, 10000000, 60000000, 80000000]\n"
     ]
    }
   ],
   "source": [
    "from sklearn.cluster import KMeans\n",
    "\n",
    "# Select continuous variables along with\n",
    "continuous_vars = ['step','amount','isFraud']\n",
    "\n",
    "# Normalize the data\n",
    "normalized_df = (df_sample[continuous_vars] - df_sample[continuous_vars].mean()) / df_sample[continuous_vars].std()\n",
    "\n",
    "# Determine optimal number of clusters\n",
    "kmeans_kwargs = {\"init\": \"random\", \"n_init\": 10, \"max_iter\": 50, \"random_state\": 42}\n",
    "sse = []\n",
    "for k in range(1, 11):\n",
    "    kmeans = KMeans(n_clusters=k, **kmeans_kwargs)\n",
    "    kmeans.fit(normalized_df)\n",
    "    sse.append(kmeans.inertia_)\n",
    "    \n",
    "# Elbow method \n",
    "import matplotlib.pyplot as plt\n",
    "plt.style.use(\"fivethirtyeight\")\n",
    "plt.plot(range(1, 11), sse)\n",
    "plt.xticks(range(1, 11))\n",
    "plt.xlabel(\"Number of Clusters\")\n",
    "plt.ylabel(\"SSE\")\n",
    "plt.show()\n",
    "\n",
    "# Apply K-Means clustering\n",
    "kmeans = KMeans(n_clusters=3, **kmeans_kwargs)\n",
    "kmeans.fit(normalized_df)\n",
    "clusters = kmeans.predict(normalized_df)\n",
    "\n",
    "# Assign nominal values\n",
    "cluster_df = pd.DataFrame()\n",
    "for var in continuous_vars:\n",
    "    cluster_centers = kmeans.cluster_centers_[:, continuous_vars.index(var)]\n",
    "    col_name = var + '_cluster'\n",
    "    cluster_df[col_name] = kmeans.predict(normalized_df)\n",
    "#     bins=[0,50000, 100000, 500000, 1000000, 5000000, 10000000,60000000,80000000]\n",
    "    \n",
    "    # Replace cluster labels with desired values\n",
    "    if var=='amount':\n",
    "#         bin_edges = [0,50000, 1000000, 5000000, 10000000,50000000,100000000, 600000000, 800000000]\n",
    "#         cluster_labels = ['0-50k', '50k-100k', '100k-500k', '500k-1M', '1M-5M', '5M-10M','10M-60M','60M-80M']\n",
    "        bin_edges = [0, 50000, 100000, 500000, 1000000, 5000000, 10000000, 60000000, 80000000]\n",
    "        cluster_labels = ['0-50k', '50k-100k', '100k-500k', '500k-1M', '1M-5M', '5M-10M', '10M-60M', '60M-80M']\n",
    "        cluster_df[col_name] = pd.cut(df_sample['amount'], bins=bin_edges, labels=cluster_labels)\n",
    "        print(f\"The bin edges for amount are {bin_edges}\")\n",
    "#     \n",
    "    elif var == 'step':\n",
    "        bin_edges = [-np.inf, 186, 372, 558, np.inf] # Divide into four bins based on quartiles\n",
    "        cluster_labels = ['1-186', '187-372', '373-558', '559-743']\n",
    "        cluster_df[col_name] = pd.cut(df_sample['step'], bins=bin_edges, labels=cluster_labels)\n",
    "        print(f\"The bin edges for step are {bin_edges}\")\n",
    "        \n",
    "new_df1 = pd.DataFrame()\n",
    "\n",
    "# Merge nominal variables with original dataset\n",
    "new_df1 = pd.concat([new_df1, cluster_df], axis=1)"
   ]
  },
  {
   "cell_type": "code",
   "execution_count": 15,
   "id": "1d23f021",
   "metadata": {},
   "outputs": [
    {
     "data": {
      "text/html": [
       "<div>\n",
       "<style scoped>\n",
       "    .dataframe tbody tr th:only-of-type {\n",
       "        vertical-align: middle;\n",
       "    }\n",
       "\n",
       "    .dataframe tbody tr th {\n",
       "        vertical-align: top;\n",
       "    }\n",
       "\n",
       "    .dataframe thead th {\n",
       "        text-align: right;\n",
       "    }\n",
       "</style>\n",
       "<table border=\"1\" class=\"dataframe\">\n",
       "  <thead>\n",
       "    <tr style=\"text-align: right;\">\n",
       "      <th></th>\n",
       "      <th>step_cluster</th>\n",
       "      <th>amount_cluster</th>\n",
       "      <th>isFraud_cluster</th>\n",
       "    </tr>\n",
       "  </thead>\n",
       "  <tbody>\n",
       "    <tr>\n",
       "      <th>0</th>\n",
       "      <td>187-372</td>\n",
       "      <td>100k-500k</td>\n",
       "      <td>2</td>\n",
       "    </tr>\n",
       "    <tr>\n",
       "      <th>1</th>\n",
       "      <td>1-186</td>\n",
       "      <td>100k-500k</td>\n",
       "      <td>2</td>\n",
       "    </tr>\n",
       "    <tr>\n",
       "      <th>2</th>\n",
       "      <td>187-372</td>\n",
       "      <td>0-50k</td>\n",
       "      <td>2</td>\n",
       "    </tr>\n",
       "    <tr>\n",
       "      <th>3</th>\n",
       "      <td>187-372</td>\n",
       "      <td>0-50k</td>\n",
       "      <td>2</td>\n",
       "    </tr>\n",
       "    <tr>\n",
       "      <th>4</th>\n",
       "      <td>187-372</td>\n",
       "      <td>100k-500k</td>\n",
       "      <td>2</td>\n",
       "    </tr>\n",
       "    <tr>\n",
       "      <th>5</th>\n",
       "      <td>1-186</td>\n",
       "      <td>100k-500k</td>\n",
       "      <td>2</td>\n",
       "    </tr>\n",
       "    <tr>\n",
       "      <th>6</th>\n",
       "      <td>187-372</td>\n",
       "      <td>100k-500k</td>\n",
       "      <td>2</td>\n",
       "    </tr>\n",
       "    <tr>\n",
       "      <th>7</th>\n",
       "      <td>1-186</td>\n",
       "      <td>0-50k</td>\n",
       "      <td>2</td>\n",
       "    </tr>\n",
       "    <tr>\n",
       "      <th>8</th>\n",
       "      <td>187-372</td>\n",
       "      <td>0-50k</td>\n",
       "      <td>2</td>\n",
       "    </tr>\n",
       "    <tr>\n",
       "      <th>9</th>\n",
       "      <td>559-743</td>\n",
       "      <td>100k-500k</td>\n",
       "      <td>2</td>\n",
       "    </tr>\n",
       "    <tr>\n",
       "      <th>10</th>\n",
       "      <td>187-372</td>\n",
       "      <td>0-50k</td>\n",
       "      <td>2</td>\n",
       "    </tr>\n",
       "    <tr>\n",
       "      <th>11</th>\n",
       "      <td>1-186</td>\n",
       "      <td>100k-500k</td>\n",
       "      <td>2</td>\n",
       "    </tr>\n",
       "    <tr>\n",
       "      <th>12</th>\n",
       "      <td>187-372</td>\n",
       "      <td>0-50k</td>\n",
       "      <td>2</td>\n",
       "    </tr>\n",
       "    <tr>\n",
       "      <th>13</th>\n",
       "      <td>187-372</td>\n",
       "      <td>100k-500k</td>\n",
       "      <td>2</td>\n",
       "    </tr>\n",
       "    <tr>\n",
       "      <th>14</th>\n",
       "      <td>187-372</td>\n",
       "      <td>100k-500k</td>\n",
       "      <td>2</td>\n",
       "    </tr>\n",
       "    <tr>\n",
       "      <th>15</th>\n",
       "      <td>1-186</td>\n",
       "      <td>0-50k</td>\n",
       "      <td>2</td>\n",
       "    </tr>\n",
       "    <tr>\n",
       "      <th>16</th>\n",
       "      <td>1-186</td>\n",
       "      <td>100k-500k</td>\n",
       "      <td>2</td>\n",
       "    </tr>\n",
       "    <tr>\n",
       "      <th>17</th>\n",
       "      <td>373-558</td>\n",
       "      <td>100k-500k</td>\n",
       "      <td>2</td>\n",
       "    </tr>\n",
       "    <tr>\n",
       "      <th>18</th>\n",
       "      <td>1-186</td>\n",
       "      <td>100k-500k</td>\n",
       "      <td>2</td>\n",
       "    </tr>\n",
       "    <tr>\n",
       "      <th>19</th>\n",
       "      <td>1-186</td>\n",
       "      <td>100k-500k</td>\n",
       "      <td>2</td>\n",
       "    </tr>\n",
       "  </tbody>\n",
       "</table>\n",
       "</div>"
      ],
      "text/plain": [
       "   step_cluster amount_cluster  isFraud_cluster\n",
       "0       187-372      100k-500k                2\n",
       "1         1-186      100k-500k                2\n",
       "2       187-372          0-50k                2\n",
       "3       187-372          0-50k                2\n",
       "4       187-372      100k-500k                2\n",
       "5         1-186      100k-500k                2\n",
       "6       187-372      100k-500k                2\n",
       "7         1-186          0-50k                2\n",
       "8       187-372          0-50k                2\n",
       "9       559-743      100k-500k                2\n",
       "10      187-372          0-50k                2\n",
       "11        1-186      100k-500k                2\n",
       "12      187-372          0-50k                2\n",
       "13      187-372      100k-500k                2\n",
       "14      187-372      100k-500k                2\n",
       "15        1-186          0-50k                2\n",
       "16        1-186      100k-500k                2\n",
       "17      373-558      100k-500k                2\n",
       "18        1-186      100k-500k                2\n",
       "19        1-186      100k-500k                2"
      ]
     },
     "execution_count": 15,
     "metadata": {},
     "output_type": "execute_result"
    }
   ],
   "source": [
    "new_df1.head(20)"
   ]
  },
  {
   "cell_type": "code",
   "execution_count": null,
   "id": "912f1b17",
   "metadata": {},
   "outputs": [],
   "source": [
    "# Count number of times No fraud occurs in 'isFraud_cluster'\n",
    "no_fraud_count = new_df1['isFraud_cluster'].value_counts()['No fraud']\n",
    "\n",
    "# Print the count\n",
    "print(\"Number of times 'No fraud' occurs in 'isFraud_cluster':\", no_fraud_count)"
   ]
  },
  {
   "cell_type": "code",
   "execution_count": null,
   "id": "259a7f75",
   "metadata": {},
   "outputs": [],
   "source": [
    "# Count number of times No fraud occurs in 'isFraud_cluster'\n",
    "no_fraud_count = new_df1['isFraud_cluster'].value_counts()['Fraud']\n",
    "\n",
    "# Print the count\n",
    "print(\"Number of times 'No fraud' occurs in 'isFraud_cluster':\", no_fraud_count)"
   ]
  },
  {
   "cell_type": "code",
   "execution_count": null,
   "id": "290608ba",
   "metadata": {},
   "outputs": [],
   "source": [
    "cluster_df['amount_cluster'].value_counts()"
   ]
  },
  {
   "cell_type": "markdown",
   "id": "fd85c183",
   "metadata": {},
   "source": [
    " np.percentile function to create bins based on percentiles of the amount variable."
   ]
  },
  {
   "cell_type": "code",
   "execution_count": null,
   "id": "77363a28",
   "metadata": {},
   "outputs": [],
   "source": [
    "# Determine range of values for \"Low\" bin\n",
    "low_bin = pd.Interval(left=kmeans.cluster_centers_[0, continuous_vars.index('amount')] - normalized_df['amount'].std(),\n",
    "                      right=kmeans.cluster_centers_[0, continuous_vars.index('amount')] + normalized_df['amount'].std())\n",
    "print(low_bin)"
   ]
  },
  {
   "cell_type": "code",
   "execution_count": null,
   "id": "50b6bc15",
   "metadata": {},
   "outputs": [],
   "source": [
    "# Determine range of values for \"Medium\" bin\n",
    "medium_bin = pd.Interval(left=kmeans.cluster_centers_[1, continuous_vars.index('amount')] - normalized_df['amount'].std(),\n",
    "                         right=kmeans.cluster_centers_[1, continuous_vars.index('amount')] + normalized_df['amount'].std())\n",
    "print(medium_bin)\n",
    "\n",
    "# Determine range of values for \"High\" bin\n",
    "high_bin = pd.Interval(left=kmeans.cluster_centers_[2, continuous_vars.index('amount')] - normalized_df['amount'].std(),\n",
    "                       right=kmeans.cluster_centers_[2, continuous_vars.index('amount')] + normalized_df['amount'].std())\n",
    "print(high_bin)"
   ]
  },
  {
   "cell_type": "code",
   "execution_count": null,
   "id": "3e0b97da",
   "metadata": {},
   "outputs": [],
   "source": [
    "# import pandas as pd\n",
    "\n",
    "# # One-hot encode the categorical columns\n",
    "# df_encoded = pd.get_dummies(new_df1, prefix='', prefix_sep='')\n",
    "\n",
    "# # Concatenate the binary columns\n",
    "# df_boolean = df_encoded.groupby(level=0, axis=1).max()\n",
    "\n",
    "# # Print the boolean data\n",
    "# print(df_boolean)"
   ]
  },
  {
   "cell_type": "code",
   "execution_count": null,
   "id": "dfe84f7c",
   "metadata": {},
   "outputs": [],
   "source": [
    "# import pandas as pd\n",
    "\n",
    "# # Convert the categorical columns to boolean values\n",
    "# df_bool = pd.get_dummies(new_df1, columns=['step_cluster', 'amount_cluster', 'isFraud_cluster'], dtype=bool)\n",
    "\n",
    "# # Save the transformed dataset\n",
    "# df_bool.to_csv('fraud_dataset_binary1.csv', index=False)"
   ]
  },
  {
   "cell_type": "code",
   "execution_count": null,
   "id": "3a86982d",
   "metadata": {},
   "outputs": [],
   "source": [
    "import pandas as pd\n",
    "\n",
    "# Convert the categorical columns to boolean values and then to integers\n",
    "df_bool = pd.get_dummies(new_df1, columns=['step_cluster', 'amount_cluster', 'isFraud_cluster'], dtype=bool).astype(int)\n",
    "\n",
    "# Replace False with 0 and True with 1\n",
    "df_bool = df_bool.replace({False: 0, True: 1})\n",
    "\n",
    "# Save the transformed dataset\n",
    "df_bool.to_csv('fraud_dataset_binary1.csv', index=False)"
   ]
  },
  {
   "cell_type": "code",
   "execution_count": null,
   "id": "9014ea08",
   "metadata": {},
   "outputs": [],
   "source": [
    "df_bool.head(10)"
   ]
  },
  {
   "cell_type": "code",
   "execution_count": null,
   "id": "de9a9a84",
   "metadata": {},
   "outputs": [],
   "source": [
    "# import pandas as pd\n",
    "from mlxtend.frequent_patterns import apriori\n",
    "from mlxtend.frequent_patterns import association_rules\n",
    "\n",
    "# Generate frequent itemsets using the Apriori algorithm\n",
    "frequent_itemsets = apriori(df_bool, min_support=0.1, use_colnames=True)"
   ]
  },
  {
   "cell_type": "code",
   "execution_count": null,
   "id": "49cf33b6",
   "metadata": {},
   "outputs": [],
   "source": [
    "# Generate association rules\n",
    "rules = association_rules(frequent_itemsets, metric=\"lift\", min_threshold=1)\n",
    "\n",
    "# Print the rules\n",
    "print(rules.to_string())"
   ]
  },
  {
   "cell_type": "code",
   "execution_count": null,
   "id": "864ae474",
   "metadata": {},
   "outputs": [],
   "source": [
    "import pandas as pd\n",
    "from mlxtend.frequent_patterns import apriori\n",
    "from mlxtend.frequent_patterns import association_rules\n",
    "\n",
    "# Generate frequent itemsets using the Apriori algorithm\n",
    "frequent_itemsets = apriori(df_bool, min_support=0.1, use_colnames=True)\n",
    "\n",
    "# Generate association rules\n",
    "rules = association_rules(frequent_itemsets, metric=\"lift\", min_threshold=1)\n",
    "\n",
    "# Print the rules\n",
    "for index, rule in rules.iterrows():\n",
    "    antecedents = list(rule['antecedents'])\n",
    "    consequents = list(rule['consequents'])\n",
    "    support = rule['support']\n",
    "    confidence = rule['confidence']\n",
    "    lift = rule['lift']\n",
    "    \n",
    "    print(f\"Rule {index+1}:\")\n",
    "    print(f\"Antecedents: {antecedents}\")\n",
    "    print(f\"Consequents: {consequents}\")\n",
    "    print(f\"Support: {support:.3f}\")\n",
    "    print(f\"Confidence: {confidence:.3f}\")\n",
    "    print(f\"Lift: {lift:.3f}\")\n",
    "    print(\"-\"*50)\n",
    "    \n",
    "print(f\"Number of rules: {len(rules)}\")"
   ]
  },
  {
   "cell_type": "code",
   "execution_count": null,
   "id": "d1c3505c",
   "metadata": {},
   "outputs": [],
   "source": [
    "# Generate frequent itemsets using the Apriori algorithm\n",
    "frequent_itemsets = apriori(df_bool, min_support=0.1, use_colnames=True)\n",
    "\n",
    "# Generate association rules\n",
    "rules = association_rules(frequent_itemsets, metric=\"lift\", min_threshold=0.2)\n",
    "\n",
    "# Filter rules that include isFraud_cluster_Fraud in either antecedents or consequents\n",
    "rules_with_fraud = rules[\n",
    "    (rules[\"consequents\"].astype(str).str.contains(\"isFraud_cluster_Fraud\"))\n",
    "]\n",
    "\n",
    "# Print the filtered rules\n",
    "print(rules_with_fraud.to_string())"
   ]
  },
  {
   "cell_type": "code",
   "execution_count": null,
   "id": "481f0bcb",
   "metadata": {},
   "outputs": [],
   "source": [
    "# Generate frequent itemsets using the Apriori algorithm\n",
    "frequent_itemsets = apriori(df_bool, min_support=0.1, use_colnames=True)\n",
    "\n",
    "# Generate association rules\n",
    "rules = association_rules(frequent_itemsets, metric=\"lift\", min_threshold=0.2)\n",
    "\n",
    "# Filter rules that include isFraud_cluster_Fraud in either antecedents or consequents\n",
    "rules_with_fraud = rules[\n",
    "    (rules[\"consequents\"].astype(str).str.contains(\"isFraud_cluster_Fraud\"))\n",
    "]\n",
    "\n",
    "# Print the filtered rules\n",
    "for index, row in rules_with_fraud.iterrows():\n",
    "    print(row.to_string())\n",
    "    print(\"\\n\")\n",
    "\n",
    "# Decrease the font size of the output\n",
    "from IPython.core.display import HTML\n",
    "HTML(\"<style>.output {font-size: 12px;}</style>\")"
   ]
  },
  {
   "cell_type": "code",
   "execution_count": null,
   "id": "11007520",
   "metadata": {},
   "outputs": [],
   "source": [
    "# Count number of items in each cluster\n",
    "cluster_counts = cluster_df.apply(lambda x: x.value_counts()).T.stack()\n",
    "\n",
    "# Create new dataframe with cluster counts\n",
    "cluster_counts_df = pd.DataFrame(cluster_counts, columns=['Count']).reset_index()\n",
    "cluster_counts_df.columns = ['Variable', 'Cluster', 'Count']\n",
    "cluster_counts_df = cluster_counts_df.sort_values(['Variable', 'Cluster']).reset_index(drop=True)\n",
    "\n",
    "print(cluster_counts_df)"
   ]
  },
  {
   "cell_type": "markdown",
   "id": "a9c93783",
   "metadata": {},
   "source": [
    "By transforming the continuous variables into categorical variables, the author can use them as inputs to a model for predicting the \"Fraud class\" variable."
   ]
  },
  {
   "cell_type": "code",
   "execution_count": null,
   "id": "6fa5b509",
   "metadata": {},
   "outputs": [],
   "source": [
    "df_sample_subset = df_sample.iloc[:50, :]"
   ]
  },
  {
   "cell_type": "code",
   "execution_count": null,
   "id": "c365cee2",
   "metadata": {},
   "outputs": [],
   "source": [
    "df_sample_subset"
   ]
  },
  {
   "cell_type": "markdown",
   "id": "0b740ab2",
   "metadata": {},
   "source": [
    "## CHAID Algorithm"
   ]
  },
  {
   "cell_type": "code",
   "execution_count": null,
   "id": "8db26afb",
   "metadata": {},
   "outputs": [],
   "source": [
    "# import pandas as pd\n",
    "# from chefboost import Chefboost as chef\n",
    "\n",
    "# # Define the dependent variable and independent variable\n",
    "# dep_var = \"isFraud\"\n",
    "# ind_var = \"amount\"\n",
    "\n",
    "# df_sample_subset['isFraud'] = df_sample_subset['isFraud'].astype(int)\n",
    "\n",
    "# # Define the CHAID algorithm\n",
    "# config = {'algorithm': 'CHAID'}\n",
    "\n",
    "# # Define the number of bins to discretize the continuous variable\n",
    "# num_bins = 5\n",
    "\n",
    "# # Bin the continuous variable into categories\n",
    "# df_sample_subset['amount_category'] = pd.cut(df_sample_subset[ind_var], num_bins, labels=False)\n",
    "\n",
    "# # Fit the decision tree using CHAID algorithm\n",
    "# model = chef.fit(df_sample_subset, config=config, target_label=dep_var)\n",
    "# print(model)\n",
    "# # Print the generated decision tree\n",
    "# print(model.get_model())"
   ]
  },
  {
   "cell_type": "code",
   "execution_count": null,
   "id": "b8af6904",
   "metadata": {},
   "outputs": [],
   "source": [
    "# from chefboost import Chefboost as chef\n",
    "# import pandas as pd\n",
    "\n",
    "# config = {'algorithm': 'CHAID'}\n",
    "# model = chef.fit(df_sample_subset, config = config, target_label = 'isFraud')\n",
    "# print(model)"
   ]
  },
  {
   "cell_type": "markdown",
   "id": "ba2c9331",
   "metadata": {},
   "source": [
    "CHAID\n",
    "\n",
    "CHAID stands for Chi-square Automated Interaction Detection.\n",
    "\n",
    "The outcome (dependent) variable can be continuous and categorical. But, predictor (independent) variables are categorical variables only (can be more than 2 categories). It can create multiple splits (more than 2).\n",
    "\n",
    "When independent variables are continuous, they need to be transformed into categorical variables (bins/groups) before using CHAID."
   ]
  },
  {
   "cell_type": "code",
   "execution_count": null,
   "id": "2e3e3ec6",
   "metadata": {},
   "outputs": [],
   "source": [
    "df_sample_subset"
   ]
  },
  {
   "cell_type": "code",
   "execution_count": null,
   "id": "1a09c2e0",
   "metadata": {},
   "outputs": [],
   "source": [
    "# Convert the 'amount' variable to categorical using pd.cut\n",
    "df_sample_subset['amount_category'] = pd.cut(df_sample_subset['amount'], bins=[0, 10000, 50000, 100000, 500000, 1000000, 5000000, 10000000], labels=['0-10k', '10k-50k', '50k-100k', '100k-500k', '500k-1M', '1M-5M', '5M-10M'])"
   ]
  },
  {
   "cell_type": "code",
   "execution_count": null,
   "id": "3b765f4a",
   "metadata": {},
   "outputs": [],
   "source": [
    "new_df1 = df_sample[['type']].copy()"
   ]
  },
  {
   "cell_type": "code",
   "execution_count": null,
   "id": "b121af2b",
   "metadata": {},
   "outputs": [],
   "source": [
    "new_df1= pd.concat([new_df1, df_sample_subset[['amount_category', 'isFraud']]], axis=1)"
   ]
  },
  {
   "cell_type": "code",
   "execution_count": null,
   "id": "9a093554",
   "metadata": {},
   "outputs": [],
   "source": [
    "new_df1"
   ]
  },
  {
   "cell_type": "code",
   "execution_count": null,
   "id": "fb7ec269",
   "metadata": {},
   "outputs": [],
   "source": [
    "# Convert numerical columns to strings\n",
    "for col in new_df1.select_dtypes(include=['float', 'int']):\n",
    "    new_df1[col] = new_df1[col].astype(str)"
   ]
  },
  {
   "cell_type": "code",
   "execution_count": null,
   "id": "d2da1cd6",
   "metadata": {},
   "outputs": [],
   "source": [
    "from chefboost import Chefboost as chef\n",
    "import pandas as pd\n",
    "\n",
    "config = {'algorithm': 'CHAID'}\n",
    "model = chef.fit(new_df1, config = config, target_label = 'isFraud')\n",
    "print(model)"
   ]
  },
  {
   "cell_type": "code",
   "execution_count": null,
   "id": "08959ef8",
   "metadata": {},
   "outputs": [],
   "source": [
    "model.plot()"
   ]
  },
  {
   "cell_type": "code",
   "execution_count": null,
   "id": "bd2c00a3",
   "metadata": {},
   "outputs": [],
   "source": []
  },
  {
   "cell_type": "markdown",
   "id": "85d11146",
   "metadata": {},
   "source": [
    "## Run apriori after chaid"
   ]
  },
  {
   "cell_type": "code",
   "execution_count": null,
   "id": "1d0e66a1",
   "metadata": {},
   "outputs": [],
   "source": []
  }
 ],
 "metadata": {
  "kernelspec": {
   "display_name": "Python 3 (ipykernel)",
   "language": "python",
   "name": "python3"
  },
  "language_info": {
   "codemirror_mode": {
    "name": "ipython",
    "version": 3
   },
   "file_extension": ".py",
   "mimetype": "text/x-python",
   "name": "python",
   "nbconvert_exporter": "python",
   "pygments_lexer": "ipython3",
   "version": "3.7.16"
  }
 },
 "nbformat": 4,
 "nbformat_minor": 5
}
