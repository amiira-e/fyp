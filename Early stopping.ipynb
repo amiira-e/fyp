{
 "cells": [
  {
   "cell_type": "code",
   "execution_count": 1,
   "id": "36751d5c",
   "metadata": {},
   "outputs": [],
   "source": [
    "import numpy as np\n",
    "import pandas as pd"
   ]
  },
  {
   "cell_type": "code",
   "execution_count": 2,
   "id": "e4bd0f18",
   "metadata": {},
   "outputs": [],
   "source": [
    "df = pd.read_csv(r\"C:\\Users\\23059\\OneDrive\\Desktop\\Amiira\\Y3S1\\fyp\\FraudDetectionData.csv\")"
   ]
  },
  {
   "cell_type": "code",
   "execution_count": 3,
   "id": "47d84626",
   "metadata": {},
   "outputs": [],
   "source": [
    "# Change the data type of column 'A' from float64 to float32\n",
    "df['amount'] = df['amount'].astype('float32')\n",
    "df['oldbalanceOrg'] = df['oldbalanceOrg'].astype('float32')\n",
    "df['oldbalanceDest'] = df['oldbalanceDest'].astype('float32')\n",
    "df['newbalanceOrig'] = df['newbalanceOrig'].astype('float32')\n",
    "df['newbalanceDest'] = df['newbalanceDest'].astype('float32')"
   ]
  },
  {
   "cell_type": "code",
   "execution_count": 5,
   "id": "ddd14302",
   "metadata": {},
   "outputs": [],
   "source": [
    "df['step'] = df['step'].astype('int32')\n",
    "df['isFlaggedFraud'] = df['isFlaggedFraud'].astype('int32') \n",
    "df['isFraud'] = df['isFraud'].astype('int32') "
   ]
  },
  {
   "cell_type": "code",
   "execution_count": 6,
   "id": "6224bfe8",
   "metadata": {},
   "outputs": [],
   "source": [
    "# Importing LabelEncoder from Sklearn\n",
    "# library from preprocessing Module.\n",
    "from sklearn.preprocessing import LabelEncoder\n",
    "# Creating a instance of label Encoder.\n",
    "le = LabelEncoder()\n",
    "# Using .fit_transform function to fit label\n",
    "# encoder and return encoded label\n",
    "label = le.fit_transform(df['type'])\n",
    "# printing label\n",
    "label\n",
    "# removing the column 'type' from df\n",
    "# as it is of no use now.\n",
    "df.drop(\"type\", axis=1, inplace=True)\n",
    "# Appending the array to our dataFrame\n",
    "# with column name 'type'\n",
    "df[\"type\"] = label\n",
    "# printing Dataframe\n",
    "#df"
   ]
  },
  {
   "cell_type": "code",
   "execution_count": 7,
   "id": "a7a48f86",
   "metadata": {},
   "outputs": [],
   "source": [
    "from sklearn.preprocessing import LabelEncoder\n",
    "le = LabelEncoder()\n",
    "label = le.fit_transform(df['nameDest'])\n",
    "label\n",
    "df.drop(\"nameDest\", axis=1, inplace=True)\n",
    "df[\"nameDest\"] = label\n",
    "#df"
   ]
  },
  {
   "cell_type": "code",
   "execution_count": 9,
   "id": "e9ad34d4",
   "metadata": {},
   "outputs": [],
   "source": [
    "from sklearn.preprocessing import LabelEncoder\n",
    "le = LabelEncoder()\n",
    "label = le.fit_transform(df['nameOrig'])\n",
    "label\n",
    "df.drop(\"nameOrig\", axis=1, inplace=True)\n",
    "df[\"nameOrig\"] = label\n",
    "#df"
   ]
  },
  {
   "cell_type": "code",
   "execution_count": 10,
   "id": "ee6b35d5",
   "metadata": {},
   "outputs": [
    {
     "name": "stdout",
     "output_type": "stream",
     "text": [
      "0    0.998709\n",
      "1    0.001291\n",
      "Name: isFraud, dtype: float64\n",
      "0    0.998709\n",
      "1    0.001291\n",
      "Name: isFraud, dtype: float64\n",
      "0    0.99871\n",
      "1    0.00129\n",
      "Name: isFraud, dtype: float64\n"
     ]
    }
   ],
   "source": [
    "from sklearn.model_selection import train_test_split\n",
    "\n",
    "X = df.drop('isFraud', axis=1)\n",
    "# Separate the target variable\n",
    "y = df['isFraud']\n",
    "\n",
    "# Print class distribution before split\n",
    "print(y.value_counts(normalize=True))\n",
    "\n",
    "from sklearn.model_selection import train_test_split\n",
    "\n",
    "# Assuming X contains your features and y contains your target variable\n",
    "X_train, X_test, y_train, y_test = train_test_split(X, y, test_size=0.1, stratify=y, random_state=18)\n",
    "\n",
    "# Print class distribution after split\n",
    "print(y_train.value_counts(normalize=True))\n",
    "print(y_test.value_counts(normalize=True))"
   ]
  },
  {
   "cell_type": "code",
   "execution_count": 11,
   "id": "ffcc877d",
   "metadata": {},
   "outputs": [
    {
     "name": "stdout",
     "output_type": "stream",
     "text": [
      "Number of rows in X_train: 5726358\n",
      "Number of rows in X_test: 636262\n"
     ]
    }
   ],
   "source": [
    "print(\"Number of rows in X_train:\", X_train.shape[0])\n",
    "print(\"Number of rows in X_test:\", X_test.shape[0])"
   ]
  },
  {
   "cell_type": "code",
   "execution_count": 12,
   "id": "2393e56e",
   "metadata": {},
   "outputs": [
    {
     "name": "stdout",
     "output_type": "stream",
     "text": [
      "Train set trimmed means:  {'amount': 84271.94, 'oldbalanceOrg': 17621.898, 'newbalanceOrig': 12169.728, 'oldbalanceDest': 191011.05, 'newbalanceDest': 245126.7}\n"
     ]
    }
   ],
   "source": [
    "import random\n",
    "random.seed (20)\n",
    "import numpy as np\n",
    "from scipy import stats\n",
    "\n",
    "# Specify columns with outliers\n",
    "cols_with_outliers = ['amount', 'oldbalanceOrg', 'newbalanceOrig', 'oldbalanceDest', 'newbalanceDest']\n",
    "\n",
    "# Specify the number of bootstrapped samples to create per column\n",
    "num_samples = 50\n",
    "\n",
    "# Specify the right trimming proportions for each column\n",
    "trim_props = {'amount': 0.14, 'oldbalanceOrg': 0.24, 'newbalanceOrig': 0.25, 'oldbalanceDest': 0.22, 'newbalanceDest': 0.22}\n",
    "\n",
    "# Initialize empty dictionaries to store the trimmed means for each column\n",
    "train_trimmed_means = {}\n",
    "\n",
    "# Loop over the specified columns\n",
    "for col_name in cols_with_outliers:\n",
    "    \n",
    "    # Check if the trimming proportion for this column is 0\n",
    "    if trim_props[col_name] == 0:\n",
    "        # If so, skip this column and move on to the next one\n",
    "        continue\n",
    "    \n",
    "    # Initialize empty lists to store the bootstrapped samples and the trimmed means for the training set\n",
    "    train_bootstrapped_samples = []\n",
    "    train_trimmed_means_list = []\n",
    "    \n",
    "    # Loop over the number of desired samples\n",
    "    for i in range(num_samples):\n",
    "        # Randomly select indices from the column in the training set\n",
    "        train_sample_indices = np.random.choice(X_train.index, size=len(X_train), replace=True)\n",
    "        \n",
    "        # Create a bootstrapped sample by indexing into the column with the selected indices for the training set\n",
    "        train_sample = X_train.loc[train_sample_indices, col_name]\n",
    "        \n",
    "        # Append the bootstrapped samples to the list for the training set\n",
    "        train_bootstrapped_samples.append(train_sample)\n",
    "        \n",
    "        # Calculate the right trimmed mean of the bootstrapped sample for the training set\n",
    "        train_right_trimmed_mean = np.mean(train_sample[train_sample <= np.percentile(train_sample, 100*(1-trim_props[col_name]))])\n",
    "        train_trimmed_means_list.append(train_right_trimmed_mean)\n",
    "        \n",
    "    # Calculate the mean of the right trimmed means for the training set and add it to the dictionary\n",
    "    train_trimmed_means[col_name] = np.mean(train_trimmed_means_list)\n",
    "\n",
    "    # Replace the outliers in the training set with the trimmed means\n",
    "    X_train.loc[X_train[col_name] > np.percentile(X_train[col_name], 100*(1-trim_props[col_name])), col_name] = train_trimmed_means[col_name]\n",
    "\n",
    "# Print the trimmed means for each column separately for the training set\n",
    "print(\"Train set trimmed means: \", train_trimmed_means)"
   ]
  },
  {
   "cell_type": "code",
   "execution_count": 13,
   "id": "92fdd1a9",
   "metadata": {},
   "outputs": [],
   "source": [
    "# # Convert float64 columns to float32\n",
    "# float64_cols = df.select_dtypes(include=['float64']).columns\n",
    "# df[float64_cols] = df[float64_cols].astype('float32')"
   ]
  },
  {
   "cell_type": "markdown",
   "id": "d4e69302",
   "metadata": {},
   "source": [
    "## FS Random Forest"
   ]
  },
  {
   "cell_type": "code",
   "execution_count": 30,
   "id": "3a82efd3",
   "metadata": {},
   "outputs": [],
   "source": [
    "# from sklearn.ensemble import RandomForestClassifier\n",
    "# # Select top features using Random Forest\n",
    "# rf = RandomForestClassifier(random_state=18)\n",
    "# rf.fit(X_train, y_train)\n",
    "# importances = rf.feature_importances_\n",
    "# indices = np.argsort(importances)[::-1]\n",
    "# top_features = X_train.columns[indices][:5]  # select top 5 features\n",
    "# print(top_features )"
   ]
  },
  {
   "cell_type": "code",
   "execution_count": 15,
   "id": "00d7ff2b",
   "metadata": {},
   "outputs": [],
   "source": [
    "# import matplotlib.pyplot as plt\n",
    "# # Plot feature importances\n",
    "# plt.figure(figsize=(7, 5))\n",
    "# plt.title(\"Feature importances\")\n",
    "# plt.bar(range(len(indices)), importances[indices])\n",
    "# plt.xticks(range(len(indices)), X_train.columns[indices], rotation=90)\n",
    "# plt.tight_layout()\n",
    "# plt.show()"
   ]
  },
  {
   "cell_type": "code",
   "execution_count": 16,
   "id": "f4ebbe17",
   "metadata": {},
   "outputs": [],
   "source": [
    "# # Subset X_train to include only selected features\n",
    "# X_train_selected = X_train[top_features]"
   ]
  },
  {
   "cell_type": "code",
   "execution_count": 17,
   "id": "a7145fe9",
   "metadata": {},
   "outputs": [
    {
     "name": "stdout",
     "output_type": "stream",
     "text": [
      "5\n"
     ]
    }
   ],
   "source": [
    "# index_of_b = df.columns.get_loc('newbalanceDest')\n",
    "# print(index_of_b) "
   ]
  },
  {
   "cell_type": "code",
   "execution_count": 18,
   "id": "58b44f2c",
   "metadata": {},
   "outputs": [
    {
     "name": "stdout",
     "output_type": "stream",
     "text": [
      "0\n"
     ]
    }
   ],
   "source": [
    "# index_of_b = df.columns.get_loc('step')\n",
    "# print(index_of_b) "
   ]
  },
  {
   "cell_type": "code",
   "execution_count": 19,
   "id": "178bee50",
   "metadata": {},
   "outputs": [
    {
     "name": "stdout",
     "output_type": "stream",
     "text": [
      "2\n"
     ]
    }
   ],
   "source": [
    "# index_of_b = df.columns.get_loc('oldbalanceOrg')\n",
    "# print(index_of_b) "
   ]
  },
  {
   "cell_type": "code",
   "execution_count": 21,
   "id": "c46f487c",
   "metadata": {},
   "outputs": [
    {
     "name": "stdout",
     "output_type": "stream",
     "text": [
      "4\n"
     ]
    }
   ],
   "source": [
    "# index_of_b = df.columns.get_loc('oldbalanceDest')\n",
    "# print(index_of_b) "
   ]
  },
  {
   "cell_type": "code",
   "execution_count": 20,
   "id": "a1be97b6",
   "metadata": {},
   "outputs": [
    {
     "name": "stdout",
     "output_type": "stream",
     "text": [
      "1\n"
     ]
    }
   ],
   "source": [
    "# index_of_b = df.columns.get_loc('amount')\n",
    "# print(index_of_b) "
   ]
  },
  {
   "cell_type": "code",
   "execution_count": 22,
   "id": "caa1accc",
   "metadata": {},
   "outputs": [],
   "source": [
    "# #Extract same features in test set,select the columns by index\n",
    "# selected_indices = [5,0,2,4,1]\n",
    "# X_test_selected = X_test.iloc[:, selected_indices]"
   ]
  },
  {
   "cell_type": "code",
   "execution_count": 23,
   "id": "6d37cf8a",
   "metadata": {},
   "outputs": [
    {
     "name": "stdout",
     "output_type": "stream",
     "text": [
      "(636262, 5)\n"
     ]
    }
   ],
   "source": [
    "print(X_test_selected.shape)"
   ]
  },
  {
   "cell_type": "code",
   "execution_count": 24,
   "id": "896ad5fd",
   "metadata": {},
   "outputs": [
    {
     "name": "stdout",
     "output_type": "stream",
     "text": [
      "(5726358,)\n"
     ]
    }
   ],
   "source": [
    "print(y_train.shape)"
   ]
  },
  {
   "cell_type": "markdown",
   "id": "73f89b41",
   "metadata": {},
   "source": [
    "## Always use"
   ]
  },
  {
   "cell_type": "code",
   "execution_count": 31,
   "id": "4e77711e",
   "metadata": {},
   "outputs": [],
   "source": [
    "# Assuming your original training data is stored in a pandas DataFrame called X_train\n",
    "# And assuming you have a list of selected feature names called selected_features\n",
    "selected_features = ['newbalanceDest', 'step', 'oldbalanceDest','oldbalanceOrg','amount']\n",
    "X_train_selected = X_train[selected_features]"
   ]
  },
  {
   "cell_type": "code",
   "execution_count": 32,
   "id": "ffce54e9",
   "metadata": {},
   "outputs": [
    {
     "data": {
      "text/html": [
       "<div>\n",
       "<style scoped>\n",
       "    .dataframe tbody tr th:only-of-type {\n",
       "        vertical-align: middle;\n",
       "    }\n",
       "\n",
       "    .dataframe tbody tr th {\n",
       "        vertical-align: top;\n",
       "    }\n",
       "\n",
       "    .dataframe thead th {\n",
       "        text-align: right;\n",
       "    }\n",
       "</style>\n",
       "<table border=\"1\" class=\"dataframe\">\n",
       "  <thead>\n",
       "    <tr style=\"text-align: right;\">\n",
       "      <th></th>\n",
       "      <th>newbalanceDest</th>\n",
       "      <th>step</th>\n",
       "      <th>oldbalanceDest</th>\n",
       "      <th>oldbalanceOrg</th>\n",
       "      <th>amount</th>\n",
       "    </tr>\n",
       "  </thead>\n",
       "  <tbody>\n",
       "    <tr>\n",
       "      <th>5289717</th>\n",
       "      <td>6.115774e+05</td>\n",
       "      <td>373</td>\n",
       "      <td>306416.250000</td>\n",
       "      <td>3296.000000</td>\n",
       "      <td>305161.156250</td>\n",
       "    </tr>\n",
       "    <tr>\n",
       "      <th>5962343</th>\n",
       "      <td>0.000000e+00</td>\n",
       "      <td>406</td>\n",
       "      <td>0.000000</td>\n",
       "      <td>0.000000</td>\n",
       "      <td>8840.879883</td>\n",
       "    </tr>\n",
       "    <tr>\n",
       "      <th>2527894</th>\n",
       "      <td>0.000000e+00</td>\n",
       "      <td>205</td>\n",
       "      <td>0.000000</td>\n",
       "      <td>10548.000000</td>\n",
       "      <td>3120.010010</td>\n",
       "    </tr>\n",
       "    <tr>\n",
       "      <th>4081906</th>\n",
       "      <td>1.050114e+06</td>\n",
       "      <td>301</td>\n",
       "      <td>704466.875000</td>\n",
       "      <td>0.000000</td>\n",
       "      <td>84271.937500</td>\n",
       "    </tr>\n",
       "    <tr>\n",
       "      <th>5004020</th>\n",
       "      <td>2.451267e+05</td>\n",
       "      <td>353</td>\n",
       "      <td>191011.046875</td>\n",
       "      <td>0.000000</td>\n",
       "      <td>84271.937500</td>\n",
       "    </tr>\n",
       "    <tr>\n",
       "      <th>...</th>\n",
       "      <td>...</td>\n",
       "      <td>...</td>\n",
       "      <td>...</td>\n",
       "      <td>...</td>\n",
       "      <td>...</td>\n",
       "    </tr>\n",
       "    <tr>\n",
       "      <th>3873820</th>\n",
       "      <td>1.335741e+05</td>\n",
       "      <td>283</td>\n",
       "      <td>136055.593750</td>\n",
       "      <td>29907.000000</td>\n",
       "      <td>2481.469971</td>\n",
       "    </tr>\n",
       "    <tr>\n",
       "      <th>713223</th>\n",
       "      <td>2.451267e+05</td>\n",
       "      <td>37</td>\n",
       "      <td>191011.046875</td>\n",
       "      <td>231.000000</td>\n",
       "      <td>7665.970215</td>\n",
       "    </tr>\n",
       "    <tr>\n",
       "      <th>4991147</th>\n",
       "      <td>2.451267e+05</td>\n",
       "      <td>352</td>\n",
       "      <td>191011.046875</td>\n",
       "      <td>29582.000000</td>\n",
       "      <td>29435.640625</td>\n",
       "    </tr>\n",
       "    <tr>\n",
       "      <th>6279815</th>\n",
       "      <td>2.451267e+05</td>\n",
       "      <td>644</td>\n",
       "      <td>191011.046875</td>\n",
       "      <td>17621.898438</td>\n",
       "      <td>84271.937500</td>\n",
       "    </tr>\n",
       "    <tr>\n",
       "      <th>8219</th>\n",
       "      <td>0.000000e+00</td>\n",
       "      <td>7</td>\n",
       "      <td>0.000000</td>\n",
       "      <td>29937.750000</td>\n",
       "      <td>1007.429993</td>\n",
       "    </tr>\n",
       "  </tbody>\n",
       "</table>\n",
       "<p>5726358 rows × 5 columns</p>\n",
       "</div>"
      ],
      "text/plain": [
       "         newbalanceDest  step  oldbalanceDest  oldbalanceOrg         amount\n",
       "5289717    6.115774e+05   373   306416.250000    3296.000000  305161.156250\n",
       "5962343    0.000000e+00   406        0.000000       0.000000    8840.879883\n",
       "2527894    0.000000e+00   205        0.000000   10548.000000    3120.010010\n",
       "4081906    1.050114e+06   301   704466.875000       0.000000   84271.937500\n",
       "5004020    2.451267e+05   353   191011.046875       0.000000   84271.937500\n",
       "...                 ...   ...             ...            ...            ...\n",
       "3873820    1.335741e+05   283   136055.593750   29907.000000    2481.469971\n",
       "713223     2.451267e+05    37   191011.046875     231.000000    7665.970215\n",
       "4991147    2.451267e+05   352   191011.046875   29582.000000   29435.640625\n",
       "6279815    2.451267e+05   644   191011.046875   17621.898438   84271.937500\n",
       "8219       0.000000e+00     7        0.000000   29937.750000    1007.429993\n",
       "\n",
       "[5726358 rows x 5 columns]"
      ]
     },
     "execution_count": 32,
     "metadata": {},
     "output_type": "execute_result"
    }
   ],
   "source": [
    "X_train_selected "
   ]
  },
  {
   "cell_type": "code",
   "execution_count": 33,
   "id": "89026007",
   "metadata": {},
   "outputs": [],
   "source": [
    "#Extract same features in test set,select the columns by index\n",
    "selected_indices = [5,0,4,2,1]\n",
    "X_test_selected = X_test.iloc[:, selected_indices]"
   ]
  },
  {
   "cell_type": "code",
   "execution_count": 34,
   "id": "ffe1dba0",
   "metadata": {},
   "outputs": [
    {
     "data": {
      "text/html": [
       "<div>\n",
       "<style scoped>\n",
       "    .dataframe tbody tr th:only-of-type {\n",
       "        vertical-align: middle;\n",
       "    }\n",
       "\n",
       "    .dataframe tbody tr th {\n",
       "        vertical-align: top;\n",
       "    }\n",
       "\n",
       "    .dataframe thead th {\n",
       "        text-align: right;\n",
       "    }\n",
       "</style>\n",
       "<table border=\"1\" class=\"dataframe\">\n",
       "  <thead>\n",
       "    <tr style=\"text-align: right;\">\n",
       "      <th></th>\n",
       "      <th>newbalanceDest</th>\n",
       "      <th>step</th>\n",
       "      <th>oldbalanceDest</th>\n",
       "      <th>oldbalanceOrg</th>\n",
       "      <th>amount</th>\n",
       "    </tr>\n",
       "  </thead>\n",
       "  <tbody>\n",
       "    <tr>\n",
       "      <th>1402687</th>\n",
       "      <td>3.239300e+05</td>\n",
       "      <td>139</td>\n",
       "      <td>5.000470e+05</td>\n",
       "      <td>2.080000e+03</td>\n",
       "      <td>176116.968750</td>\n",
       "    </tr>\n",
       "    <tr>\n",
       "      <th>2760752</th>\n",
       "      <td>9.766837e+04</td>\n",
       "      <td>213</td>\n",
       "      <td>6.575366e+05</td>\n",
       "      <td>5.854688e+06</td>\n",
       "      <td>559868.187500</td>\n",
       "    </tr>\n",
       "    <tr>\n",
       "      <th>3594236</th>\n",
       "      <td>0.000000e+00</td>\n",
       "      <td>262</td>\n",
       "      <td>0.000000e+00</td>\n",
       "      <td>2.745168e+05</td>\n",
       "      <td>8622.099609</td>\n",
       "    </tr>\n",
       "    <tr>\n",
       "      <th>1933631</th>\n",
       "      <td>0.000000e+00</td>\n",
       "      <td>177</td>\n",
       "      <td>0.000000e+00</td>\n",
       "      <td>7.080094e+04</td>\n",
       "      <td>30724.619141</td>\n",
       "    </tr>\n",
       "    <tr>\n",
       "      <th>2227203</th>\n",
       "      <td>4.123296e+06</td>\n",
       "      <td>186</td>\n",
       "      <td>3.308022e+06</td>\n",
       "      <td>0.000000e+00</td>\n",
       "      <td>815273.687500</td>\n",
       "    </tr>\n",
       "    <tr>\n",
       "      <th>...</th>\n",
       "      <td>...</td>\n",
       "      <td>...</td>\n",
       "      <td>...</td>\n",
       "      <td>...</td>\n",
       "      <td>...</td>\n",
       "    </tr>\n",
       "    <tr>\n",
       "      <th>3753638</th>\n",
       "      <td>0.000000e+00</td>\n",
       "      <td>279</td>\n",
       "      <td>0.000000e+00</td>\n",
       "      <td>0.000000e+00</td>\n",
       "      <td>1305.969971</td>\n",
       "    </tr>\n",
       "    <tr>\n",
       "      <th>1532557</th>\n",
       "      <td>0.000000e+00</td>\n",
       "      <td>154</td>\n",
       "      <td>0.000000e+00</td>\n",
       "      <td>1.235073e+06</td>\n",
       "      <td>26853.359375</td>\n",
       "    </tr>\n",
       "    <tr>\n",
       "      <th>2800777</th>\n",
       "      <td>0.000000e+00</td>\n",
       "      <td>217</td>\n",
       "      <td>0.000000e+00</td>\n",
       "      <td>1.291580e+04</td>\n",
       "      <td>28641.919922</td>\n",
       "    </tr>\n",
       "    <tr>\n",
       "      <th>2444235</th>\n",
       "      <td>0.000000e+00</td>\n",
       "      <td>203</td>\n",
       "      <td>0.000000e+00</td>\n",
       "      <td>2.710670e+05</td>\n",
       "      <td>10589.280273</td>\n",
       "    </tr>\n",
       "    <tr>\n",
       "      <th>1935763</th>\n",
       "      <td>4.673795e+06</td>\n",
       "      <td>177</td>\n",
       "      <td>4.739241e+06</td>\n",
       "      <td>1.263914e+06</td>\n",
       "      <td>65446.449219</td>\n",
       "    </tr>\n",
       "  </tbody>\n",
       "</table>\n",
       "<p>636262 rows × 5 columns</p>\n",
       "</div>"
      ],
      "text/plain": [
       "         newbalanceDest  step  oldbalanceDest  oldbalanceOrg         amount\n",
       "1402687    3.239300e+05   139    5.000470e+05   2.080000e+03  176116.968750\n",
       "2760752    9.766837e+04   213    6.575366e+05   5.854688e+06  559868.187500\n",
       "3594236    0.000000e+00   262    0.000000e+00   2.745168e+05    8622.099609\n",
       "1933631    0.000000e+00   177    0.000000e+00   7.080094e+04   30724.619141\n",
       "2227203    4.123296e+06   186    3.308022e+06   0.000000e+00  815273.687500\n",
       "...                 ...   ...             ...            ...            ...\n",
       "3753638    0.000000e+00   279    0.000000e+00   0.000000e+00    1305.969971\n",
       "1532557    0.000000e+00   154    0.000000e+00   1.235073e+06   26853.359375\n",
       "2800777    0.000000e+00   217    0.000000e+00   1.291580e+04   28641.919922\n",
       "2444235    0.000000e+00   203    0.000000e+00   2.710670e+05   10589.280273\n",
       "1935763    4.673795e+06   177    4.739241e+06   1.263914e+06   65446.449219\n",
       "\n",
       "[636262 rows x 5 columns]"
      ]
     },
     "execution_count": 34,
     "metadata": {},
     "output_type": "execute_result"
    }
   ],
   "source": [
    "X_test_selected"
   ]
  },
  {
   "cell_type": "markdown",
   "id": "de40b288",
   "metadata": {},
   "source": [
    "## Early stopping"
   ]
  },
  {
   "cell_type": "code",
   "execution_count": 35,
   "id": "33b47e7e",
   "metadata": {},
   "outputs": [],
   "source": [
    "from scipy.stats import randint as sp_randint\n",
    "# Define your hyperparameter search space\n",
    "param_dist = { \n",
    "    'n_estimators': sp_randint(100, 300),\n",
    "    'max_features': ['sqrt', 'log2'],\n",
    "    'max_depth' : sp_randint(3,5),\n",
    "    'criterion' :['gini', 'entropy']\n",
    "}"
   ]
  },
  {
   "cell_type": "code",
   "execution_count": 36,
   "id": "7bdb45fa",
   "metadata": {},
   "outputs": [
    {
     "name": "stdout",
     "output_type": "stream",
     "text": [
      "n_iterations: 3\n",
      "n_required_iterations: 3\n",
      "n_possible_iterations: 3\n",
      "min_resources_: 20\n",
      "max_resources_: 100\n",
      "aggressive_elimination: True\n",
      "factor: 2\n",
      "----------\n",
      "iter: 0\n",
      "n_candidates: 5\n",
      "n_resources: 20\n",
      "Fitting 5 folds for each of 5 candidates, totalling 25 fits\n",
      "----------\n",
      "iter: 1\n",
      "n_candidates: 3\n",
      "n_resources: 40\n",
      "Fitting 5 folds for each of 3 candidates, totalling 15 fits\n",
      "----------\n",
      "iter: 2\n",
      "n_candidates: 2\n",
      "n_resources: 80\n",
      "Fitting 5 folds for each of 2 candidates, totalling 10 fits\n"
     ]
    },
    {
     "data": {
      "text/plain": [
       "HalvingRandomSearchCV(aggressive_elimination=True,\n",
       "                      estimator=RandomForestClassifier(random_state=18),\n",
       "                      factor=2, max_resources=100,\n",
       "                      param_distributions={'criterion': ['gini', 'entropy'],\n",
       "                                           'max_depth': <scipy.stats._distn_infrastructure.rv_frozen object at 0x0000020544E947C8>,\n",
       "                                           'max_features': ['sqrt', 'log2'],\n",
       "                                           'n_estimators': <scipy.stats._distn_infrastructure.rv_frozen object at 0x0000020544E94A88>},\n",
       "                      random_state=18, scoring='accuracy', verbose=1)"
      ]
     },
     "execution_count": 36,
     "metadata": {},
     "output_type": "execute_result"
    }
   ],
   "source": [
    "from sklearn.experimental import enable_halving_search_cv  # Required to enable HalvingRandomSearchCV\n",
    "from sklearn.model_selection import HalvingRandomSearchCV\n",
    "\n",
    "# Set up the HalvingRandomSearchCV with aggressive early stopping\n",
    "search = HalvingRandomSearchCV(rf, param_dist, cv=5,verbose=1, \n",
    "                               factor=2, resource='n_samples', max_resources=100, \n",
    "                               aggressive_elimination=True, random_state=18, \n",
    "                               scoring='accuracy', refit=True)\n",
    "\n",
    "# Fit the HalvingRandomSearchCV object to the data\n",
    "search.fit(X_train_selected, y_train)"
   ]
  },
  {
   "cell_type": "code",
   "execution_count": 37,
   "id": "095785e1",
   "metadata": {},
   "outputs": [],
   "source": [
    "# Get the best hyperparameters and evaluate on the test set\n",
    "best_params = search.best_params_\n",
    "best_model = search.best_estimator_"
   ]
  },
  {
   "cell_type": "code",
   "execution_count": 38,
   "id": "0752d80d",
   "metadata": {},
   "outputs": [],
   "source": [
    "y_pred = best_model.predict(X_test_selected)"
   ]
  },
  {
   "cell_type": "code",
   "execution_count": 39,
   "id": "f6b699f0",
   "metadata": {},
   "outputs": [
    {
     "name": "stdout",
     "output_type": "stream",
     "text": [
      "Best hyperparameters: {'criterion': 'entropy', 'max_depth': 4, 'max_features': 'log2', 'n_estimators': 290}\n",
      "Test set accuracy: 0.9987112227352883\n"
     ]
    }
   ],
   "source": [
    "from sklearn.metrics import accuracy_score\n",
    "accuracy = accuracy_score(y_test, y_pred)\n",
    "print(\"Best hyperparameters:\", best_params)\n",
    "print(\"Test set accuracy:\", accuracy)"
   ]
  },
  {
   "cell_type": "markdown",
   "id": "3853b65f",
   "metadata": {},
   "source": [
    "## Use cost sensitive learning random forest with the hyperparameters"
   ]
  },
  {
   "cell_type": "code",
   "execution_count": 40,
   "id": "07595bb2",
   "metadata": {},
   "outputs": [
    {
     "name": "stdout",
     "output_type": "stream",
     "text": [
      "(5726358, 5)\n"
     ]
    }
   ],
   "source": [
    "print(X_train_selected.shape)"
   ]
  },
  {
   "cell_type": "code",
   "execution_count": 41,
   "id": "d500d37e",
   "metadata": {},
   "outputs": [
    {
     "name": "stdout",
     "output_type": "stream",
     "text": [
      "(5726358,)\n"
     ]
    }
   ],
   "source": [
    "print(y_train.shape)"
   ]
  },
  {
   "cell_type": "code",
   "execution_count": null,
   "id": "b4402396",
   "metadata": {},
   "outputs": [
    {
     "name": "stdout",
     "output_type": "stream",
     "text": [
      "Fold: 1\n",
      "Confusion matrix:\n",
      " [[994425 911897]\n",
      " [     7   2457]]\n",
      "Recall: 0.9971590909090909\n",
      "Accuracy: 0.5222596980489169\n",
      "Precision: 0.0026871430540031543\n",
      "F1-score: 0.005359842411470979\n",
      "AUC-ROC: 0.9553666984894091\n",
      "---------------------\n"
     ]
    },
    {
     "data": {
      "image/png": "[encoded data removed]",
      "text/plain": [
       "<Figure size 640x480 with 1 Axes>"
      ]
     },
     "metadata": {},
     "output_type": "display_data"
    },
    {
     "name": "stdout",
     "output_type": "stream",
     "text": [
      "Fold: 2\n",
      "Confusion matrix:\n",
      " [[995053 911269]\n",
      " [     6   2458]]\n",
      "Recall: 0.997564935064935\n",
      "Accuracy: 0.5225892268698534\n",
      "Precision: 0.002690081391925597\n",
      "F1-score: 0.00536569339799234\n",
      "AUC-ROC: 0.9547708016865263\n",
      "---------------------\n"
     ]
    },
    {
     "data": {
      "image/png": "[encoded data removed]",
      "text/plain": [
       "<Figure size 640x480 with 1 Axes>"
      ]
     },
     "metadata": {},
     "output_type": "display_data"
    },
    {
     "name": "stdout",
     "output_type": "stream",
     "text": [
      "Fold: 3\n"
     ]
    }
   ],
   "source": [
    "from sklearn.model_selection import StratifiedKFold\n",
    "from sklearn.metrics import roc_curve, auc\n",
    "import matplotlib.pyplot as plt\n",
    "from sklearn.ensemble import RandomForestClassifier\n",
    "from sklearn.metrics import confusion_matrix, recall_score, accuracy_score, precision_score, f1_score\n",
    "\n",
    "# Define the number of splits for stratified cross-validation\n",
    "n_splits = 3\n",
    "\n",
    "# Initialize StratifiedKFold\n",
    "skf = StratifiedKFold(n_splits=n_splits)\n",
    "\n",
    "# Create lists to store evaluation metrics for each fold\n",
    "f1_scores = []\n",
    "recall_scores = []\n",
    "precision_scores = []\n",
    "accuracy_scores = []\n",
    "roc_auc_scores = []\n",
    "\n",
    "# Iterate over each fold\n",
    "for fold, (train_idx, val_idx) in enumerate(skf.split(X_train_selected, y_train)):\n",
    "    print(f'Fold: {fold+1}')\n",
    "    \n",
    "    # Split the data into training and validation sets\n",
    "#     X_train, y_train = X.iloc[train_idx], y.iloc[train_idx]\n",
    "#     X_val, y_val = X.iloc[val_idx], y.iloc[val_idx]\n",
    "\n",
    "    X_fold_train, y_fold_train = X_train_selected.iloc[train_idx], y_train.iloc[train_idx]\n",
    "    X_val, y_val = X_train_selected.iloc[val_idx], y_train.iloc[val_idx]\n",
    "\n",
    "    # Train a random forest model with 100 trees and a max depth of 4\n",
    "    #6355400/8213\n",
    "    class_weight = {0: 1, 1: 5000}\n",
    "    rf_model = RandomForestClassifier(n_estimators=290, max_features='log2', max_depth=4,\n",
    "                                   class_weight=class_weight, oob_score=True, random_state=18, criterion=\"entropy\")\n",
    "\n",
    "    # Fit the model on the training data\n",
    "    rf_model.fit(X_train_selected, y_train)\n",
    "\n",
    "    # Predict the class labels for the validation set\n",
    "    y_val_pred = rf_model.predict(X_val)\n",
    "\n",
    "    # Compute the evaluation metrics for the current fold\n",
    "    conf_mat = confusion_matrix(y_val, y_val_pred)\n",
    "    recall = recall_score(y_val, y_val_pred)\n",
    "    accuracy = accuracy_score(y_val, y_val_pred)\n",
    "    precision = precision_score(y_val, y_val_pred)\n",
    "    f1 = f1_score(y_val, y_val_pred)\n",
    "\n",
    "    # Compute the probabilities of each class for the validation set\n",
    "    y_val_prob = rf_model.predict_proba(X_val)[:, 1]\n",
    "\n",
    "    # Compute the false positive rate, true positive rate, and area under the ROC curve\n",
    "    fpr, tpr, _ = roc_curve(y_val, y_val_prob)\n",
    "    roc_auc = auc(fpr, tpr)\n",
    "\n",
    "    # Append the evaluation metrics for the current fold to the lists\n",
    "    f1_scores.append(f1)\n",
    "    recall_scores.append(recall)\n",
    "    precision_scores.append(precision)\n",
    "    accuracy_scores.append(accuracy)\n",
    "    roc_auc_scores.append(roc_auc)\n",
    "\n",
    "    # Print the evaluation metrics for the current fold\n",
    "    print('Confusion matrix:\\n', conf_mat)\n",
    "    print('Recall:', recall)\n",
    "    print('Accuracy:', accuracy)\n",
    "    print('Precision:', precision)\n",
    "    print('F1-score:', f1)\n",
    "    print('AUC-ROC:', roc_auc)\n",
    "    print('---------------------')\n",
    "\n",
    "    # Plot the ROC curve for the current fold\n",
    "    plt.figure()\n",
    "    lw = 2\n",
    "    plt.plot(fpr, tpr, color='darkorange', lw=lw, label='ROC curve (area = %0.2f)' % roc_auc)\n",
    "    plt.plot([0, 1], [0, 1], color='navy', lw=lw, linestyle='--')\n",
    "    plt.xlim([0.0, 1.0])\n",
    "    plt.ylim([0.0, 1.05])\n",
    "    plt.xlabel('False Positive Rate')\n",
    "    plt.ylabel('True Positive Rate')\n",
    "    plt.title('ROC Curve (Fold %d)' % (fold+1))\n",
    "    plt.legend(loc=\"lower right\")\n",
    "    plt.show()\n",
    "    \n",
    "# Compute the mean and standard deviation of the evaluation metrics over all the folds\n",
    "mean_f1 = np.mean(f1_scores)\n",
    "std_f1 = np.std(f1_scores)\n",
    "mean_recall"
   ]
  },
  {
   "cell_type": "markdown",
   "id": "83218870",
   "metadata": {},
   "source": [
    "Cost sensitive learning\n",
    "Use correct hyperparameter\n",
    "plot OOB error for every fold\n",
    "plot f1 score for train & test : https://www.bing.com/images/search?view=detailV2&ccid=7RhAWIsn&id=EFDAEB69AA4818AB3C9475F012C996C507736D0B&thid=OIP.7RhAWIsn6RONqcOdAR6t6gHaHJ&mediaurl=https%3A%2F%2Fcdn.analyticsvidhya.com%2Fwp-content%2Fuploads%2F2020%2F03%2FScreenshot-2020-03-04-at-15.08.50-850x820.png&cdnurl=https%3A%2F%2Fth.bing.com%2Fth%2Fid%2FR.ed1840588b27e9138da9c39d011eadea%3Frik%3DC21zB8WWyRLwdQ%26pid%3DImgRaw%26r%3D0&exph=820&expw=850&q=graphs+for+random+forest&simid=608001867482224477&form=IRPRST&ck=ACE74CE8E33F1BDCD8DFF63221C79789&selectedindex=9&ajaxhist=0&ajaxserp=0&vt=0&sim=11"
   ]
  },
  {
   "cell_type": "markdown",
   "id": "ac8163f5",
   "metadata": {},
   "source": [
    "out-of-sample testing\" or \"model validation."
   ]
  },
  {
   "cell_type": "markdown",
   "id": "947c87c2",
   "metadata": {},
   "source": [
    "https://www.bing.com/images/search?view=detailV2&ccid=HiBreHJ1&id=4AE90CD5515EF4A6E50E9C0688ACB5FE7C375F42&thid=OIP.HiBreHJ1b7h-1uQEgXJDfQHaFB&mediaurl=https%3A%2F%2Fmiro.medium.com%2Fmax%2F552%2F1*80OL6-Nn2oYwQPcS3aO3jg.png&exph=374&expw=552&q=graphs+for+random+forest&simid=608008151010657800&form=IRPRST&ck=18435DC859CC9886473DD5FB88D029A8&selectedindex=29&ajaxhist=0&ajaxserp=0&vt=0&sim=11&cdnurl=https%3A%2F%2Fth.bing.com%2Fth%2Fid%2FR.1e206b7872756fb87ed6e4048172437d%3Frik%3DQl83fP61rIgGnA%26pid%3DImgRaw%26r%3D0"
   ]
  }
 ],
 "metadata": {
  "kernelspec": {
   "display_name": "Python 3 (ipykernel)",
   "language": "python",
   "name": "python3"
  },
  "language_info": {
   "codemirror_mode": {
    "name": "ipython",
    "version": 3
   },
   "file_extension": ".py",
   "mimetype": "text/x-python",
   "name": "python",
   "nbconvert_exporter": "python",
   "pygments_lexer": "ipython3",
   "version": "3.7.16"
  }
 },
 "nbformat": 4,
 "nbformat_minor": 5
}
