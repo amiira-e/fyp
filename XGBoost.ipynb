{
 "cells": [
  {
   "cell_type": "code",
   "execution_count": 2,
   "id": "8bc296ed",
   "metadata": {},
   "outputs": [],
   "source": [
    "import numpy as np\n",
    "import pandas as pd"
   ]
  },
  {
   "cell_type": "code",
   "execution_count": null,
   "id": "007b26f1",
   "metadata": {},
   "outputs": [],
   "source": [
    "df = pd.read_csv(r\"C:\\Users\\23059\\OneDrive\\Desktop\\Amiira\\Y3S1\\fyp\\FraudDetectionData.csv\")"
   ]
  },
  {
   "cell_type": "code",
   "execution_count": 3,
   "id": "f6c5f1c5",
   "metadata": {},
   "outputs": [
    {
     "data": {
      "text/html": [
       "<div>\n",
       "<style scoped>\n",
       "    .dataframe tbody tr th:only-of-type {\n",
       "        vertical-align: middle;\n",
       "    }\n",
       "\n",
       "    .dataframe tbody tr th {\n",
       "        vertical-align: top;\n",
       "    }\n",
       "\n",
       "    .dataframe thead th {\n",
       "        text-align: right;\n",
       "    }\n",
       "</style>\n",
       "<table border=\"1\" class=\"dataframe\">\n",
       "  <thead>\n",
       "    <tr style=\"text-align: right;\">\n",
       "      <th></th>\n",
       "      <th>step</th>\n",
       "      <th>type</th>\n",
       "      <th>amount</th>\n",
       "      <th>nameOrig</th>\n",
       "      <th>oldbalanceOrg</th>\n",
       "      <th>newbalanceOrig</th>\n",
       "      <th>nameDest</th>\n",
       "      <th>oldbalanceDest</th>\n",
       "      <th>newbalanceDest</th>\n",
       "      <th>isFraud</th>\n",
       "      <th>isFlaggedFraud</th>\n",
       "    </tr>\n",
       "  </thead>\n",
       "  <tbody>\n",
       "    <tr>\n",
       "      <th>0</th>\n",
       "      <td>1</td>\n",
       "      <td>PAYMENT</td>\n",
       "      <td>9839.64</td>\n",
       "      <td>C1231006815</td>\n",
       "      <td>170136.0</td>\n",
       "      <td>160296.36</td>\n",
       "      <td>M1979787155</td>\n",
       "      <td>0.0</td>\n",
       "      <td>0.0</td>\n",
       "      <td>0</td>\n",
       "      <td>0</td>\n",
       "    </tr>\n",
       "    <tr>\n",
       "      <th>1</th>\n",
       "      <td>1</td>\n",
       "      <td>PAYMENT</td>\n",
       "      <td>1864.28</td>\n",
       "      <td>C1666544295</td>\n",
       "      <td>21249.0</td>\n",
       "      <td>19384.72</td>\n",
       "      <td>M2044282225</td>\n",
       "      <td>0.0</td>\n",
       "      <td>0.0</td>\n",
       "      <td>0</td>\n",
       "      <td>0</td>\n",
       "    </tr>\n",
       "    <tr>\n",
       "      <th>2</th>\n",
       "      <td>1</td>\n",
       "      <td>TRANSFER</td>\n",
       "      <td>181.00</td>\n",
       "      <td>C1305486145</td>\n",
       "      <td>181.0</td>\n",
       "      <td>0.00</td>\n",
       "      <td>C553264065</td>\n",
       "      <td>0.0</td>\n",
       "      <td>0.0</td>\n",
       "      <td>1</td>\n",
       "      <td>0</td>\n",
       "    </tr>\n",
       "  </tbody>\n",
       "</table>\n",
       "</div>"
      ],
      "text/plain": [
       "   step      type   amount     nameOrig  oldbalanceOrg  newbalanceOrig  \\\n",
       "0     1   PAYMENT  9839.64  C1231006815       170136.0       160296.36   \n",
       "1     1   PAYMENT  1864.28  C1666544295        21249.0        19384.72   \n",
       "2     1  TRANSFER   181.00  C1305486145          181.0            0.00   \n",
       "\n",
       "      nameDest  oldbalanceDest  newbalanceDest  isFraud  isFlaggedFraud  \n",
       "0  M1979787155             0.0             0.0        0               0  \n",
       "1  M2044282225             0.0             0.0        0               0  \n",
       "2   C553264065             0.0             0.0        1               0  "
      ]
     },
     "execution_count": 3,
     "metadata": {},
     "output_type": "execute_result"
    }
   ],
   "source": [
    "df.head(3)"
   ]
  },
  {
   "cell_type": "markdown",
   "id": "b89d8c9e",
   "metadata": {},
   "source": [
    "## Class Imbalance"
   ]
  },
  {
   "cell_type": "code",
   "execution_count": null,
   "id": "9373fcba",
   "metadata": {},
   "outputs": [],
   "source": [
    "# Map the values in the isFraud column to Non-Fraud and Fraud\n",
    "df[\"isFraud\"] = df[\"isFraud\"].map({0: \"Non-Fraud\", 1: \"Fraud\"})"
   ]
  },
  {
   "cell_type": "code",
   "execution_count": null,
   "id": "d5a72ab6",
   "metadata": {},
   "outputs": [],
   "source": [
    "# Get the value counts of the isFraud column\n",
    "counts = df['isFraud'].value_counts().rename_axis('isFraud').reset_index(name='count')\n",
    "counts"
   ]
  },
  {
   "cell_type": "code",
   "execution_count": null,
   "id": "d0d87092",
   "metadata": {},
   "outputs": [],
   "source": [
    "import seaborn as sns\n",
    "import matplotlib.pyplot as plt\n",
    "# Plot the count of Non-Fraud and Fraud using a barplot\n",
    "plt.figure(figsize=(5.5, 5.5))\n",
    "sns.barplot(x='isFraud', y='count', data=counts, color='pink', edgecolor =\"b\")\n",
    "plt.title('Count of Non-Fraudulent & Fraudulent Transactions')\n",
    "plt.show()"
   ]
  },
  {
   "cell_type": "code",
   "execution_count": null,
   "id": "73e2a5b2",
   "metadata": {},
   "outputs": [],
   "source": [
    "df[\"isFraud\"] = df[\"isFraud\"].replace({\"Non-Fraud\": 0, \"Fraud\": 1})"
   ]
  },
  {
   "cell_type": "code",
   "execution_count": null,
   "id": "8fd371e4",
   "metadata": {},
   "outputs": [],
   "source": [
    "print(df[\"isFraud\"].unique())"
   ]
  },
  {
   "cell_type": "markdown",
   "id": "11cdf4e8",
   "metadata": {},
   "source": [
    "## Feature Encoding on entire dataset "
   ]
  },
  {
   "cell_type": "code",
   "execution_count": null,
   "id": "3b9d8393",
   "metadata": {},
   "outputs": [],
   "source": [
    "# Importing LabelEncoder from Sklearn\n",
    "# library from preprocessing Module.\n",
    "from sklearn.preprocessing import LabelEncoder\n",
    "# Creating a instance of label Encoder.\n",
    "le = LabelEncoder()\n",
    "# Using .fit_transform function to fit label\n",
    "# encoder and return encoded label\n",
    "label = le.fit_transform(df['type'])\n",
    "# printing label\n",
    "label\n",
    "# removing the column 'type' from df\n",
    "# as it is of no use now.\n",
    "df.drop(\"type\", axis=1, inplace=True)\n",
    "# Appending the array to our dataFrame\n",
    "# with column name 'type'\n",
    "df[\"type\"] = label\n",
    "# printing Dataframe\n",
    "#df"
   ]
  },
  {
   "cell_type": "code",
   "execution_count": null,
   "id": "5778b6db",
   "metadata": {},
   "outputs": [],
   "source": [
    "from sklearn.preprocessing import LabelEncoder\n",
    "le = LabelEncoder()\n",
    "label = le.fit_transform(df['nameDest'])\n",
    "label\n",
    "df.drop(\"nameDest\", axis=1, inplace=True)\n",
    "df[\"nameDest\"] = label\n",
    "#df"
   ]
  },
  {
   "cell_type": "code",
   "execution_count": null,
   "id": "dc78ab8d",
   "metadata": {},
   "outputs": [],
   "source": [
    "from sklearn.preprocessing import LabelEncoder\n",
    "le = LabelEncoder()\n",
    "label = le.fit_transform(df['nameOrig'])\n",
    "label\n",
    "df.drop(\"nameOrig\", axis=1, inplace=True)\n",
    "df[\"nameOrig\"] = label\n",
    "#df"
   ]
  },
  {
   "cell_type": "markdown",
   "id": "83f57a6d",
   "metadata": {},
   "source": [
    "# Split into train, validation and test"
   ]
  },
  {
   "cell_type": "code",
   "execution_count": null,
   "id": "d0a04c5b",
   "metadata": {},
   "outputs": [],
   "source": [
    "from sklearn.model_selection import train_test_split\n",
    "\n",
    "X = df.drop('isFraud', axis=1)\n",
    "# Separate the target variable\n",
    "y = df['isFraud']\n",
    "\n",
    "# Split the data into a 80%-20% train-test split\n",
    "X_train_full, X_test, y_train_full, y_test = train_test_split(X, y, test_size=0.2, random_state=18)\n",
    "\n",
    "# Split the training set again into a 75%-25% train-validation split\n",
    "X_train, X_val, y_train, y_val = train_test_split(X_train_full, y_train_full, test_size=0.25, random_state=18)"
   ]
  },
  {
   "cell_type": "markdown",
   "id": "a9ead6d7",
   "metadata": {},
   "source": [
    "The count of target variable without stratification"
   ]
  },
  {
   "cell_type": "code",
   "execution_count": null,
   "id": "bbf5c914",
   "metadata": {},
   "outputs": [],
   "source": [
    "y_train.value_counts(normalize=True)*100"
   ]
  },
  {
   "cell_type": "markdown",
   "id": "aaecd560",
   "metadata": {},
   "source": [
    "## Stratification"
   ]
  },
  {
   "cell_type": "code",
   "execution_count": null,
   "id": "b38a972f",
   "metadata": {},
   "outputs": [],
   "source": [
    "from sklearn.model_selection import train_test_split\n",
    "\n",
    "X = df.drop('isFraud', axis=1)\n",
    "# Separate the target variable\n",
    "y = df['isFraud']\n",
    "\n",
    "# Print class distribution before split\n",
    "print(y.value_counts(normalize=True))\n",
    "\n",
    "# # Split the data into a 80%-20% train-test split with stratification\n",
    "# X_train_full, X_test, y_train_full, y_test = train_test_split(X, y, test_size=0.2, random_state=18, stratify=y)\n",
    "\n",
    "# # Split the training set again into a 75%-25% train-validation split with stratification\n",
    "# X_train, X_val, y_train, y_val = train_test_split(X_train_full, y_train_full, test_size=0.25, random_state=18, stratify=y_train_full)\n",
    "\n",
    "# Split the data into a 80%-20% train-test split with stratification\n",
    "X_train_full, X_test, y_train_full, y_test = train_test_split(X, y, test_size=0.2, random_state=18, stratify=y)\n",
    "\n",
    "# Split the training set again into a 75%-25% train-validation split with stratification\n",
    "X_train, X_val, y_train, y_val = train_test_split(X_train_full, y_train_full, test_size=0.25, random_state=18, stratify=y_train_full)\n",
    "# Print class distribution after split\n",
    "print(y_train.value_counts(normalize=True))\n",
    "print(y_val.value_counts(normalize=True))\n",
    "print(y_test.value_counts(normalize=True))"
   ]
  },
  {
   "cell_type": "code",
   "execution_count": 9,
   "id": "668541a0",
   "metadata": {},
   "outputs": [
    {
     "name": "stdout",
     "output_type": "stream",
     "text": [
      "(3817572, 10)\n",
      "(1272524, 10)\n",
      "(1272524, 10)\n"
     ]
    }
   ],
   "source": [
    "print(X_train.shape)\n",
    "print(X_test.shape)\n",
    "print(X_val.shape)"
   ]
  },
  {
   "cell_type": "code",
   "execution_count": null,
   "id": "c6e6aff7",
   "metadata": {},
   "outputs": [],
   "source": [
    "from collections import Counter\n",
    "# summarize class distribution\n",
    "counter = Counter(y_train)\n",
    "print(counter)"
   ]
  },
  {
   "cell_type": "markdown",
   "id": "8021df25",
   "metadata": {},
   "source": [
    "# Safe-Level SMOTE:"
   ]
  },
  {
   "cell_type": "markdown",
   "id": "6cd9fda4",
   "metadata": {},
   "source": [
    "# Adaptive Synthetic Sampling (ADASYN): "
   ]
  },
  {
   "cell_type": "markdown",
   "id": "784d441e",
   "metadata": {},
   "source": [
    "# Borderline SMOTE: "
   ]
  },
  {
   "cell_type": "markdown",
   "id": "6662a3ab",
   "metadata": {},
   "source": [
    "# Save train, test and validation sets to csv"
   ]
  },
  {
   "cell_type": "code",
   "execution_count": 12,
   "id": "23918644",
   "metadata": {},
   "outputs": [],
   "source": [
    "import pandas as pd\n",
    "\n",
    "# Create a DataFrame from X_val and y_val\n",
    "val_df = pd.DataFrame(X_val, columns=X_train.columns)\n",
    "val_df['isFraud'] = y_val\n",
    "\n",
    "# Save the DataFrame to a CSV file\n",
    "val_df.to_csv(r\"C:\\Users\\23059\\OneDrive\\Desktop\\Amiira\\Y3S1\\fyp\\validation.csv\", index=False)"
   ]
  },
  {
   "cell_type": "code",
   "execution_count": null,
   "id": "934d8b92",
   "metadata": {},
   "outputs": [],
   "source": [
    "X_train.to_csv(r\"C:\\Users\\23059\\OneDrive\\Desktop\\Amiira\\Y3S1\\fyp\\train.csv\", index=False)\n",
    "X_test.to_csv(r\"C:\\Users\\23059\\OneDrive\\Desktop\\Amiira\\Y3S1\\fyp\\test.csv\", index=False)"
   ]
  },
  {
   "cell_type": "code",
   "execution_count": null,
   "id": "38e07573",
   "metadata": {},
   "outputs": [],
   "source": [
    "print(X_train.shape)"
   ]
  },
  {
   "cell_type": "markdown",
   "id": "25d3aed3",
   "metadata": {},
   "source": [
    "# Modified Z-score "
   ]
  },
  {
   "cell_type": "code",
   "execution_count": 13,
   "id": "042d62a6",
   "metadata": {},
   "outputs": [
    {
     "name": "stdout",
     "output_type": "stream",
     "text": [
      "Column amount\n",
      "Number of lower outliers for column: 0\n",
      "Number of upper outliers: 468104\n",
      "\n",
      "\n",
      "Column oldbalanceOrg\n",
      "Number of lower outliers for column: 0\n",
      "Number of upper outliers: 1155667\n",
      "\n",
      "\n",
      "Column newbalanceOrig\n",
      "Number of lower outliers for column: 0\n",
      "Number of upper outliers: 1651128\n",
      "\n",
      "\n",
      "Column oldbalanceDest\n",
      "Number of lower outliers for column: 0\n",
      "Number of upper outliers: 1189171\n",
      "\n",
      "\n",
      "Column newbalanceDest\n",
      "Number of lower outliers for column: 0\n",
      "Number of upper outliers: 1013811\n",
      "\n",
      "\n"
     ]
    }
   ],
   "source": [
    "# Select the columns you want to check for outliers\n",
    "columns_to_trim = ['amount', 'oldbalanceOrg', 'newbalanceOrig', 'oldbalanceDest', 'newbalanceDest']\n",
    "\n",
    "# Calculate modified Z-score for each column\n",
    "for col in columns_to_trim:\n",
    "    # Extract column values\n",
    "    col_values = X_train[col].values\n",
    "\n",
    "    # Calculate median and MAD\n",
    "    med = np.median(col_values)\n",
    "    mad = np.median(np.abs(col_values - med))\n",
    "    if mad == 0:\n",
    "        mad = 1e-6  # Set MAD to a small non-zero value to avoid division by zero\n",
    "\n",
    "    # Calculate modified Z-score\n",
    "    z_score = 0.6745 * (col_values - med) / mad\n",
    "\n",
    "    # Count number of lower and upper outliers\n",
    "    lower_outliers = np.sum(z_score < -2.5)\n",
    "    upper_outliers = np.sum(z_score > 2.5)\n",
    "\n",
    "    # Print results\n",
    "    print(f\"Column {col}\")\n",
    "    print(f\"Number of lower outliers for column: {lower_outliers}\")\n",
    "    print(f\"Number of upper outliers: {upper_outliers}\")\n",
    "    print(f\"\\n\")"
   ]
  },
  {
   "cell_type": "markdown",
   "id": "ff9b5399",
   "metadata": {},
   "source": [
    "## Skewness before removing outliers"
   ]
  },
  {
   "cell_type": "code",
   "execution_count": 14,
   "id": "dca60a53",
   "metadata": {},
   "outputs": [
    {
     "name": "stdout",
     "output_type": "stream",
     "text": [
      "31.684471192788504\n",
      "5.256180226479033\n",
      "5.182747568186058\n",
      "19.835074639803572\n",
      "19.358087662708293\n"
     ]
    }
   ],
   "source": [
    "from scipy.stats import skew\n",
    "skewness = skew(X_train.amount)\n",
    "print(skewness)\n",
    "skewness = skew(X_train.oldbalanceOrg)\n",
    "print(skewness)\n",
    "skewness = skew(X_train.newbalanceOrig)\n",
    "print(skewness)\n",
    "skewness = skew(X_train.oldbalanceDest)\n",
    "print(skewness)\n",
    "skewness = skew(X_train.newbalanceDest)\n",
    "print(skewness)"
   ]
  },
  {
   "cell_type": "markdown",
   "id": "b8189555",
   "metadata": {},
   "source": [
    "## Trim proportion"
   ]
  },
  {
   "cell_type": "code",
   "execution_count": 14,
   "id": "125178f1",
   "metadata": {},
   "outputs": [
    {
     "name": "stdout",
     "output_type": "stream",
     "text": [
      "For column amount, the data is skewed and heavy-tailed, so asymmetric trimming may be appropriate.\n",
      "For column oldbalanceOrg, the data is skewed and heavy-tailed, so asymmetric trimming may be appropriate.\n",
      "For column newbalanceOrig, the data is skewed and heavy-tailed, so asymmetric trimming may be appropriate.\n",
      "For column oldbalanceDest, the data is skewed and heavy-tailed, so asymmetric trimming may be appropriate.\n",
      "For column newbalanceDest, the data is skewed and heavy-tailed, so asymmetric trimming may be appropriate.\n"
     ]
    }
   ],
   "source": [
    "import pandas as pd\n",
    "import numpy as np\n",
    "\n",
    "\n",
    "# Extract the columns of interest\n",
    "cols = ['amount', 'oldbalanceOrg', 'newbalanceOrig', 'oldbalanceDest', 'newbalanceDest']\n",
    "data = X_train[cols]\n",
    "\n",
    "# Loop over each column and determine the direction of trimming\n",
    "for col in cols:\n",
    "    # Calculate the median and interquartile range of the column\n",
    "    median = np.median(data[col])\n",
    "    iqr = np.percentile(data[col], 75) - np.percentile(data[col], 25)\n",
    "\n",
    "    # Calculate the skewness of the column\n",
    "    skewness = data[col].skew()\n",
    "\n",
    "    # Determine whether to use symmetric or asymmetric trimming based on the skewness and IQR\n",
    "    if abs(skewness) > 1.5 or iqr > 2 * abs(median):\n",
    "        print(f\"For column {col}, the data is skewed and heavy-tailed, so asymmetric trimming may be appropriate.\")\n",
    "    else:\n",
    "        print(f\"For column {col}, the data is roughly symmetric, so symmetric trimming may be appropriate.\")"
   ]
  },
  {
   "cell_type": "markdown",
   "id": "a84df595",
   "metadata": {},
   "source": [
    "## Asymmetric trimmed means and Bootstrapping"
   ]
  },
  {
   "cell_type": "code",
   "execution_count": 10,
   "id": "db1a2f3a",
   "metadata": {},
   "outputs": [
    {
     "name": "stdout",
     "output_type": "stream",
     "text": [
      "Train set trimmed means:  {'amount': 89773.57177661227, 'oldbalanceOrg': 20627.732057183086, 'newbalanceOrig': 18310.770549828874, 'oldbalanceDest': 119363.83065127068, 'newbalanceDest': 162450.7211499809}\n"
     ]
    }
   ],
   "source": [
    "import random\n",
    "random.seed (11)\n",
    "import numpy as np\n",
    "from scipy import stats\n",
    "\n",
    "# Specify columns with outliers\n",
    "cols_with_outliers = ['amount', 'oldbalanceOrg', 'newbalanceOrig', 'oldbalanceDest', 'newbalanceDest']\n",
    "\n",
    "# Specify the number of bootstrapped samples to create per column\n",
    "num_samples = 50\n",
    "\n",
    "# Specify the right trimming proportions for each column\n",
    "trim_props = {'amount': 0.12, 'oldbalanceOrg': 0.22, 'newbalanceOrig': 0.22, 'oldbalanceDest': 0.29, 'newbalanceDest': 0.29}\n",
    "\n",
    "# Initialize empty dictionaries to store the trimmed means for each column\n",
    "train_trimmed_means = {}\n",
    "\n",
    "# Loop over the specified columns\n",
    "for col_name in cols_with_outliers:\n",
    "    \n",
    "    # Check if the trimming proportion for this column is 0\n",
    "    if trim_props[col_name] == 0:\n",
    "        # If so, skip this column and move on to the next one\n",
    "        continue\n",
    "    \n",
    "    # Initialize empty lists to store the bootstrapped samples and the trimmed means for the training set\n",
    "    train_bootstrapped_samples = []\n",
    "    train_trimmed_means_list = []\n",
    "    \n",
    "    # Loop over the number of desired samples\n",
    "    for i in range(num_samples):\n",
    "        # Randomly select indices from the column in the training set\n",
    "        train_sample_indices = np.random.choice(X_train.index, size=len(X_train), replace=True)\n",
    "        \n",
    "        # Create a bootstrapped sample by indexing into the column with the selected indices for the training set\n",
    "        train_sample = X_train.loc[train_sample_indices, col_name]\n",
    "        \n",
    "        # Append the bootstrapped samples to the list for the training set\n",
    "        train_bootstrapped_samples.append(train_sample)\n",
    "        \n",
    "        # Calculate the right trimmed mean of the bootstrapped sample for the training set\n",
    "        train_right_trimmed_mean = np.mean(train_sample[train_sample <= np.percentile(train_sample, 100*(1-trim_props[col_name]))])\n",
    "        train_trimmed_means_list.append(train_right_trimmed_mean)\n",
    "        \n",
    "    # Calculate the mean of the right trimmed means for the training set and add it to the dictionary\n",
    "    train_trimmed_means[col_name] = np.mean(train_trimmed_means_list)\n",
    "\n",
    "    # Replace the outliers in the training set with the trimmed means\n",
    "    X_train.loc[X_train[col_name] > np.percentile(X_train[col_name], 100*(1-trim_props[col_name])), col_name] = train_trimmed_means[col_name]\n",
    "\n",
    "# Print the trimmed means for each column separately for the training set\n",
    "print(\"Train set trimmed means: \", train_trimmed_means)"
   ]
  },
  {
   "cell_type": "code",
   "execution_count": 2,
   "id": "4f51922b",
   "metadata": {},
   "outputs": [],
   "source": [
    "# count = (X_train['amount'] == 14793.948294785117).sum()\n",
    "# print(count)\n",
    "# count = (X_train['oldbalanceOrg'] == 6367.162451237726).sum()\n",
    "# print(count)\n",
    "# count = (X_train['newbalanceOrig'] == 990.4751087978151).sum()\n",
    "# print(count)\n",
    "# count = (X_train['oldbalanceDest'] ==  10188.054727652307).sum()\n",
    "# print(count)\n",
    "# count = (X_train['newbalanceDest'] == 19552.789367260193).sum()\n",
    "# print(count)"
   ]
  },
  {
   "cell_type": "markdown",
   "id": "29728556",
   "metadata": {},
   "source": [
    "## Skewness of treating outliers"
   ]
  },
  {
   "cell_type": "code",
   "execution_count": 18,
   "id": "999f62d3",
   "metadata": {},
   "outputs": [
    {
     "name": "stdout",
     "output_type": "stream",
     "text": [
      "0.8193569673245206\n",
      "1.3277151692972962\n",
      "1.0017185600487193\n",
      "0.40702013266393566\n",
      "0.2785490194501327\n"
     ]
    }
   ],
   "source": [
    "from scipy.stats import skew\n",
    "skewness = skew(X_train.amount)\n",
    "print(skewness)\n",
    "skewness = skew(X_train.oldbalanceOrg)\n",
    "print(skewness)\n",
    "skewness = skew(X_train.newbalanceOrig)\n",
    "print(skewness)\n",
    "skewness = skew(X_train.oldbalanceDest)\n",
    "print(skewness)\n",
    "skewness = skew(X_train.newbalanceDest)\n",
    "print(skewness)"
   ]
  },
  {
   "cell_type": "markdown",
   "id": "e48dc5d8",
   "metadata": {},
   "source": [
    "# Save train file after handling outliers"
   ]
  },
  {
   "cell_type": "code",
   "execution_count": null,
   "id": "f358784f",
   "metadata": {},
   "outputs": [],
   "source": [
    " # save the trimmed train to new files\n",
    "X_train.to_csv(r\"C:\\Users\\23059\\OneDrive\\Desktop\\Amiira\\Y3S1\\fyp\\trainAFTERHANDLINGOUTLIERS.csv\", index=False)"
   ]
  },
  {
   "cell_type": "markdown",
   "id": "fddbb386",
   "metadata": {},
   "source": [
    "# Check number of outliers after handling the outliers"
   ]
  },
  {
   "cell_type": "markdown",
   "id": "0adb6252",
   "metadata": {},
   "source": [
    "# Modified Z-Score"
   ]
  },
  {
   "cell_type": "code",
   "execution_count": null,
   "id": "40b05313",
   "metadata": {},
   "outputs": [],
   "source": [
    "# Select the columns you want to check for outliers\n",
    "columns_to_trim = ['amount', 'oldbalanceOrg', 'newbalanceOrig', 'oldbalanceDest', 'newbalanceDest']\n",
    "\n",
    "# Calculate modified Z-score for each column\n",
    "for col in columns_to_trim:\n",
    "    # Extract column values\n",
    "    col_values = X_train[col].values\n",
    "\n",
    "    # Calculate median and MAD\n",
    "    med = np.median(col_values)\n",
    "    mad = np.median(np.abs(col_values - med))\n",
    "    if mad == 0:\n",
    "        mad = 1e-6  # Set MAD to a small non-zero value to avoid division by zero\n",
    "\n",
    "    # Calculate modified Z-score\n",
    "    z_score = 0.6745 * (col_values - med) / mad\n",
    "\n",
    "    # Count number of lower and upper outliers\n",
    "    lower_outliers = np.sum(z_score < -2.5)\n",
    "    upper_outliers = np.sum(z_score > 2.5)\n",
    "\n",
    "    # Print results\n",
    "    print(f\"Column {col}\")\n",
    "    print(f\"Number of lower outliers for column: {lower_outliers}\")\n",
    "    print(f\"Number of upper outliers: {upper_outliers}\")\n",
    "    print(f\"\\n\")"
   ]
  },
  {
   "cell_type": "markdown",
   "id": "f5d2b891",
   "metadata": {},
   "source": [
    "# Concept 1-Feature Selection using random Forest"
   ]
  },
  {
   "cell_type": "code",
   "execution_count": 13,
   "id": "35692974",
   "metadata": {},
   "outputs": [],
   "source": [
    "import pandas as pd\n",
    "import matplotlib.pyplot as plt\n",
    "from sklearn.ensemble import RandomForestClassifier\n",
    "from sklearn.model_selection import train_test_split\n",
    "from sklearn.model_selection import StratifiedKFold"
   ]
  },
  {
   "cell_type": "markdown",
   "id": "0da18ac4",
   "metadata": {},
   "source": [
    "Add stratified K-fold Cross Validation (Good for imbalance set)"
   ]
  },
  {
   "cell_type": "code",
   "execution_count": 14,
   "id": "105f964c",
   "metadata": {},
   "outputs": [],
   "source": [
    "from sklearn.ensemble import RandomForestClassifier\n",
    "from sklearn.model_selection import cross_val_score, learning_curve\n",
    "import numpy as np\n",
    "import matplotlib.pyplot as plt"
   ]
  },
  {
   "cell_type": "markdown",
   "id": "2e36b31f",
   "metadata": {},
   "source": [
    "## Random forest selects the best features"
   ]
  },
  {
   "cell_type": "code",
   "execution_count": 15,
   "id": "fddb97b7",
   "metadata": {},
   "outputs": [
    {
     "data": {
      "text/plain": [
       "RandomForestClassifier(random_state=42)"
      ]
     },
     "execution_count": 15,
     "metadata": {},
     "output_type": "execute_result"
    }
   ],
   "source": [
    "from sklearn.ensemble import RandomForestClassifier\n",
    "import matplotlib.pyplot as plt\n",
    "import numpy as np\n",
    "\n",
    "# Define a random forest classifier with 100 trees\n",
    "rfc = RandomForestClassifier(n_estimators=100, random_state=18)\n",
    "\n",
    "# Fit the random forest classifier to the training set\n",
    "rfc.fit(X_train, y_train)"
   ]
  },
  {
   "cell_type": "code",
   "execution_count": 16,
   "id": "d627a32a",
   "metadata": {},
   "outputs": [],
   "source": [
    "# Get the feature importances from the random forest\n",
    "importances = rfc.feature_importances_"
   ]
  },
  {
   "cell_type": "code",
   "execution_count": 17,
   "id": "c23733dd",
   "metadata": {},
   "outputs": [],
   "source": [
    "# Get the indices of the features in decreasing order of importance\n",
    "indices = importances.argsort()[::-1]"
   ]
  },
  {
   "cell_type": "code",
   "execution_count": 18,
   "id": "af5dc856",
   "metadata": {},
   "outputs": [],
   "source": [
    "# Get the feature names and importance scores in two separate arrays\n",
    "feature_names = X_train.columns\n",
    "feature_importances = importances[indices]"
   ]
  },
  {
   "cell_type": "code",
   "execution_count": 19,
   "id": "0ca7e215",
   "metadata": {},
   "outputs": [],
   "source": [
    "# Calculate the cumulative importance scores\n",
    "cumulative_importances = np.cumsum(feature_importances)"
   ]
  },
  {
   "cell_type": "code",
   "execution_count": 20,
   "id": "7741fa61",
   "metadata": {},
   "outputs": [
    {
     "data": {
      "text/plain": [
       "Text(0.5, 1.0, 'Variable Importance - Mean Decrease in Gini')"
      ]
     },
     "execution_count": 20,
     "metadata": {},
     "output_type": "execute_result"
    },
    {
     "data": {
      "image/png": "[encoded data removed]",
      "text/plain": [
       "<Figure size 1200x600 with 1 Axes>"
      ]
     },
     "metadata": {},
     "output_type": "display_data"
    }
   ],
   "source": [
    "# Plot the variable importance scores\n",
    "plt.figure(figsize=(12, 6))\n",
    "plt.bar(range(len(feature_importances)), feature_importances, align='center')\n",
    "plt.xticks(range(len(feature_importances)), feature_names[indices], rotation=90)\n",
    "plt.xlabel('Feature')\n",
    "plt.ylabel('Importance Score')\n",
    "plt.title('Variable Importance - Mean Decrease in Gini')"
   ]
  },
  {
   "cell_type": "code",
   "execution_count": 21,
   "id": "5a8018c9",
   "metadata": {},
   "outputs": [
    {
     "data": {
      "text/plain": [
       "Text(0.5, 1.0, 'Cumulative Variable Importance - Mean Decrease in Gini')"
      ]
     },
     "execution_count": 21,
     "metadata": {},
     "output_type": "execute_result"
    },
    {
     "data": {
      "image/png": "[encoded data removed]",
      "text/plain": [
       "<Figure size 1200x600 with 1 Axes>"
      ]
     },
     "metadata": {},
     "output_type": "display_data"
    }
   ],
   "source": [
    "# Plot the cumulative importance scores\n",
    "plt.figure(figsize=(12, 6))\n",
    "plt.plot(range(len(feature_importances)), cumulative_importances)\n",
    "plt.xticks(range(len(feature_importances)), feature_names[indices], rotation=90)\n",
    "plt.xlabel('Feature')\n",
    "plt.ylabel('Cumulative Importance Score')\n",
    "plt.title('Cumulative Variable Importance - Mean Decrease in Gini')"
   ]
  },
  {
   "cell_type": "code",
   "execution_count": 22,
   "id": "aea4b831",
   "metadata": {},
   "outputs": [],
   "source": [
    "# Calculate the mean decrease in accuracy for each feature\n",
    "perm_importances = rfc.feature_importances_\n",
    "perm_scores = []\n",
    "for i in X_train.columns:\n",
    "    X_train_perm = X_train.copy()\n",
    "    X_train_perm[i] = np.random.permutation(X_train_perm[i])\n",
    "    perm_score = rfc.score(X_train_perm, y_train)\n",
    "    perm_scores.append(perm_score)\n",
    "    \n",
    "mean_decrease_accuracy = np.array(perm_scores) - rfc.score(X_train, y_train)"
   ]
  },
  {
   "cell_type": "code",
   "execution_count": 23,
   "id": "8957bfbb",
   "metadata": {},
   "outputs": [],
   "source": [
    "# Get the indices of the features in decreasing order of importance\n",
    "indices = mean_decrease_accuracy.argsort()[::-1]"
   ]
  },
  {
   "cell_type": "code",
   "execution_count": 24,
   "id": "254a875e",
   "metadata": {},
   "outputs": [],
   "source": [
    "# Get the feature names and importance scores in two separate arrays\n",
    "feature_names = X_train.columns\n",
    "feature_importances = mean_decrease_accuracy[indices]"
   ]
  },
  {
   "cell_type": "code",
   "execution_count": 25,
   "id": "eeb5632f",
   "metadata": {},
   "outputs": [],
   "source": [
    "# Calculate the cumulative importance scores\n",
    "cumulative_importances = np.cumsum(feature_importances)"
   ]
  },
  {
   "cell_type": "code",
   "execution_count": 26,
   "id": "24ce100a",
   "metadata": {},
   "outputs": [
    {
     "data": {
      "text/plain": [
       "Text(0.5, 1.0, 'Variable Importance - Mean Decrease in Accuracy')"
      ]
     },
     "execution_count": 26,
     "metadata": {},
     "output_type": "execute_result"
    },
    {
     "data": {
      "image/png": "[encoded data removed]",
      "text/plain": [
       "<Figure size 1200x600 with 1 Axes>"
      ]
     },
     "metadata": {},
     "output_type": "display_data"
    }
   ],
   "source": [
    "# Plot the variable importance scores\n",
    "plt.figure(figsize=(12, 6))\n",
    "plt.bar(range(len(feature_importances)), feature_importances, align='center')\n",
    "plt.xticks(range(len(feature_importances)), feature_names[indices], rotation=90)\n",
    "plt.xlabel('Feature')\n",
    "plt.ylabel('Importance Score')\n",
    "plt.title('Variable Importance - Mean Decrease in Accuracy')"
   ]
  },
  {
   "cell_type": "code",
   "execution_count": 27,
   "id": "5bdca1c3",
   "metadata": {},
   "outputs": [
    {
     "data": {
      "image/png": "[encoded data removed]",
      "text/plain": [
       "<Figure size 1200x600 with 1 Axes>"
      ]
     },
     "metadata": {},
     "output_type": "display_data"
    }
   ],
   "source": [
    "# Plot the cumulative importance scores\n",
    "plt.figure(figsize=(12, 6))\n",
    "plt.plot(range(len(feature_importances)), cumulative_importances)\n",
    "plt.xticks(range(len(feature_importances)), feature_names[indices], rotation=90)\n",
    "plt.xlabel('Feature')\n",
    "plt.ylabel('Cumulative Importance Score')\n",
    "plt.title('Cumulative Variable Importance - Mean Decrease in Accuracy')\n",
    "\n",
    "plt.show()"
   ]
  },
  {
   "cell_type": "markdown",
   "id": "d12e4fe4",
   "metadata": {},
   "source": [
    "## Once RF choses best features, use them to find hyperparameters"
   ]
  },
  {
   "cell_type": "code",
   "execution_count": 1,
   "id": "43fce286",
   "metadata": {},
   "outputs": [
    {
     "ename": "NameError",
     "evalue": "name 'X_train' is not defined",
     "output_type": "error",
     "traceback": [
      "\u001b[1;31m---------------------------------------------------------------------------\u001b[0m",
      "\u001b[1;31mNameError\u001b[0m                                 Traceback (most recent call last)",
      "\u001b[1;32m~\\AppData\\Local\\Temp\\ipykernel_22736\\3648716832.py\u001b[0m in \u001b[0;36m<module>\u001b[1;34m\u001b[0m\n\u001b[0;32m      3\u001b[0m \u001b[1;33m\u001b[0m\u001b[0m\n\u001b[0;32m      4\u001b[0m \u001b[1;31m# Define your X and y data using selected columns from X_train\u001b[0m\u001b[1;33m\u001b[0m\u001b[1;33m\u001b[0m\u001b[1;33m\u001b[0m\u001b[0m\n\u001b[1;32m----> 5\u001b[1;33m \u001b[0mX\u001b[0m \u001b[1;33m=\u001b[0m \u001b[0mX_train\u001b[0m\u001b[1;33m[\u001b[0m\u001b[1;33m[\u001b[0m\u001b[1;34m'col1'\u001b[0m\u001b[1;33m,\u001b[0m \u001b[1;34m'col2'\u001b[0m\u001b[1;33m,\u001b[0m \u001b[1;34m'col3'\u001b[0m\u001b[1;33m]\u001b[0m\u001b[1;33m]\u001b[0m\u001b[1;33m\u001b[0m\u001b[1;33m\u001b[0m\u001b[0m\n\u001b[0m\u001b[0;32m      6\u001b[0m \u001b[0my\u001b[0m \u001b[1;33m=\u001b[0m \u001b[0my_train\u001b[0m\u001b[1;33m\u001b[0m\u001b[1;33m\u001b[0m\u001b[0m\n\u001b[0;32m      7\u001b[0m \u001b[1;33m\u001b[0m\u001b[0m\n",
      "\u001b[1;31mNameError\u001b[0m: name 'X_train' is not defined"
     ]
    }
   ],
   "source": [
    "import xgboost as xgb\n",
    "from sklearn.model_selection import GridSearchCV\n",
    "\n",
    "# Define your X and y data using selected columns from X_train\n",
    "X = X_train[['col1', 'col2', 'col3']]\n",
    "y = y_train\n",
    "\n",
    "# Create a parameter grid to search over\n",
    "param_grid = {\n",
    "    'learning_rate': [0.1, 0.3, 0.5],\n",
    "    'max_depth': [3, 5, 7],\n",
    "    'n_estimators': [50, 100, 150],\n",
    "    'colsample_bytree': [0.5, 0.7, 1.0]\n",
    "}\n",
    "\n",
    "# Initialize XGBoost classifier\n",
    "xgb_model = xgb.XGBClassifier()\n",
    "\n",
    "# Create GridSearchCV object\n",
    "grid_search = GridSearchCV(xgb_model, param_grid, cv=5)\n",
    "\n",
    "# Fit the grid search object to the data\n",
    "grid_search.fit(X, y)\n",
    "\n",
    "# Print the best parameters and mean cross-validation score\n",
    "print(\"Best parameters: \", grid_search.best_params_)\n",
    "print(\"Best score: \", grid_search.best_score_)"
   ]
  },
  {
   "cell_type": "markdown",
   "id": "b93da000",
   "metadata": {},
   "source": [
    "## Train logistic regression  without hyperparameter tuning"
   ]
  },
  {
   "cell_type": "code",
   "execution_count": null,
   "id": "57d31fb1",
   "metadata": {},
   "outputs": [],
   "source": [
    "from sklearn.linear_model import LogisticRegression\n",
    "from sklearn.model_selection import StratifiedKFold\n",
    "from sklearn.metrics import accuracy_score\n",
    "import matplotlib.pyplot as plt\n",
    "\n",
    "# Define the number of splits for stratified k-fold cross-validation\n",
    "n_splits = 5\n",
    "\n",
    "# Initialize stratified k-fold cross-validation\n",
    "skf = StratifiedKFold(n_splits=n_splits, shuffle=True, random_state=42)\n",
    "\n",
    "# Initialize Logistic Regression classifier\n",
    "lr = LogisticRegression()\n",
    "\n",
    "train_scores = []\n",
    "val_scores = []\n",
    "\n",
    "# Loop over the folds in the cross-validation\n",
    "for train_index, val_index in skf.split(X_train, y_train):\n",
    "    \n",
    "    # Split the data into training and validation sets for this fold\n",
    "    X_train_fold, X_val_fold = X_train[train_index], X_train[val_index]\n",
    "    y_train_fold, y_val_fold = y_train[train_index], y_train[val_index]\n",
    "\n",
    "    # Fit the logistic regression model on the training set for this fold\n",
    "    lr.fit(X_train_fold, y_train_fold)\n",
    "\n",
    "    # Predict on training set for this fold\n",
    "    y_train_pred = lr.predict(X_train_fold)\n",
    "\n",
    "    # Evaluate accuracy on training set for this fold\n",
    "    train_acc = accuracy_score(y_train_fold, y_train_pred)\n",
    "\n",
    "    # Predict on validation set for this fold\n",
    "    y_val_pred = lr.predict(X_val_fold)\n",
    "\n",
    "    # Evaluate accuracy on validation set for this fold\n",
    "    val_acc = accuracy_score(y_val_fold, y_val_pred)\n",
    "\n",
    "    # Append the scores to the lists\n",
    "    train_scores.append(train_acc)\n",
    "    val_scores.append(val_acc)\n",
    "\n",
    "# Print average train and validation scores\n",
    "print(\"Average training accuracy:\", sum(train_scores) / n_splits)\n",
    "print(\"Average validation accuracy:\", sum(val_scores) / n_splits)\n",
    "\n",
    "# Plot the train and validation scores for all folds\n",
    "plt.plot(train_scores, label=\"Training scores\")\n",
    "plt.plot(val_scores, label=\"Validation scores\")\n",
    "plt.xlabel(\"Fold\")\n",
    "plt.ylabel(\"Accuracy\")\n",
    "plt.title(\"Train and Validation Scores\")\n",
    "plt.legend()\n",
    "plt.show()\n",
    "\n",
    "# Check if the model is overfitting\n",
    "if sum(val_scores) / n_splits < sum(train_scores) / n_splits:\n",
    "    print(\"The model is overfitting.\")\n",
    "else:\n",
    "    print(\"The model is not overfitting.\")\n"
   ]
  },
  {
   "cell_type": "markdown",
   "id": "147fb18f",
   "metadata": {},
   "source": [
    "## Train logistic regression  with hyperparameter tuning"
   ]
  },
  {
   "cell_type": "code",
   "execution_count": null,
   "id": "ebe9c192",
   "metadata": {},
   "outputs": [],
   "source": []
  },
  {
   "cell_type": "markdown",
   "id": "096ba9eb",
   "metadata": {},
   "source": [
    "# Concept 1- Feature selection using Mutual Information"
   ]
  },
  {
   "cell_type": "code",
   "execution_count": null,
   "id": "e31bc58d",
   "metadata": {},
   "outputs": [],
   "source": [
    "from sklearn.feature_selection import SelectKBest, mutual_info_classif\n",
    "\n",
    "# Select the top k features based on mutual information\n",
    "k = 5\n",
    "selector = SelectKBest(score_func=mutual_info_classif, k=k)\n",
    "X_train_selected = selector.fit_transform(X_train, y_train)\n",
    "\n",
    "# Get the indices of the selected features\n",
    "selected_feature_indices = selector.get_support(indices=True)\n",
    "\n",
    "# Get the names of the selected features\n",
    "selected_features = X_train.columns[selected_feature_indices]\n",
    "\n",
    "# Print the names of the selected features\n",
    "print(selected_features)"
   ]
  },
  {
   "cell_type": "markdown",
   "id": "4fd0605f",
   "metadata": {},
   "source": [
    "# Random Forest Feature Selection"
   ]
  },
  {
   "cell_type": "markdown",
   "id": "3f7e6713",
   "metadata": {},
   "source": [
    "As we can see, there are hyperparameters which can be adjusted:\n",
    "The RandomForestClassifier in scikit-learn has a number of hyperparameters that can be tuned to optimize model performance. Here are some of the most commonly used ones:\n",
    "1. n_estimators\n",
    "2.max_depth\n",
    "3.min_samples_split\n",
    "4.bootstrap\n",
    "5.min_samples_leaf"
   ]
  },
  {
   "cell_type": "code",
   "execution_count": null,
   "id": "3d18ede5",
   "metadata": {},
   "outputs": [],
   "source": [
    "from sklearn.ensemble import RandomForestClassifier\n",
    "import numpy as np\n",
    "import matplotlib.pyplot as plt"
   ]
  },
  {
   "cell_type": "code",
   "execution_count": null,
   "id": "55e0a6ca",
   "metadata": {},
   "outputs": [],
   "source": [
    "# instantiate the classifier with the desired hyperparameters\n",
    "rfc = RandomForestClassifier(n_estimators=50, max_depth=10, min_samples_split=2, min_samples_leaf=1, max_features='auto', bootstrap=True, random_state=42)"
   ]
  },
  {
   "cell_type": "code",
   "execution_count": null,
   "id": "7af848be",
   "metadata": {},
   "outputs": [],
   "source": [
    "rfc.fit(X_train, y_train)"
   ]
  },
  {
   "cell_type": "code",
   "execution_count": null,
   "id": "36b1b6fe",
   "metadata": {},
   "outputs": [],
   "source": [
    "importances = rfc.feature_importances_"
   ]
  },
  {
   "cell_type": "code",
   "execution_count": null,
   "id": "51d1d076",
   "metadata": {},
   "outputs": [],
   "source": [
    "indices = np.argsort(importances)[::-1]"
   ]
  },
  {
   "cell_type": "code",
   "execution_count": null,
   "id": "e7810042",
   "metadata": {},
   "outputs": [],
   "source": [
    "plt.figure()\n",
    "plt.title(\"Mean Decrease in Gini Importance\")\n",
    "plt.bar(range(X_train.shape[1]), importances[indices],\n",
    "       color=\"r\", align=\"center\")\n",
    "#plt.xticks(range(X_train.shape[1]), indices)\n",
    "plt.xticks(range(X_train.shape[1]), X_train.columns[indices])\n",
    "plt.xlim([-1, X_train.shape[1]])\n",
    "plt.show()"
   ]
  },
  {
   "cell_type": "code",
   "execution_count": null,
   "id": "20049b48",
   "metadata": {},
   "outputs": [],
   "source": [
    "from sklearn.inspection import permutation_importance\n",
    "\n",
    "result = permutation_importance(rfc, X_train, y_train, n_repeats=10, random_state=0)\n",
    "\n",
    "plt.figure()\n",
    "plt.title(\"Mean Decrease in Accuracy Importance\")\n",
    "plt.bar(range(X_train.shape[1]), result.importances_mean[indices],\n",
    "       color=\"r\", align=\"center\")\n",
    "plt.xticks(range(X_train.shape[1]), indices)\n",
    "plt.xlim([-1, X_train.shape[1]])\n",
    "plt.show()"
   ]
  },
  {
   "cell_type": "markdown",
   "id": "52f4d13b",
   "metadata": {},
   "source": [
    "# Concept 1- Recursive Feature Elimination (RFE)"
   ]
  },
  {
   "cell_type": "markdown",
   "id": "16ad1292",
   "metadata": {},
   "source": [
    "For classification with small training samples and\n",
    "high dimensionality, feature selection plays an\n",
    "important role in avoiding overfitting problems and\n",
    "improving classification performance."
   ]
  },
  {
   "cell_type": "code",
   "execution_count": null,
   "id": "0401d991",
   "metadata": {},
   "outputs": [],
   "source": [
    "from sklearn.feature_selection import RFE\n",
    "sel=RFE(RandomForestClassifier(n_estimators=10,random_state=18,n_jobs=-1),n_features_to_select=5)\n",
    "sel.fit(X_train,y_train)"
   ]
  },
  {
   "cell_type": "code",
   "execution_count": null,
   "id": "da62f64b",
   "metadata": {},
   "outputs": [],
   "source": [
    "sel.get_support()"
   ]
  },
  {
   "cell_type": "code",
   "execution_count": null,
   "id": "e0037830",
   "metadata": {},
   "outputs": [],
   "source": [
    "features = X_train.columns[sel.get_support()]"
   ]
  },
  {
   "cell_type": "code",
   "execution_count": null,
   "id": "f459c4a9",
   "metadata": {},
   "outputs": [],
   "source": [
    "features"
   ]
  },
  {
   "cell_type": "code",
   "execution_count": null,
   "id": "9b32c1b0",
   "metadata": {},
   "outputs": [],
   "source": [
    "len(features)"
   ]
  },
  {
   "cell_type": "markdown",
   "id": "0294a594",
   "metadata": {},
   "source": [
    "# Concept 1 - Feature Selection by Gradient Boost Algorithm"
   ]
  },
  {
   "cell_type": "code",
   "execution_count": null,
   "id": "a50ca2ec",
   "metadata": {},
   "outputs": [],
   "source": []
  },
  {
   "cell_type": "markdown",
   "id": "605f1152",
   "metadata": {},
   "source": [
    "# Feature Selection using ROC and AUC"
   ]
  },
  {
   "cell_type": "code",
   "execution_count": null,
   "id": "db6a5b3a",
   "metadata": {},
   "outputs": [],
   "source": [
    "from sklearn.metrics import accuracy, roc_auc_score\n",
    "from sklearn.feature_selection import Variancethreshold\n",
    "from sklearn.ensemble import RandomForestClassifier"
   ]
  },
  {
   "cell_type": "code",
   "execution_count": null,
   "id": "5c19a046",
   "metadata": {},
   "outputs": [],
   "source": []
  },
  {
   "cell_type": "code",
   "execution_count": null,
   "id": "59347669",
   "metadata": {},
   "outputs": [],
   "source": []
  },
  {
   "cell_type": "code",
   "execution_count": null,
   "id": "4cf84a00",
   "metadata": {},
   "outputs": [],
   "source": []
  },
  {
   "cell_type": "code",
   "execution_count": null,
   "id": "8e3001f7",
   "metadata": {},
   "outputs": [],
   "source": []
  },
  {
   "cell_type": "markdown",
   "id": "1abfdef4",
   "metadata": {},
   "source": [
    "# Concept 2- Feature Extraction -> PCA"
   ]
  },
  {
   "cell_type": "code",
   "execution_count": null,
   "id": "605b4c17",
   "metadata": {},
   "outputs": [],
   "source": []
  },
  {
   "cell_type": "markdown",
   "id": "484591bf",
   "metadata": {},
   "source": [
    "# Handle class imbalance during training using threshold moving algo"
   ]
  },
  {
   "cell_type": "code",
   "execution_count": null,
   "id": "a60c31d5",
   "metadata": {},
   "outputs": [],
   "source": []
  },
  {
   "cell_type": "markdown",
   "id": "f1218c17",
   "metadata": {},
   "source": [
    "# Cost Sensitive Learning to handle class imbalance"
   ]
  }
 ],
 "metadata": {
  "kernelspec": {
   "display_name": "Python 3 (ipykernel)",
   "language": "python",
   "name": "python3"
  },
  "language_info": {
   "codemirror_mode": {
    "name": "ipython",
    "version": 3
   },
   "file_extension": ".py",
   "mimetype": "text/x-python",
   "name": "python",
   "nbconvert_exporter": "python",
   "pygments_lexer": "ipython3",
   "version": "3.7.16"
  }
 },
 "nbformat": 4,
 "nbformat_minor": 5
}
